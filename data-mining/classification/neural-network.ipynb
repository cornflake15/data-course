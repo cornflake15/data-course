{
 "cells": [
  {
   "cell_type": "code",
   "execution_count": 1,
   "metadata": {},
   "outputs": [],
   "source": [
    "# Implementasi algoritma Artificial Neural Network menggunakan Keras dan Tensorflow"
   ]
  },
  {
   "cell_type": "code",
   "execution_count": 2,
   "metadata": {},
   "outputs": [],
   "source": [
    "import tensorflow as tf\n",
    "import numpy as np\n",
    "from tensorflow import keras"
   ]
  },
  {
   "cell_type": "code",
   "execution_count": 26,
   "metadata": {},
   "outputs": [],
   "source": [
    "model = keras.Sequential([keras.layers.Dense(units=1, input_shape=[1])])"
   ]
  },
  {
   "cell_type": "code",
   "execution_count": 27,
   "metadata": {},
   "outputs": [],
   "source": [
    "tf.keras.backend.clear_session()\n",
    "model.compile(optimizer='sgd', loss='mean_squared_error')"
   ]
  },
  {
   "cell_type": "code",
   "execution_count": 28,
   "metadata": {},
   "outputs": [],
   "source": [
    "X = np.array([-1.0,  0.0, 1.0, 2.0, 3.0, 4.0], dtype=float)\n",
    "y = np.array([-3.0, -1.0, 1.0, 3.0, 5.0, 7.0], dtype=float)"
   ]
  },
  {
   "cell_type": "code",
   "execution_count": 29,
   "metadata": {},
   "outputs": [
    {
     "name": "stdout",
     "output_type": "stream",
     "text": [
      "Epoch 1/10\n",
      "1/1 [==============================] - 0s 0s/step - loss: 38.8404\n",
      "Epoch 2/10\n",
      "1/1 [==============================] - 0s 1000us/step - loss: 30.9080\n",
      "Epoch 3/10\n",
      "1/1 [==============================] - 0s 2ms/step - loss: 24.6599\n",
      "Epoch 4/10\n",
      "1/1 [==============================] - 0s 1ms/step - loss: 19.7372\n",
      "Epoch 5/10\n",
      "1/1 [==============================] - 0s 0s/step - loss: 15.8574\n",
      "Epoch 6/10\n",
      "1/1 [==============================] - 0s 2ms/step - loss: 12.7981\n",
      "Epoch 7/10\n",
      "1/1 [==============================] - 0s 2ms/step - loss: 10.3846\n",
      "Epoch 8/10\n",
      "1/1 [==============================] - 0s 2ms/step - loss: 8.4793\n",
      "Epoch 9/10\n",
      "1/1 [==============================] - 0s 2ms/step - loss: 6.9740\n",
      "Epoch 10/10\n",
      "1/1 [==============================] - 0s 1ms/step - loss: 5.7834\n"
     ]
    },
    {
     "data": {
      "text/plain": [
       "<tensorflow.python.keras.callbacks.History at 0x2012aa78970>"
      ]
     },
     "execution_count": 29,
     "metadata": {},
     "output_type": "execute_result"
    }
   ],
   "source": [
    "model.fit(X, y, epochs=10)"
   ]
  },
  {
   "cell_type": "code",
   "execution_count": 30,
   "metadata": {},
   "outputs": [
    {
     "name": "stdout",
     "output_type": "stream",
     "text": [
      "[[7.837426]]\n"
     ]
    }
   ],
   "source": [
    "print(model.predict([10.0]))"
   ]
  },
  {
   "cell_type": "code",
   "execution_count": 31,
   "metadata": {},
   "outputs": [],
   "source": [
    "# Example 1"
   ]
  },
  {
   "cell_type": "code",
   "execution_count": 48,
   "metadata": {},
   "outputs": [],
   "source": [
    "X = np.array([[3, 5], [5, 1], [10, 2], [3, 2], [4, 3], [6, 7], [8, 10]])\n",
    "y = np.array([75, 82, 93, 60, 63, 94, 97])"
   ]
  },
  {
   "cell_type": "code",
   "execution_count": 49,
   "metadata": {
    "scrolled": true
   },
   "outputs": [
    {
     "name": "stdout",
     "output_type": "stream",
     "text": [
      "(7, 2)\n",
      "(7,)\n"
     ]
    }
   ],
   "source": [
    "print(X.shape)\n",
    "print(y.shape)"
   ]
  },
  {
   "cell_type": "code",
   "execution_count": 51,
   "metadata": {},
   "outputs": [],
   "source": [
    "from sklearn.preprocessing import StandardScaler\n",
    "\n",
    "scaler = StandardScaler()\n",
    "X_scale = scaler.fit_transform(X)\n",
    "y_scale = scaler.fit_transform(y.reshape(-1, 1))"
   ]
  },
  {
   "cell_type": "code",
   "execution_count": 56,
   "metadata": {},
   "outputs": [
    {
     "name": "stdout",
     "output_type": "stream",
     "text": [
      "Model: \"sequential\"\n",
      "_________________________________________________________________\n",
      "Layer (type)                 Output Shape              Param #   \n",
      "=================================================================\n",
      "dense (Dense)                (None, 2)                 6         \n",
      "_________________________________________________________________\n",
      "dense_1 (Dense)              (None, 1)                 3         \n",
      "_________________________________________________________________\n",
      "dense_2 (Dense)              (None, 1)                 2         \n",
      "=================================================================\n",
      "Total params: 11\n",
      "Trainable params: 11\n",
      "Non-trainable params: 0\n",
      "_________________________________________________________________\n"
     ]
    }
   ],
   "source": [
    "tf.keras.backend.clear_session()\n",
    "model = keras.Sequential([\n",
    "    keras.layers.Dense(2, input_shape=(2,)),\n",
    "    keras.layers.Dense(1, activation='sigmoid'),\n",
    "    keras.layers.Dense(1)\n",
    "])\n",
    "model.compile(optimizer='sgd', loss='mean_squared_error')\n",
    "model.summary()"
   ]
  },
  {
   "cell_type": "code",
   "execution_count": 57,
   "metadata": {
    "scrolled": true
   },
   "outputs": [
    {
     "name": "stdout",
     "output_type": "stream",
     "text": [
      "Epoch 1/200\n",
      "1/1 [==============================] - 0s 3ms/step - loss: 6662.6992\n",
      "Epoch 2/200\n",
      "1/1 [==============================] - 0s 0s/step - loss: 6303.4062\n",
      "Epoch 3/200\n",
      "1/1 [==============================] - 0s 13ms/step - loss: 5840.4346\n",
      "Epoch 4/200\n",
      "1/1 [==============================] - 0s 991us/step - loss: 5397.8857\n",
      "Epoch 5/200\n",
      "1/1 [==============================] - 0s 983us/step - loss: 4990.0322\n",
      "Epoch 6/200\n",
      "1/1 [==============================] - 0s 1ms/step - loss: 4614.1548\n",
      "Epoch 7/200\n",
      "1/1 [==============================] - 0s 970us/step - loss: 4267.7461\n",
      "Epoch 8/200\n",
      "1/1 [==============================] - 0s 0s/step - loss: 3948.4956\n",
      "Epoch 9/200\n",
      "1/1 [==============================] - 0s 0s/step - loss: 3654.2742\n",
      "Epoch 10/200\n",
      "1/1 [==============================] - 0s 0s/step - loss: 3383.1199\n",
      "Epoch 11/200\n",
      "1/1 [==============================] - 0s 0s/step - loss: 3133.2241\n",
      "Epoch 12/200\n",
      "1/1 [==============================] - 0s 10ms/step - loss: 2902.9199\n",
      "Epoch 13/200\n",
      "1/1 [==============================] - 0s 1ms/step - loss: 2690.6719\n",
      "Epoch 14/200\n",
      "1/1 [==============================] - 0s 3ms/step - loss: 2495.0642\n",
      "Epoch 15/200\n",
      "1/1 [==============================] - 0s 1000us/step - loss: 2314.7917\n",
      "Epoch 16/200\n",
      "1/1 [==============================] - 0s 2ms/step - loss: 2148.6533\n",
      "Epoch 17/200\n",
      "1/1 [==============================] - 0s 1ms/step - loss: 1995.5397\n",
      "Epoch 18/200\n",
      "1/1 [==============================] - 0s 992us/step - loss: 1854.4297\n",
      "Epoch 19/200\n",
      "1/1 [==============================] - 0s 2ms/step - loss: 1724.3834\n",
      "Epoch 20/200\n",
      "1/1 [==============================] - 0s 2ms/step - loss: 1604.5323\n",
      "Epoch 21/200\n",
      "1/1 [==============================] - 0s 994us/step - loss: 1494.0780\n",
      "Epoch 22/200\n",
      "1/1 [==============================] - 0s 998us/step - loss: 1392.2830\n",
      "Epoch 23/200\n",
      "1/1 [==============================] - 0s 995us/step - loss: 1298.4686\n",
      "Epoch 24/200\n",
      "1/1 [==============================] - 0s 1ms/step - loss: 1212.0098\n",
      "Epoch 25/200\n",
      "1/1 [==============================] - 0s 1ms/step - loss: 1132.3290\n",
      "Epoch 26/200\n",
      "1/1 [==============================] - 0s 1ms/step - loss: 1058.8951\n",
      "Epoch 27/200\n",
      "1/1 [==============================] - 0s 982us/step - loss: 991.2186\n",
      "Epoch 28/200\n",
      "1/1 [==============================] - 0s 976us/step - loss: 928.8481\n",
      "Epoch 29/200\n",
      "1/1 [==============================] - 0s 1ms/step - loss: 871.3669\n",
      "Epoch 30/200\n",
      "1/1 [==============================] - 0s 999us/step - loss: 818.3926\n",
      "Epoch 31/200\n",
      "1/1 [==============================] - 0s 1000us/step - loss: 769.5716\n",
      "Epoch 32/200\n",
      "1/1 [==============================] - 0s 999us/step - loss: 724.5778\n",
      "Epoch 33/200\n",
      "1/1 [==============================] - 0s 992us/step - loss: 683.1118\n",
      "Epoch 34/200\n",
      "1/1 [==============================] - 0s 998us/step - loss: 644.8964\n",
      "Epoch 35/200\n",
      "1/1 [==============================] - 0s 1ms/step - loss: 609.6774\n",
      "Epoch 36/200\n",
      "1/1 [==============================] - 0s 2ms/step - loss: 577.2196\n",
      "Epoch 37/200\n",
      "1/1 [==============================] - 0s 2ms/step - loss: 547.3063\n",
      "Epoch 38/200\n",
      "1/1 [==============================] - 0s 2ms/step - loss: 519.7383\n",
      "Epoch 39/200\n",
      "1/1 [==============================] - 0s 1000us/step - loss: 494.3315\n",
      "Epoch 40/200\n",
      "1/1 [==============================] - 0s 998us/step - loss: 470.9167\n",
      "Epoch 41/200\n",
      "1/1 [==============================] - 0s 2ms/step - loss: 449.3376\n",
      "Epoch 42/200\n",
      "1/1 [==============================] - 0s 1ms/step - loss: 429.4504\n",
      "Epoch 43/200\n",
      "1/1 [==============================] - 0s 1ms/step - loss: 411.1224\n",
      "Epoch 44/200\n",
      "1/1 [==============================] - 0s 2ms/step - loss: 394.2312\n",
      "Epoch 45/200\n",
      "1/1 [==============================] - 0s 2ms/step - loss: 378.6642\n",
      "Epoch 46/200\n",
      "1/1 [==============================] - 0s 998us/step - loss: 364.3176\n",
      "Epoch 47/200\n",
      "1/1 [==============================] - 0s 976us/step - loss: 351.0959\n",
      "Epoch 48/200\n",
      "1/1 [==============================] - 0s 2ms/step - loss: 338.9108\n",
      "Epoch 49/200\n",
      "1/1 [==============================] - 0s 1ms/step - loss: 327.6809\n",
      "Epoch 50/200\n",
      "1/1 [==============================] - 0s 2ms/step - loss: 317.3315\n",
      "Epoch 51/200\n",
      "1/1 [==============================] - 0s 998us/step - loss: 307.7935\n",
      "Epoch 52/200\n",
      "1/1 [==============================] - 0s 996us/step - loss: 299.0034\n",
      "Epoch 53/200\n",
      "1/1 [==============================] - 0s 1ms/step - loss: 290.9023\n",
      "Epoch 54/200\n",
      "1/1 [==============================] - 0s 991us/step - loss: 283.4363\n",
      "Epoch 55/200\n",
      "1/1 [==============================] - 0s 1ms/step - loss: 276.5557\n",
      "Epoch 56/200\n",
      "1/1 [==============================] - 0s 997us/step - loss: 270.2145\n",
      "Epoch 57/200\n",
      "1/1 [==============================] - 0s 2ms/step - loss: 264.3704\n",
      "Epoch 58/200\n",
      "1/1 [==============================] - 0s 1ms/step - loss: 258.9846\n",
      "Epoch 59/200\n",
      "1/1 [==============================] - 0s 1ms/step - loss: 254.0210\n",
      "Epoch 60/200\n",
      "1/1 [==============================] - 0s 1ms/step - loss: 249.4465\n",
      "Epoch 61/200\n",
      "1/1 [==============================] - 0s 999us/step - loss: 245.2307\n",
      "Epoch 62/200\n",
      "1/1 [==============================] - 0s 1000us/step - loss: 241.3455\n",
      "Epoch 63/200\n",
      "1/1 [==============================] - 0s 1ms/step - loss: 237.7648\n",
      "Epoch 64/200\n",
      "1/1 [==============================] - 0s 1ms/step - loss: 234.4647\n",
      "Epoch 65/200\n",
      "1/1 [==============================] - 0s 1ms/step - loss: 231.4235\n",
      "Epoch 66/200\n",
      "1/1 [==============================] - 0s 996us/step - loss: 228.6207\n",
      "Epoch 67/200\n",
      "1/1 [==============================] - 0s 2ms/step - loss: 226.0376\n",
      "Epoch 68/200\n",
      "1/1 [==============================] - 0s 1ms/step - loss: 223.6571\n",
      "Epoch 69/200\n",
      "1/1 [==============================] - 0s 1ms/step - loss: 221.4632\n",
      "Epoch 70/200\n",
      "1/1 [==============================] - 0s 1ms/step - loss: 219.4412\n",
      "Epoch 71/200\n",
      "1/1 [==============================] - 0s 1ms/step - loss: 217.5779\n",
      "Epoch 72/200\n",
      "1/1 [==============================] - 0s 1ms/step - loss: 215.8605\n",
      "Epoch 73/200\n",
      "1/1 [==============================] - 0s 997us/step - loss: 214.2779\n",
      "Epoch 74/200\n",
      "1/1 [==============================] - 0s 2ms/step - loss: 212.8193\n",
      "Epoch 75/200\n",
      "1/1 [==============================] - 0s 998us/step - loss: 211.4751\n",
      "Epoch 76/200\n",
      "1/1 [==============================] - 0s 1000us/step - loss: 210.2363\n",
      "Epoch 77/200\n",
      "1/1 [==============================] - 0s 2ms/step - loss: 209.0946\n",
      "Epoch 78/200\n",
      "1/1 [==============================] - 0s 1ms/step - loss: 208.0423\n",
      "Epoch 79/200\n",
      "1/1 [==============================] - 0s 2ms/step - loss: 207.0726\n",
      "Epoch 80/200\n",
      "1/1 [==============================] - 0s 998us/step - loss: 206.1789\n",
      "Epoch 81/200\n",
      "1/1 [==============================] - 0s 998us/step - loss: 205.3554\n",
      "Epoch 82/200\n",
      "1/1 [==============================] - 0s 2ms/step - loss: 204.5963\n",
      "Epoch 83/200\n",
      "1/1 [==============================] - 0s 1ms/step - loss: 203.8967\n",
      "Epoch 84/200\n",
      "1/1 [==============================] - 0s 1ms/step - loss: 203.2520\n",
      "Epoch 85/200\n",
      "1/1 [==============================] - 0s 982us/step - loss: 202.6578\n",
      "Epoch 86/200\n",
      "1/1 [==============================] - 0s 1ms/step - loss: 202.1102\n",
      "Epoch 87/200\n",
      "1/1 [==============================] - 0s 1000us/step - loss: 201.6056\n",
      "Epoch 88/200\n",
      "1/1 [==============================] - 0s 2ms/step - loss: 201.1405\n",
      "Epoch 89/200\n",
      "1/1 [==============================] - 0s 2ms/step - loss: 200.7119\n",
      "Epoch 90/200\n",
      "1/1 [==============================] - 0s 2ms/step - loss: 200.3169\n",
      "Epoch 91/200\n",
      "1/1 [==============================] - 0s 2ms/step - loss: 199.9529\n",
      "Epoch 92/200\n",
      "1/1 [==============================] - 0s 984us/step - loss: 199.6174\n",
      "Epoch 93/200\n",
      "1/1 [==============================] - 0s 998us/step - loss: 199.3081\n",
      "Epoch 94/200\n",
      "1/1 [==============================] - 0s 1ms/step - loss: 199.0232\n",
      "Epoch 95/200\n",
      "1/1 [==============================] - 0s 2ms/step - loss: 198.7605\n",
      "Epoch 96/200\n",
      "1/1 [==============================] - 0s 2ms/step - loss: 198.5185\n",
      "Epoch 97/200\n",
      "1/1 [==============================] - 0s 1000us/step - loss: 198.2955\n",
      "Epoch 98/200\n",
      "1/1 [==============================] - 0s 1ms/step - loss: 198.0899\n",
      "Epoch 99/200\n",
      "1/1 [==============================] - 0s 1ms/step - loss: 197.9005\n",
      "Epoch 100/200\n",
      "1/1 [==============================] - 0s 1ms/step - loss: 197.7258\n"
     ]
    },
    {
     "name": "stdout",
     "output_type": "stream",
     "text": [
      "Epoch 101/200\n",
      "1/1 [==============================] - 0s 1000us/step - loss: 197.5649\n",
      "Epoch 102/200\n",
      "1/1 [==============================] - 0s 999us/step - loss: 197.4167\n",
      "Epoch 103/200\n",
      "1/1 [==============================] - 0s 2ms/step - loss: 197.2800\n",
      "Epoch 104/200\n",
      "1/1 [==============================] - 0s 3ms/step - loss: 197.1540\n",
      "Epoch 105/200\n",
      "1/1 [==============================] - 0s 2ms/step - loss: 197.0380\n",
      "Epoch 106/200\n",
      "1/1 [==============================] - 0s 2ms/step - loss: 196.9310\n",
      "Epoch 107/200\n",
      "1/1 [==============================] - 0s 998us/step - loss: 196.8324\n",
      "Epoch 108/200\n",
      "1/1 [==============================] - 0s 1ms/step - loss: 196.7415\n",
      "Epoch 109/200\n",
      "1/1 [==============================] - 0s 1ms/step - loss: 196.6578\n",
      "Epoch 110/200\n",
      "1/1 [==============================] - 0s 1ms/step - loss: 196.5806\n",
      "Epoch 111/200\n",
      "1/1 [==============================] - 0s 1ms/step - loss: 196.5095\n",
      "Epoch 112/200\n",
      "1/1 [==============================] - 0s 2ms/step - loss: 196.4440\n",
      "Epoch 113/200\n",
      "1/1 [==============================] - 0s 2ms/step - loss: 196.3835\n",
      "Epoch 114/200\n",
      "1/1 [==============================] - 0s 1000us/step - loss: 196.3279\n",
      "Epoch 115/200\n",
      "1/1 [==============================] - 0s 984us/step - loss: 196.2766\n",
      "Epoch 116/200\n",
      "1/1 [==============================] - 0s 996us/step - loss: 196.2293\n",
      "Epoch 117/200\n",
      "1/1 [==============================] - 0s 993us/step - loss: 196.1857\n",
      "Epoch 118/200\n",
      "1/1 [==============================] - 0s 1ms/step - loss: 196.1455\n",
      "Epoch 119/200\n",
      "1/1 [==============================] - 0s 2ms/step - loss: 196.1085\n",
      "Epoch 120/200\n",
      "1/1 [==============================] - 0s 2ms/step - loss: 196.0744\n",
      "Epoch 121/200\n",
      "1/1 [==============================] - 0s 2ms/step - loss: 196.0430\n",
      "Epoch 122/200\n",
      "1/1 [==============================] - 0s 993us/step - loss: 196.0141\n",
      "Epoch 123/200\n",
      "1/1 [==============================] - 0s 997us/step - loss: 195.9873\n",
      "Epoch 124/200\n",
      "1/1 [==============================] - 0s 999us/step - loss: 195.9627\n",
      "Epoch 125/200\n",
      "1/1 [==============================] - 0s 2ms/step - loss: 195.9400\n",
      "Epoch 126/200\n",
      "1/1 [==============================] - 0s 2ms/step - loss: 195.9192\n",
      "Epoch 127/200\n",
      "1/1 [==============================] - 0s 984us/step - loss: 195.8999\n",
      "Epoch 128/200\n",
      "1/1 [==============================] - 0s 986us/step - loss: 195.8822\n",
      "Epoch 129/200\n",
      "1/1 [==============================] - 0s 998us/step - loss: 195.8657\n",
      "Epoch 130/200\n",
      "1/1 [==============================] - 0s 999us/step - loss: 195.8507\n",
      "Epoch 131/200\n",
      "1/1 [==============================] - 0s 2ms/step - loss: 195.8368\n",
      "Epoch 132/200\n",
      "1/1 [==============================] - 0s 1ms/step - loss: 195.8240\n",
      "Epoch 133/200\n",
      "1/1 [==============================] - 0s 2ms/step - loss: 195.8122\n",
      "Epoch 134/200\n",
      "1/1 [==============================] - 0s 2ms/step - loss: 195.8013\n",
      "Epoch 135/200\n",
      "1/1 [==============================] - 0s 999us/step - loss: 195.7913\n",
      "Epoch 136/200\n",
      "1/1 [==============================] - 0s 1ms/step - loss: 195.7821\n",
      "Epoch 137/200\n",
      "1/1 [==============================] - 0s 1ms/step - loss: 195.7735\n",
      "Epoch 138/200\n",
      "1/1 [==============================] - 0s 2ms/step - loss: 195.7657\n",
      "Epoch 139/200\n",
      "1/1 [==============================] - 0s 1ms/step - loss: 195.7584\n",
      "Epoch 140/200\n",
      "1/1 [==============================] - 0s 1000us/step - loss: 195.7518\n",
      "Epoch 141/200\n",
      "1/1 [==============================] - 0s 1ms/step - loss: 195.7456\n",
      "Epoch 142/200\n",
      "1/1 [==============================] - 0s 999us/step - loss: 195.7400\n",
      "Epoch 143/200\n",
      "1/1 [==============================] - 0s 999us/step - loss: 195.7348\n",
      "Epoch 144/200\n",
      "1/1 [==============================] - 0s 1ms/step - loss: 195.7300\n",
      "Epoch 145/200\n",
      "1/1 [==============================] - 0s 2ms/step - loss: 195.7256\n",
      "Epoch 146/200\n",
      "1/1 [==============================] - 0s 2ms/step - loss: 195.7215\n",
      "Epoch 147/200\n",
      "1/1 [==============================] - 0s 2ms/step - loss: 195.7177\n",
      "Epoch 148/200\n",
      "1/1 [==============================] - 0s 998us/step - loss: 195.7142\n",
      "Epoch 149/200\n",
      "1/1 [==============================] - 0s 2ms/step - loss: 195.7110\n",
      "Epoch 150/200\n",
      "1/1 [==============================] - 0s 2ms/step - loss: 195.7080\n",
      "Epoch 151/200\n",
      "1/1 [==============================] - 0s 1ms/step - loss: 195.7053\n",
      "Epoch 152/200\n",
      "1/1 [==============================] - 0s 998us/step - loss: 195.7029\n",
      "Epoch 153/200\n",
      "1/1 [==============================] - 0s 1ms/step - loss: 195.7005\n",
      "Epoch 154/200\n",
      "1/1 [==============================] - 0s 1ms/step - loss: 195.6985\n",
      "Epoch 155/200\n",
      "1/1 [==============================] - 0s 1ms/step - loss: 195.6964\n",
      "Epoch 156/200\n",
      "1/1 [==============================] - 0s 997us/step - loss: 195.6947\n",
      "Epoch 157/200\n",
      "1/1 [==============================] - 0s 1ms/step - loss: 195.6930\n",
      "Epoch 158/200\n",
      "1/1 [==============================] - 0s 2ms/step - loss: 195.6914\n",
      "Epoch 159/200\n",
      "1/1 [==============================] - 0s 1ms/step - loss: 195.6900\n",
      "Epoch 160/200\n",
      "1/1 [==============================] - 0s 2ms/step - loss: 195.6887\n",
      "Epoch 161/200\n",
      "1/1 [==============================] - 0s 1ms/step - loss: 195.6876\n",
      "Epoch 162/200\n",
      "1/1 [==============================] - 0s 988us/step - loss: 195.6864\n",
      "Epoch 163/200\n",
      "1/1 [==============================] - 0s 1ms/step - loss: 195.6854\n",
      "Epoch 164/200\n",
      "1/1 [==============================] - 0s 1ms/step - loss: 195.6845\n",
      "Epoch 165/200\n",
      "1/1 [==============================] - 0s 999us/step - loss: 195.6836\n",
      "Epoch 166/200\n",
      "1/1 [==============================] - 0s 999us/step - loss: 195.6828\n",
      "Epoch 167/200\n",
      "1/1 [==============================] - 0s 982us/step - loss: 195.6821\n",
      "Epoch 168/200\n",
      "1/1 [==============================] - 0s 985us/step - loss: 195.6814\n",
      "Epoch 169/200\n",
      "1/1 [==============================] - 0s 1ms/step - loss: 195.6808\n",
      "Epoch 170/200\n",
      "1/1 [==============================] - 0s 998us/step - loss: 195.6802\n",
      "Epoch 171/200\n",
      "1/1 [==============================] - 0s 2ms/step - loss: 195.6797\n",
      "Epoch 172/200\n",
      "1/1 [==============================] - 0s 1ms/step - loss: 195.6792\n",
      "Epoch 173/200\n",
      "1/1 [==============================] - 0s 1ms/step - loss: 195.6787\n",
      "Epoch 174/200\n",
      "1/1 [==============================] - 0s 0s/step - loss: 195.6783\n",
      "Epoch 175/200\n",
      "1/1 [==============================] - 0s 2ms/step - loss: 195.6780\n",
      "Epoch 176/200\n",
      "1/1 [==============================] - 0s 999us/step - loss: 195.6776\n",
      "Epoch 177/200\n",
      "1/1 [==============================] - 0s 984us/step - loss: 195.6772\n",
      "Epoch 178/200\n",
      "1/1 [==============================] - 0s 0s/step - loss: 195.6769\n",
      "Epoch 179/200\n",
      "1/1 [==============================] - 0s 2ms/step - loss: 195.6767\n",
      "Epoch 180/200\n",
      "1/1 [==============================] - 0s 999us/step - loss: 195.6764\n",
      "Epoch 181/200\n",
      "1/1 [==============================] - 0s 1ms/step - loss: 195.6762\n",
      "Epoch 182/200\n",
      "1/1 [==============================] - 0s 1000us/step - loss: 195.6760\n",
      "Epoch 183/200\n",
      "1/1 [==============================] - 0s 993us/step - loss: 195.6758\n",
      "Epoch 184/200\n",
      "1/1 [==============================] - 0s 1ms/step - loss: 195.6756\n",
      "Epoch 185/200\n",
      "1/1 [==============================] - 0s 2ms/step - loss: 195.6755\n",
      "Epoch 186/200\n",
      "1/1 [==============================] - 0s 1ms/step - loss: 195.6753\n",
      "Epoch 187/200\n",
      "1/1 [==============================] - 0s 999us/step - loss: 195.6752\n",
      "Epoch 188/200\n",
      "1/1 [==============================] - 0s 996us/step - loss: 195.6750\n",
      "Epoch 189/200\n",
      "1/1 [==============================] - 0s 2ms/step - loss: 195.6749\n",
      "Epoch 190/200\n",
      "1/1 [==============================] - 0s 1ms/step - loss: 195.6748\n",
      "Epoch 191/200\n",
      "1/1 [==============================] - 0s 1ms/step - loss: 195.6746\n",
      "Epoch 192/200\n",
      "1/1 [==============================] - 0s 2ms/step - loss: 195.6746\n",
      "Epoch 193/200\n",
      "1/1 [==============================] - 0s 1ms/step - loss: 195.6745\n",
      "Epoch 194/200\n",
      "1/1 [==============================] - 0s 2ms/step - loss: 195.6744\n",
      "Epoch 195/200\n",
      "1/1 [==============================] - 0s 2ms/step - loss: 195.6743\n",
      "Epoch 196/200\n",
      "1/1 [==============================] - 0s 1ms/step - loss: 195.6743\n",
      "Epoch 197/200\n",
      "1/1 [==============================] - 0s 999us/step - loss: 195.6742\n",
      "Epoch 198/200\n",
      "1/1 [==============================] - 0s 1000us/step - loss: 195.6741\n",
      "Epoch 199/200\n",
      "1/1 [==============================] - 0s 1ms/step - loss: 195.6741\n"
     ]
    },
    {
     "name": "stdout",
     "output_type": "stream",
     "text": [
      "Epoch 200/200\n",
      "1/1 [==============================] - 0s 999us/step - loss: 195.6740\n"
     ]
    },
    {
     "data": {
      "text/plain": [
       "<tensorflow.python.keras.callbacks.History at 0x2012d9170d0>"
      ]
     },
     "execution_count": 57,
     "metadata": {},
     "output_type": "execute_result"
    }
   ],
   "source": [
    "model.fit(X, y, epochs=200)"
   ]
  },
  {
   "cell_type": "code",
   "execution_count": 54,
   "metadata": {
    "scrolled": true
   },
   "outputs": [
    {
     "name": "stdout",
     "output_type": "stream",
     "text": [
      "[[79.233864]]\n"
     ]
    }
   ],
   "source": [
    "print(model.predict([[5, 5]]))"
   ]
  },
  {
   "cell_type": "code",
   "execution_count": 58,
   "metadata": {},
   "outputs": [],
   "source": [
    "# Contoh 2\n",
    "# Fashion MNIST"
   ]
  },
  {
   "cell_type": "code",
   "execution_count": 59,
   "metadata": {},
   "outputs": [],
   "source": [
    "mnist = tf.keras.datasets.fashion_mnist\n",
    "(training_images, training_labels), (test_images, test_labels) = mnist.load_data()"
   ]
  },
  {
   "cell_type": "code",
   "execution_count": 60,
   "metadata": {},
   "outputs": [],
   "source": [
    "import numpy as np\n",
    "np.set_printoptions(linewidth=200)"
   ]
  },
  {
   "cell_type": "code",
   "execution_count": 61,
   "metadata": {},
   "outputs": [
    {
     "name": "stdout",
     "output_type": "stream",
     "text": [
      "9\n",
      "[[  0   0   0   0   0   0   0   0   0   0   0   0   0   0   0   0   0   0   0   0   0   0   0   0   0   0   0   0]\n",
      " [  0   0   0   0   0   0   0   0   0   0   0   0   0   0   0   0   0   0   0   0   0   0   0   0   0   0   0   0]\n",
      " [  0   0   0   0   0   0   0   0   0   0   0   0   0   0   0   0   0   0   0   0   0   0   0   0   0   0   0   0]\n",
      " [  0   0   0   0   0   0   0   0   0   0   0   0   1   0   0  13  73   0   0   1   4   0   0   0   0   1   1   0]\n",
      " [  0   0   0   0   0   0   0   0   0   0   0   0   3   0  36 136 127  62  54   0   0   0   1   3   4   0   0   3]\n",
      " [  0   0   0   0   0   0   0   0   0   0   0   0   6   0 102 204 176 134 144 123  23   0   0   0   0  12  10   0]\n",
      " [  0   0   0   0   0   0   0   0   0   0   0   0   0   0 155 236 207 178 107 156 161 109  64  23  77 130  72  15]\n",
      " [  0   0   0   0   0   0   0   0   0   0   0   1   0  69 207 223 218 216 216 163 127 121 122 146 141  88 172  66]\n",
      " [  0   0   0   0   0   0   0   0   0   1   1   1   0 200 232 232 233 229 223 223 215 213 164 127 123 196 229   0]\n",
      " [  0   0   0   0   0   0   0   0   0   0   0   0   0 183 225 216 223 228 235 227 224 222 224 221 223 245 173   0]\n",
      " [  0   0   0   0   0   0   0   0   0   0   0   0   0 193 228 218 213 198 180 212 210 211 213 223 220 243 202   0]\n",
      " [  0   0   0   0   0   0   0   0   0   1   3   0  12 219 220 212 218 192 169 227 208 218 224 212 226 197 209  52]\n",
      " [  0   0   0   0   0   0   0   0   0   0   6   0  99 244 222 220 218 203 198 221 215 213 222 220 245 119 167  56]\n",
      " [  0   0   0   0   0   0   0   0   0   4   0   0  55 236 228 230 228 240 232 213 218 223 234 217 217 209  92   0]\n",
      " [  0   0   1   4   6   7   2   0   0   0   0   0 237 226 217 223 222 219 222 221 216 223 229 215 218 255  77   0]\n",
      " [  0   3   0   0   0   0   0   0   0  62 145 204 228 207 213 221 218 208 211 218 224 223 219 215 224 244 159   0]\n",
      " [  0   0   0   0  18  44  82 107 189 228 220 222 217 226 200 205 211 230 224 234 176 188 250 248 233 238 215   0]\n",
      " [  0  57 187 208 224 221 224 208 204 214 208 209 200 159 245 193 206 223 255 255 221 234 221 211 220 232 246   0]\n",
      " [  3 202 228 224 221 211 211 214 205 205 205 220 240  80 150 255 229 221 188 154 191 210 204 209 222 228 225   0]\n",
      " [ 98 233 198 210 222 229 229 234 249 220 194 215 217 241  65  73 106 117 168 219 221 215 217 223 223 224 229  29]\n",
      " [ 75 204 212 204 193 205 211 225 216 185 197 206 198 213 240 195 227 245 239 223 218 212 209 222 220 221 230  67]\n",
      " [ 48 203 183 194 213 197 185 190 194 192 202 214 219 221 220 236 225 216 199 206 186 181 177 172 181 205 206 115]\n",
      " [  0 122 219 193 179 171 183 196 204 210 213 207 211 210 200 196 194 191 195 191 198 192 176 156 167 177 210  92]\n",
      " [  0   0  74 189 212 191 175 172 175 181 185 188 189 188 193 198 204 209 210 210 211 188 188 194 192 216 170   0]\n",
      " [  2   0   0   0  66 200 222 237 239 242 246 243 244 221 220 193 191 179 182 182 181 176 166 168  99  58   0   0]\n",
      " [  0   0   0   0   0   0   0  40  61  44  72  41  35   0   0   0   0   0   0   0   0   0   0   0   0   0   0   0]\n",
      " [  0   0   0   0   0   0   0   0   0   0   0   0   0   0   0   0   0   0   0   0   0   0   0   0   0   0   0   0]\n",
      " [  0   0   0   0   0   0   0   0   0   0   0   0   0   0   0   0   0   0   0   0   0   0   0   0   0   0   0   0]]\n"
     ]
    },
    {
     "data": {
      "image/png": "[encoded data removed]",
      "text/plain": [
       "<Figure size 432x288 with 1 Axes>"
      ]
     },
     "metadata": {
      "needs_background": "light"
     },
     "output_type": "display_data"
    }
   ],
   "source": [
    "import matplotlib.pyplot as plt\n",
    "\n",
    "plt.imshow(training_images[0])\n",
    "print(training_labels[0])\n",
    "print(training_images[0])"
   ]
  },
  {
   "cell_type": "code",
   "execution_count": null,
   "metadata": {},
   "outputs": [],
   "source": [
    "# Normalisasi"
   ]
  },
  {
   "cell_type": "code",
   "execution_count": 62,
   "metadata": {},
   "outputs": [
    {
     "name": "stdout",
     "output_type": "stream",
     "text": [
      "9\n",
      "[[0.         0.         0.         0.         0.         0.         0.         0.         0.         0.         0.         0.         0.         0.         0.         0.         0.\n",
      "  0.         0.         0.         0.         0.         0.         0.         0.         0.         0.         0.        ]\n",
      " [0.         0.         0.         0.         0.         0.         0.         0.         0.         0.         0.         0.         0.         0.         0.         0.         0.\n",
      "  0.         0.         0.         0.         0.         0.         0.         0.         0.         0.         0.        ]\n",
      " [0.         0.         0.         0.         0.         0.         0.         0.         0.         0.         0.         0.         0.         0.         0.         0.         0.\n",
      "  0.         0.         0.         0.         0.         0.         0.         0.         0.         0.         0.        ]\n",
      " [0.         0.         0.         0.         0.         0.         0.         0.         0.         0.         0.         0.         0.00392157 0.         0.         0.05098039 0.28627451\n",
      "  0.         0.         0.00392157 0.01568627 0.         0.         0.         0.         0.00392157 0.00392157 0.        ]\n",
      " [0.         0.         0.         0.         0.         0.         0.         0.         0.         0.         0.         0.         0.01176471 0.         0.14117647 0.53333333 0.49803922\n",
      "  0.24313725 0.21176471 0.         0.         0.         0.00392157 0.01176471 0.01568627 0.         0.         0.01176471]\n",
      " [0.         0.         0.         0.         0.         0.         0.         0.         0.         0.         0.         0.         0.02352941 0.         0.4        0.8        0.69019608\n",
      "  0.5254902  0.56470588 0.48235294 0.09019608 0.         0.         0.         0.         0.04705882 0.03921569 0.        ]\n",
      " [0.         0.         0.         0.         0.         0.         0.         0.         0.         0.         0.         0.         0.         0.         0.60784314 0.9254902  0.81176471\n",
      "  0.69803922 0.41960784 0.61176471 0.63137255 0.42745098 0.25098039 0.09019608 0.30196078 0.50980392 0.28235294 0.05882353]\n",
      " [0.         0.         0.         0.         0.         0.         0.         0.         0.         0.         0.         0.00392157 0.         0.27058824 0.81176471 0.8745098  0.85490196\n",
      "  0.84705882 0.84705882 0.63921569 0.49803922 0.4745098  0.47843137 0.57254902 0.55294118 0.34509804 0.6745098  0.25882353]\n",
      " [0.         0.         0.         0.         0.         0.         0.         0.         0.         0.00392157 0.00392157 0.00392157 0.         0.78431373 0.90980392 0.90980392 0.91372549\n",
      "  0.89803922 0.8745098  0.8745098  0.84313725 0.83529412 0.64313725 0.49803922 0.48235294 0.76862745 0.89803922 0.        ]\n",
      " [0.         0.         0.         0.         0.         0.         0.         0.         0.         0.         0.         0.         0.         0.71764706 0.88235294 0.84705882 0.8745098\n",
      "  0.89411765 0.92156863 0.89019608 0.87843137 0.87058824 0.87843137 0.86666667 0.8745098  0.96078431 0.67843137 0.        ]\n",
      " [0.         0.         0.         0.         0.         0.         0.         0.         0.         0.         0.         0.         0.         0.75686275 0.89411765 0.85490196 0.83529412\n",
      "  0.77647059 0.70588235 0.83137255 0.82352941 0.82745098 0.83529412 0.8745098  0.8627451  0.95294118 0.79215686 0.        ]\n",
      " [0.         0.         0.         0.         0.         0.         0.         0.         0.         0.00392157 0.01176471 0.         0.04705882 0.85882353 0.8627451  0.83137255 0.85490196\n",
      "  0.75294118 0.6627451  0.89019608 0.81568627 0.85490196 0.87843137 0.83137255 0.88627451 0.77254902 0.81960784 0.20392157]\n",
      " [0.         0.         0.         0.         0.         0.         0.         0.         0.         0.         0.02352941 0.         0.38823529 0.95686275 0.87058824 0.8627451  0.85490196\n",
      "  0.79607843 0.77647059 0.86666667 0.84313725 0.83529412 0.87058824 0.8627451  0.96078431 0.46666667 0.65490196 0.21960784]\n",
      " [0.         0.         0.         0.         0.         0.         0.         0.         0.         0.01568627 0.         0.         0.21568627 0.9254902  0.89411765 0.90196078 0.89411765\n",
      "  0.94117647 0.90980392 0.83529412 0.85490196 0.8745098  0.91764706 0.85098039 0.85098039 0.81960784 0.36078431 0.        ]\n",
      " [0.         0.         0.00392157 0.01568627 0.02352941 0.02745098 0.00784314 0.         0.         0.         0.         0.         0.92941176 0.88627451 0.85098039 0.8745098  0.87058824\n",
      "  0.85882353 0.87058824 0.86666667 0.84705882 0.8745098  0.89803922 0.84313725 0.85490196 1.         0.30196078 0.        ]\n",
      " [0.         0.01176471 0.         0.         0.         0.         0.         0.         0.         0.24313725 0.56862745 0.8        0.89411765 0.81176471 0.83529412 0.86666667 0.85490196\n",
      "  0.81568627 0.82745098 0.85490196 0.87843137 0.8745098  0.85882353 0.84313725 0.87843137 0.95686275 0.62352941 0.        ]\n",
      " [0.         0.         0.         0.         0.07058824 0.17254902 0.32156863 0.41960784 0.74117647 0.89411765 0.8627451  0.87058824 0.85098039 0.88627451 0.78431373 0.80392157 0.82745098\n",
      "  0.90196078 0.87843137 0.91764706 0.69019608 0.7372549  0.98039216 0.97254902 0.91372549 0.93333333 0.84313725 0.        ]\n",
      " [0.         0.22352941 0.73333333 0.81568627 0.87843137 0.86666667 0.87843137 0.81568627 0.8        0.83921569 0.81568627 0.81960784 0.78431373 0.62352941 0.96078431 0.75686275 0.80784314\n",
      "  0.8745098  1.         1.         0.86666667 0.91764706 0.86666667 0.82745098 0.8627451  0.90980392 0.96470588 0.        ]\n",
      " [0.01176471 0.79215686 0.89411765 0.87843137 0.86666667 0.82745098 0.82745098 0.83921569 0.80392157 0.80392157 0.80392157 0.8627451  0.94117647 0.31372549 0.58823529 1.         0.89803922\n",
      "  0.86666667 0.7372549  0.60392157 0.74901961 0.82352941 0.8        0.81960784 0.87058824 0.89411765 0.88235294 0.        ]\n",
      " [0.38431373 0.91372549 0.77647059 0.82352941 0.87058824 0.89803922 0.89803922 0.91764706 0.97647059 0.8627451  0.76078431 0.84313725 0.85098039 0.94509804 0.25490196 0.28627451 0.41568627\n",
      "  0.45882353 0.65882353 0.85882353 0.86666667 0.84313725 0.85098039 0.8745098  0.8745098  0.87843137 0.89803922 0.11372549]\n",
      " [0.29411765 0.8        0.83137255 0.8        0.75686275 0.80392157 0.82745098 0.88235294 0.84705882 0.7254902  0.77254902 0.80784314 0.77647059 0.83529412 0.94117647 0.76470588 0.89019608\n",
      "  0.96078431 0.9372549  0.8745098  0.85490196 0.83137255 0.81960784 0.87058824 0.8627451  0.86666667 0.90196078 0.2627451 ]\n",
      " [0.18823529 0.79607843 0.71764706 0.76078431 0.83529412 0.77254902 0.7254902  0.74509804 0.76078431 0.75294118 0.79215686 0.83921569 0.85882353 0.86666667 0.8627451  0.9254902  0.88235294\n",
      "  0.84705882 0.78039216 0.80784314 0.72941176 0.70980392 0.69411765 0.6745098  0.70980392 0.80392157 0.80784314 0.45098039]\n",
      " [0.         0.47843137 0.85882353 0.75686275 0.70196078 0.67058824 0.71764706 0.76862745 0.8        0.82352941 0.83529412 0.81176471 0.82745098 0.82352941 0.78431373 0.76862745 0.76078431\n",
      "  0.74901961 0.76470588 0.74901961 0.77647059 0.75294118 0.69019608 0.61176471 0.65490196 0.69411765 0.82352941 0.36078431]\n",
      " [0.         0.         0.29019608 0.74117647 0.83137255 0.74901961 0.68627451 0.6745098  0.68627451 0.70980392 0.7254902  0.7372549  0.74117647 0.7372549  0.75686275 0.77647059 0.8\n",
      "  0.81960784 0.82352941 0.82352941 0.82745098 0.7372549  0.7372549  0.76078431 0.75294118 0.84705882 0.66666667 0.        ]\n",
      " [0.00784314 0.         0.         0.         0.25882353 0.78431373 0.87058824 0.92941176 0.9372549  0.94901961 0.96470588 0.95294118 0.95686275 0.86666667 0.8627451  0.75686275 0.74901961\n",
      "  0.70196078 0.71372549 0.71372549 0.70980392 0.69019608 0.65098039 0.65882353 0.38823529 0.22745098 0.         0.        ]\n",
      " [0.         0.         0.         0.         0.         0.         0.         0.15686275 0.23921569 0.17254902 0.28235294 0.16078431 0.1372549  0.         0.         0.         0.\n",
      "  0.         0.         0.         0.         0.         0.         0.         0.         0.         0.         0.        ]\n",
      " [0.         0.         0.         0.         0.         0.         0.         0.         0.         0.         0.         0.         0.         0.         0.         0.         0.\n",
      "  0.         0.         0.         0.         0.         0.         0.         0.         0.         0.         0.        ]\n",
      " [0.         0.         0.         0.         0.         0.         0.         0.         0.         0.         0.         0.         0.         0.         0.         0.         0.\n",
      "  0.         0.         0.         0.         0.         0.         0.         0.         0.         0.         0.        ]]\n"
     ]
    },
    {
     "data": {
      "image/png": "[encoded data removed]",
      "text/plain": [
       "<Figure size 432x288 with 1 Axes>"
      ]
     },
     "metadata": {
      "needs_background": "light"
     },
     "output_type": "display_data"
    }
   ],
   "source": [
    "training_images  = training_images / 255.0\n",
    "test_images = test_images / 255.0\n",
    "\n",
    "# Print\n",
    "plt.imshow(training_images[0])\n",
    "print(training_labels[0])\n",
    "print(training_images[0])"
   ]
  },
  {
   "cell_type": "code",
   "execution_count": 65,
   "metadata": {},
   "outputs": [],
   "source": [
    "# Modeling\n",
    "tf.keras.backend.clear_session()\n",
    "model = tf.keras.models.Sequential([tf.keras.layers.Flatten(), \n",
    "                                    tf.keras.layers.Dense(128, activation='relu'), \n",
    "                                    tf.keras.layers.Dense(10, activation='softmax')])\n",
    "model.compile(optimizer = tf.optimizers.Adam(), loss = 'sparse_categorical_crossentropy', metrics=['accuracy'])"
   ]
  },
  {
   "cell_type": "code",
   "execution_count": 66,
   "metadata": {},
   "outputs": [
    {
     "name": "stdout",
     "output_type": "stream",
     "text": [
      "Epoch 1/5\n",
      "1875/1875 [==============================] - 4s 2ms/step - loss: 0.5055 - accuracy: 0.8231\n",
      "Epoch 2/5\n",
      "1875/1875 [==============================] - 4s 2ms/step - loss: 0.3785 - accuracy: 0.8642\n",
      "Epoch 3/5\n",
      "1875/1875 [==============================] - 4s 2ms/step - loss: 0.3393 - accuracy: 0.8756\n",
      "Epoch 4/5\n",
      "1875/1875 [==============================] - 5s 3ms/step - loss: 0.3178 - accuracy: 0.8834\n",
      "Epoch 5/5\n",
      "1875/1875 [==============================] - 5s 2ms/step - loss: 0.2981 - accuracy: 0.8903: 0s - l\n"
     ]
    }
   ],
   "source": [
    "history = model.fit(training_images, training_labels, epochs=5)"
   ]
  },
  {
   "cell_type": "code",
   "execution_count": 67,
   "metadata": {},
   "outputs": [
    {
     "name": "stdout",
     "output_type": "stream",
     "text": [
      "313/313 [==============================] - 1s 3ms/step - loss: 0.3518 - accuracy: 0.8740\n"
     ]
    },
    {
     "data": {
      "text/plain": [
       "[0.3518073856830597, 0.8740000128746033]"
      ]
     },
     "execution_count": 67,
     "metadata": {},
     "output_type": "execute_result"
    }
   ],
   "source": [
    "model.evaluate(test_images, test_labels)"
   ]
  },
  {
   "cell_type": "code",
   "execution_count": 70,
   "metadata": {
    "scrolled": true
   },
   "outputs": [
    {
     "data": {
      "image/png": "[encoded data removed]",
      "text/plain": [
       "<Figure size 432x288 with 1 Axes>"
      ]
     },
     "metadata": {
      "needs_background": "light"
     },
     "output_type": "display_data"
    },
    {
     "data": {
      "image/png": "[encoded data removed]",
      "text/plain": [
       "<Figure size 432x288 with 1 Axes>"
      ]
     },
     "metadata": {
      "needs_background": "light"
     },
     "output_type": "display_data"
    }
   ],
   "source": [
    "import matplotlib.pyplot as plt\n",
    "\n",
    "acc = history.history['accuracy']\n",
    "loss = history.history['loss']\n",
    "\n",
    "epochs = range(len(acc))\n",
    "\n",
    "plt.plot(epochs, acc, label='Training accuracy')\n",
    "plt.title('Training accuracy')\n",
    "\n",
    "plt.figure()\n",
    "\n",
    "plt.plot(epochs, loss, label='Training Loss')\n",
    "plt.title('Training loss')\n",
    "plt.legend()\n",
    "\n",
    "plt.show()"
   ]
  },
  {
   "cell_type": "code",
   "execution_count": 71,
   "metadata": {
    "scrolled": true
   },
   "outputs": [
    {
     "name": "stdout",
     "output_type": "stream",
     "text": [
      "[7.1416594e-05 7.4146931e-07 1.9706975e-05 7.6855412e-07 1.0854161e-05 3.2612927e-02 2.3008796e-04 2.1580902e-01 3.8986764e-04 7.5085455e-01]\n"
     ]
    }
   ],
   "source": [
    "classifications = model.predict(test_images)\n",
    "\n",
    "print(classifications[0])"
   ]
  },
  {
   "cell_type": "markdown",
   "metadata": {},
   "source": [
    "### What does this list represent?\n",
    "\n",
    "\n",
    "1.   It's 10 random meaningless values\n",
    "2.   It's the first 10 classifications that the computer made\n",
    "3.   It's the probability that this item is each of the 10 classes"
   ]
  },
  {
   "cell_type": "markdown",
   "metadata": {},
   "source": [
    "####Answer: \n",
    "The correct answer is (3)"
   ]
  },
  {
   "cell_type": "code",
   "execution_count": 72,
   "metadata": {},
   "outputs": [
    {
     "name": "stdout",
     "output_type": "stream",
     "text": [
      "9\n"
     ]
    }
   ],
   "source": [
    "print(test_labels[0])"
   ]
  },
  {
   "cell_type": "markdown",
   "metadata": {},
   "source": [
    "### How do you know that this list tells you that the item is an ankle boot?\n",
    "\n",
    "\n",
    "1.   There's not enough information to answer that question\n",
    "2.   The 10th element on the list is the biggest, and the ankle boot is labelled 9\n",
    "2.   The ankle boot is label 9, and there are 0->9 elements in the list\n"
   ]
  },
  {
   "cell_type": "markdown",
   "metadata": {},
   "source": [
    "####Answer\n",
    "The correct answer is (2). Both the list and the labels are 0 based, so the ankle boot having label 9 means that it is the 10th of the 10 classes. The list having the 10th element being the highest value means that the Neural Network has predicted that the item it is classifying is most likely an ankle boot"
   ]
  },
  {
   "cell_type": "markdown",
   "metadata": {},
   "source": [
    "##Exercise 2: \n",
    "Let's now look at the layers in your model. Experiment with different values for the dense layer with 512 neurons. What different results do you get for loss, training time etc? Why do you think that's the case? \n"
   ]
  },
  {
   "cell_type": "code",
   "execution_count": null,
   "metadata": {},
   "outputs": [],
   "source": [
    "mnist = tf.keras.datasets.mnist\n",
    "\n",
    "(training_images, training_labels) ,  (test_images, test_labels) = mnist.load_data()\n",
    "\n",
    "training_images = training_images/255.0\n",
    "test_images = test_images/255.0\n",
    "\n",
    "model = tf.keras.models.Sequential([tf.keras.layers.Flatten(),\n",
    "                                    tf.keras.layers.Dense(1024, activation=tf.nn.relu),\n",
    "                                    tf.keras.layers.Dense(10, activation=tf.nn.softmax)])\n",
    "\n",
    "model.compile(optimizer = 'adam', loss = 'sparse_categorical_crossentropy')\n",
    "\n",
    "model.fit(training_images, training_labels, epochs=5)\n",
    "\n",
    "model.evaluate(test_images, test_labels)\n",
    "\n",
    "classifications = model.predict(test_images)\n",
    "\n",
    "print(classifications[0])\n",
    "print(test_labels[0])"
   ]
  },
  {
   "cell_type": "markdown",
   "metadata": {},
   "source": [
    "##Exercise 3: \n",
    "\n",
    "What would happen if you remove the Flatten() layer. Why do you think that's the case? \n",
    "\n",
    "You get an error about the shape of the data. It may seem vague right now, but it reinforces the rule of thumb that the first layer in your network should be the same shape as your data. Right now our data is 28x28 images, and 28 layers of 28 neurons would be infeasible, so it makes more sense to 'flatten' that 28,28 into a 784x1. Instead of wriitng all the code to handle that ourselves, we add the Flatten() layer at the begining, and when the arrays are loaded into the model later, they'll automatically be flattened for us."
   ]
  },
  {
   "cell_type": "code",
   "execution_count": null,
   "metadata": {},
   "outputs": [],
   "source": [
    "import tensorflow as tf\n",
    "print(tf.__version__)\n",
    "\n",
    "mnist = tf.keras.datasets.mnist\n",
    "\n",
    "(training_images, training_labels) ,  (test_images, test_labels) = mnist.load_data()\n",
    "\n",
    "training_images = training_images/255.0\n",
    "test_images = test_images/255.0\n",
    "\n",
    "model = tf.keras.models.Sequential([#tf.keras.layers.Flatten(),\n",
    "                                    tf.keras.layers.Dense(64, activation=tf.nn.relu),\n",
    "                                    tf.keras.layers.Dense(10, activation=tf.nn.softmax)])\n",
    "\n",
    "model.compile(optimizer = 'adam',\n",
    "              loss = 'sparse_categorical_crossentropy')\n",
    "\n",
    "model.fit(training_images, training_labels, epochs=5)\n",
    "\n",
    "model.evaluate(test_images, test_labels)\n",
    "\n",
    "classifications = model.predict(test_images)\n",
    "\n",
    "print(classifications[0])\n",
    "print(test_labels[0])"
   ]
  },
  {
   "cell_type": "markdown",
   "metadata": {},
   "source": [
    "##Exercise 4: \n",
    "\n",
    "Consider the final (output) layers. Why are there 10 of them? What would happen if you had a different amount than 10? For example, try training the network with 5\n",
    "\n",
    "You get an error as soon as it finds an unexpected value. Another rule of thumb -- the number of neurons in the last layer should match the number of classes you are classifying for. In this case it's the digits 0-9, so there are 10 of them, hence you should have 10 neurons in your final layer."
   ]
  },
  {
   "cell_type": "code",
   "execution_count": null,
   "metadata": {},
   "outputs": [],
   "source": [
    "import tensorflow as tf\n",
    "print(tf.__version__)\n",
    "\n",
    "mnist = tf.keras.datasets.mnist\n",
    "\n",
    "(training_images, training_labels) ,  (test_images, test_labels) = mnist.load_data()\n",
    "\n",
    "training_images = training_images/255.0\n",
    "test_images = test_images/255.0\n",
    "\n",
    "model = tf.keras.models.Sequential([tf.keras.layers.Flatten(),\n",
    "                                    tf.keras.layers.Dense(64, activation=tf.nn.relu),\n",
    "                                    tf.keras.layers.Dense(5, activation=tf.nn.softmax)])\n",
    "\n",
    "model.compile(optimizer = 'adam',\n",
    "              loss = 'sparse_categorical_crossentropy')\n",
    "\n",
    "model.fit(training_images, training_labels, epochs=5)\n",
    "\n",
    "model.evaluate(test_images, test_labels)\n",
    "\n",
    "classifications = model.predict(test_images)\n",
    "\n",
    "print(classifications[0])\n",
    "print(test_labels[0])"
   ]
  },
  {
   "cell_type": "markdown",
   "metadata": {},
   "source": [
    "##Exercise 5: \n",
    "\n",
    "Consider the effects of additional layers in the network. What will happen if you add another layer between the one with 512 and the final layer with 10. \n",
    "\n",
    "Ans: There isn't a significant impact -- because this is relatively simple data. For far more complex data (including color images to be classified as flowers that you'll see in the next lesson), extra layers are often necessary. "
   ]
  },
  {
   "cell_type": "code",
   "execution_count": null,
   "metadata": {},
   "outputs": [],
   "source": [
    "import tensorflow as tf\n",
    "print(tf.__version__)\n",
    "\n",
    "mnist = tf.keras.datasets.mnist\n",
    "\n",
    "(training_images, training_labels) ,  (test_images, test_labels) = mnist.load_data()\n",
    "\n",
    "training_images = training_images/255.0\n",
    "test_images = test_images/255.0\n",
    "\n",
    "model = tf.keras.models.Sequential([tf.keras.layers.Flatten(),\n",
    "                                    tf.keras.layers.Dense(512, activation=tf.nn.relu),\n",
    "                                    tf.keras.layers.Dense(256, activation=tf.nn.relu),\n",
    "                                    tf.keras.layers.Dense(10, activation=tf.nn.softmax)])\n",
    "\n",
    "model.compile(optimizer = 'adam',\n",
    "              loss = 'sparse_categorical_crossentropy')\n",
    "\n",
    "model.fit(training_images, training_labels, epochs=5)\n",
    "\n",
    "model.evaluate(test_images, test_labels)\n",
    "\n",
    "classifications = model.predict(test_images)\n",
    "\n",
    "print(classifications[0])\n",
    "print(test_labels[0])"
   ]
  },
  {
   "cell_type": "markdown",
   "metadata": {},
   "source": [
    "#Exercise 6: \n",
    "\n",
    "Consider the impact of training for more or less epochs. Why do you think that would be the case? \n",
    "\n",
    "Try 15 epochs -- you'll probably get a model with a much better loss than the one with 5\n",
    "Try 30 epochs -- you might see the loss value stops decreasing, and sometimes increases. This is a side effect of something called 'overfitting' which you can learn about [somewhere] and it's something you need to keep an eye out for when training neural networks. There's no point in wasting your time training if you aren't improving your loss, right! :)"
   ]
  },
  {
   "cell_type": "code",
   "execution_count": null,
   "metadata": {},
   "outputs": [],
   "source": [
    "import tensorflow as tf\n",
    "print(tf.__version__)\n",
    "\n",
    "mnist = tf.keras.datasets.mnist\n",
    "\n",
    "(training_images, training_labels) ,  (test_images, test_labels) = mnist.load_data()\n",
    "\n",
    "training_images = training_images/255.0\n",
    "test_images = test_images/255.0\n",
    "\n",
    "model = tf.keras.models.Sequential([tf.keras.layers.Flatten(),\n",
    "                                    tf.keras.layers.Dense(128, activation=tf.nn.relu),\n",
    "                                    tf.keras.layers.Dense(10, activation=tf.nn.softmax)])\n",
    "\n",
    "model.compile(optimizer = 'adam',\n",
    "              loss = 'sparse_categorical_crossentropy')\n",
    "\n",
    "model.fit(training_images, training_labels, epochs=30)\n",
    "\n",
    "model.evaluate(test_images, test_labels)\n",
    "\n",
    "classifications = model.predict(test_images)\n",
    "\n",
    "print(classifications[34])\n",
    "print(test_labels[34])"
   ]
  },
  {
   "cell_type": "markdown",
   "metadata": {},
   "source": [
    "#Exercise 7: \n",
    "\n",
    "Before you trained, you normalized the data, going from values that were 0-255 to values that were 0-1. What would be the impact of removing that? Here's the complete code to give it a try. Why do you think you get different results? "
   ]
  },
  {
   "cell_type": "code",
   "execution_count": null,
   "metadata": {},
   "outputs": [],
   "source": [
    "import tensorflow as tf\n",
    "print(tf.__version__)\n",
    "mnist = tf.keras.datasets.mnist\n",
    "(training_images, training_labels), (test_images, test_labels) = mnist.load_data()\n",
    "training_images=training_images/255.0\n",
    "test_images=test_images/255.0\n",
    "model = tf.keras.models.Sequential([\n",
    "  tf.keras.layers.Flatten(),\n",
    "  tf.keras.layers.Dense(512, activation=tf.nn.relu),\n",
    "  tf.keras.layers.Dense(10, activation=tf.nn.softmax)\n",
    "])\n",
    "model.compile(optimizer='adam', loss='sparse_categorical_crossentropy')\n",
    "model.fit(training_images, training_labels, epochs=5)\n",
    "model.evaluate(test_images, test_labels)\n",
    "classifications = model.predict(test_images)\n",
    "print(classifications[0])\n",
    "print(test_labels[0])"
   ]
  },
  {
   "cell_type": "code",
   "execution_count": null,
   "metadata": {},
   "outputs": [],
   "source": []
  },
  {
   "cell_type": "code",
   "execution_count": null,
   "metadata": {},
   "outputs": [],
   "source": []
  },
  {
   "cell_type": "code",
   "execution_count": null,
   "metadata": {},
   "outputs": [],
   "source": []
  },
  {
   "cell_type": "code",
   "execution_count": null,
   "metadata": {},
   "outputs": [],
   "source": []
  },
  {
   "cell_type": "code",
   "execution_count": null,
   "metadata": {},
   "outputs": [],
   "source": []
  }
 ],
 "metadata": {
  "kernelspec": {
   "display_name": "Python 3.8.3 64-bit",
   "language": "python",
   "name": "python38364bitf33250e8650946d19caa144309e3c9fe"
  },
  "language_info": {
   "codemirror_mode": {
    "name": "ipython",
    "version": 3
   },
   "file_extension": ".py",
   "mimetype": "text/x-python",
   "name": "python",
   "nbconvert_exporter": "python",
   "pygments_lexer": "ipython3",
   "version": "3.8.3"
  }
 },
 "nbformat": 4,
 "nbformat_minor": 4
}
