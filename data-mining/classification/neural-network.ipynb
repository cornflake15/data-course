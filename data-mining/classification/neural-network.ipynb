{
 "cells": [
  {
   "cell_type": "markdown",
   "metadata": {},
   "source": [
    "# Artificial Neural Network"
   ]
  },
  {
   "cell_type": "markdown",
   "metadata": {},
   "source": [
    "Implementasi algoritma Artificial Neural Network menggunakan Keras dan Tensorflow."
   ]
  },
  {
   "cell_type": "markdown",
   "metadata": {},
   "source": [
    "## 1. Pendahuluan\n",
    "\n",
    "**Tensorflow** adalah platform/framework untuk membangun sebuah model machine learning yang bersifat open source. Tensorflow menyediakan fitur end-to-end / full stack development, dari prototyping hingga deployment model machine learning ke dalam aplikasi.\n",
    "\n",
    "**Keras** adalah high-level API untuk mengimplementasikan Deep Learning pada platform Tensorflow. Sehingga developer/engineer bisa fokus terhadap pemodelan machine learningnya daripada cara memprogram model machine learning."
   ]
  },
  {
   "cell_type": "code",
   "execution_count": null,
   "metadata": {},
   "outputs": [],
   "source": [
    "import tensorflow as tf\n",
    "from tensorflow import keras\n",
    "import numpy as np"
   ]
  },
  {
   "cell_type": "markdown",
   "metadata": {},
   "source": [
    "### 1.1 Inisialisasi model\n",
    "\n",
    "Di bagian ini kita akan membangun model neural network yang paling sederhana, terdiri 1 input layer, 1 neuron, dan 1 layer output. Untuk mengimplementasikan ini kita bisa memanfaatkan kelas **`keras`** dari modul **`tensorflow`**. Kemudian memanggil method **`Sequential`** untuk mendefinisikan arsitektur neural networknya."
   ]
  },
  {
   "cell_type": "code",
   "execution_count": null,
   "metadata": {},
   "outputs": [],
   "source": [
    "model = keras.Sequential([keras.layers.Dense(units=1, input_shape=[1])])"
   ]
  },
  {
   "cell_type": "markdown",
   "metadata": {},
   "source": [
    "Di dalam method Sequential kita bisa mendefinisikan tumpukan layer-layer penyusun model pada kelas **`keras.layers.Dense()`**. Untuk lebih lengkap mengenai method `Sequential` bisa dilihat pada [dokumentasinya](https://www.tensorflow.org/api_docs/python/tf/keras/Sequential?version=nightly)."
   ]
  },
  {
   "cell_type": "code",
   "execution_count": null,
   "metadata": {},
   "outputs": [],
   "source": [
    "tf.keras.backend.clear_session()\n",
    "model.compile(optimizer='sgd', loss='mean_squared_error')"
   ]
  },
  {
   "cell_type": "markdown",
   "metadata": {},
   "source": [
    "Selanjutnya adalah mengimplementasikan fungsi optimasi dengan memanggil method **`compile`** melalui objek `model`. Di dalamnya kita definisikan atribut `optimizer` dan juga `loss` function yang digunakan. Jenis-jenis [fungsi optimasi](https://www.tensorflow.org/api_docs/python/tf/keras/optimizers?version=nightly) dan [loss function](https://www.tensorflow.org/api_docs/python/tf/keras/losses) bisa langsung dibaca di dokumentasi resminya."
   ]
  },
  {
   "cell_type": "markdown",
   "metadata": {},
   "source": [
    "### 1.2 Dataset\n",
    "\n",
    "Di bagian ini kita akan membuat dataset sederhana dalam bentuk array 1 dimensi menggunakan **`numpy`**. Data disimpan pada objek **`X`** dan label pada objek **`y`**."
   ]
  },
  {
   "cell_type": "code",
   "execution_count": null,
   "metadata": {},
   "outputs": [],
   "source": [
    "X = np.array([-1.0,  0.0, 1.0, 2.0, 3.0, 4.0], dtype=float)\n",
    "y = np.array([-3.0, -1.0, 1.0, 3.0, 5.0, 7.0], dtype=float)"
   ]
  },
  {
   "cell_type": "markdown",
   "metadata": {},
   "source": [
    "### 1.3 Fitting\n",
    "\n",
    "Setelah mempersiapkan dataset (biasanya proses pre-processing dataset adalah proses yang panjang, bahkan lebih panjang dari proses pemodelan neural networknya. Namun sebagai permulaan di bagian ini belum membahas pre-processing) hal selanjutnya dilakukan adalah fitting dataset ke dalam model.\n",
    "\n",
    "Proses fitting diimplementasikan dengan memanggil method **`fit()`** melalui objek **`model`**. Method `fit()` menerima parameter input data, label data, dan epoch. Epoch mengacu pada satu kali putaran (_cycle_) untuk mendistribusikan seluruh dataset ke dalam model."
   ]
  },
  {
   "cell_type": "code",
   "execution_count": null,
   "metadata": {},
   "outputs": [],
   "source": [
    "model.fit(X, y, epochs=10)"
   ]
  },
  {
   "cell_type": "markdown",
   "metadata": {},
   "source": [
    "### 1.4 Prediksi\n",
    "\n",
    "Setelah model di-training hal selanjutnya adalah melakukan prediksi. Implementasinya dapat dilakukan dengan memanggil method **`predict`** berdasarkan objek `model`, kemudian memasukkan nilai yang akan diprediksi ke dalam method tersebut. Seperti terlihat pada output di bawah, hasil prediksi untuk nilai input 10.0 adalah 7.837426."
   ]
  },
  {
   "cell_type": "code",
   "execution_count": null,
   "metadata": {},
   "outputs": [],
   "source": [
    "print(model.predict([10.0]))"
   ]
  },
  {
   "cell_type": "markdown",
   "metadata": {},
   "source": [
    "## Contoh 1\n",
    "\n",
    "Pada bagian ini adalah implementasi neural network berdasarkan studi kasus materi [Neural Network Demystified](https://www.youtube.com/playlist?list=PLiaHhY2iBX9hdHaRr6b7XevZtgZRa1PoU) dengan Tensorflow. Pada contoh tersebut terdapat dua atribut yaitu \"Hour of Study\" dan \"Hour of Sleep\", dan satu output yaitu \"Test Score\". Contoh data dapat dilihat pada tabel di bawah.\n",
    "\n",
    "|Hour of Study|Hour of Sleep|Test Score|\n",
    "|-------------|-------------|----------|\n",
    "|3|5|75|\n",
    "|5|1|82|\n",
    "|10|2|93|\n",
    "|3|2|60|\n",
    "|4|3|63|\n",
    "|6|7|94|\n",
    "|8|10|97|\n",
    "\n",
    "Data tersebut disimpan ke dalam struktur data numpy array dua dimensi (untuk atribut/fitur) dan numpy array satu dimensi untuk output."
   ]
  },
  {
   "cell_type": "code",
   "execution_count": null,
   "metadata": {},
   "outputs": [],
   "source": [
    "X = np.array([[3, 5], [5, 1], [10, 2], [3, 2], [4, 3], [6, 7], [8, 10]]) # Input\n",
    "y = np.array([75, 82, 93, 60, 63, 94, 97]) # Output"
   ]
  },
  {
   "cell_type": "code",
   "execution_count": null,
   "metadata": {
    "scrolled": true
   },
   "outputs": [],
   "source": [
    "print(X.shape) # Input dimensi array\n",
    "print(y.shape) # Output dimensi array"
   ]
  },
  {
   "cell_type": "markdown",
   "metadata": {},
   "source": [
    "### Data Preprocessing\n",
    "\n",
    "Di bagian ini kita cukup melakukan scaling saja, karena datasetnya hanya bertipe numerikal saja. Scaling diimplementasikan dengan menggunakan kelas **`StandardScaler`** pada modul **`sklearn.preprocessing`**."
   ]
  },
  {
   "cell_type": "code",
   "execution_count": null,
   "metadata": {},
   "outputs": [],
   "source": [
    "from sklearn.preprocessing import StandardScaler\n",
    "\n",
    "scaler = StandardScaler()\n",
    "X_scale = scaler.fit_transform(X)\n",
    "y_scale = scaler.fit_transform(y.reshape(-1, 1))"
   ]
  },
  {
   "cell_type": "markdown",
   "metadata": {},
   "source": [
    "### Modeling\n",
    "\n",
    "Model neural network yang akan diimplementasikan berdasarkan gambar berikut ini:\n",
    "![model](img/model-1.png)\n",
    "\n",
    "Kemudian kita bisa me-review model yang kita buat dengan memanggil method **`summary()`** pada objek `model`."
   ]
  },
  {
   "cell_type": "code",
   "execution_count": null,
   "metadata": {
    "scrolled": true
   },
   "outputs": [],
   "source": [
    "tf.keras.backend.clear_session()\n",
    "model = keras.Sequential([\n",
    "    keras.layers.Dense(2, input_shape=(2,)),\n",
    "    keras.layers.Dense(1, activation='sigmoid'),\n",
    "    keras.layers.Dense(1)\n",
    "])\n",
    "model.compile(optimizer='sgd', loss='mean_squared_error')\n",
    "model.summary()"
   ]
  },
  {
   "cell_type": "markdown",
   "metadata": {},
   "source": [
    "### Model Fitting"
   ]
  },
  {
   "cell_type": "code",
   "execution_count": null,
   "metadata": {
    "scrolled": true
   },
   "outputs": [],
   "source": [
    "model.fit(X, y, epochs=200)"
   ]
  },
  {
   "cell_type": "markdown",
   "metadata": {},
   "source": [
    "### Prediksi"
   ]
  },
  {
   "cell_type": "code",
   "execution_count": null,
   "metadata": {
    "scrolled": true
   },
   "outputs": [],
   "source": [
    "print(model.predict([[5, 5]]))"
   ]
  },
  {
   "cell_type": "markdown",
   "metadata": {},
   "source": [
    "##  Studi Kasus 1\n",
    "\n",
    "\n",
    "**Fashion MNIST**\n",
    "\n",
    "\n",
    "<img src=\"img/fashion-mnist-sprite.png\" alt=\"Drawing\" style=\"width: 500px;\"/>\n",
    "\n",
    "Fashion MNIST adalah dataset gambar pakaian sebanyak 70,0000 gambar dengan resolusi 28x28 pixel dengan rentang nilai 0 sampai dengan 255. Dataset ini terdiri dari 10 kategori (label) seperti tertera di tabel bawah ini.\n",
    "\n",
    "<table>\n",
    "  <tr>\n",
    "    <th>Label</th>\n",
    "    <th>Class</th>\n",
    "  </tr>\n",
    "  <tr>\n",
    "    <td>0</td>\n",
    "    <td>T-shirt/top</td>\n",
    "  </tr>\n",
    "  <tr>\n",
    "    <td>1</td>\n",
    "    <td>Trouser</td>\n",
    "  </tr>\n",
    "    <tr>\n",
    "    <td>2</td>\n",
    "    <td>Pullover</td>\n",
    "  </tr>\n",
    "    <tr>\n",
    "    <td>3</td>\n",
    "    <td>Dress</td>\n",
    "  </tr>\n",
    "    <tr>\n",
    "    <td>4</td>\n",
    "    <td>Coat</td>\n",
    "  </tr>\n",
    "    <tr>\n",
    "    <td>5</td>\n",
    "    <td>Sandal</td>\n",
    "  </tr>\n",
    "    <tr>\n",
    "    <td>6</td>\n",
    "    <td>Shirt</td>\n",
    "  </tr>\n",
    "    <tr>\n",
    "    <td>7</td>\n",
    "    <td>Sneaker</td>\n",
    "  </tr>\n",
    "    <tr>\n",
    "    <td>8</td>\n",
    "    <td>Bag</td>\n",
    "  </tr>\n",
    "    <tr>\n",
    "    <td>9</td>\n",
    "    <td>Ankle boot</td>\n",
    "  </tr>\n",
    "</table>\n",
    "\n",
    "\n",
    "Dataset ini sudah disediakan oleh Tensorflow sehingga kita tidak harus men-downloadnya secara terpisah. Dataset Fashion MNIST dapat di-download dengan memanggil modul **`tensorflow.keras.datasets.fashion_minist`**. \n",
    "\n",
    "Domain permasalahan yang bisa dipecahkan oleh neural network pada dataset ini adalah klasifikasi, sehingga kita harus memisahkan antara dataset yang digunakan untuk training dan dataset yang digunakan untuk testing."
   ]
  },
  {
   "cell_type": "code",
   "execution_count": null,
   "metadata": {},
   "outputs": [],
   "source": [
    "mnist = tf.keras.datasets.fashion_mnist # download dataset\n",
    "(training_images, training_labels), (test_images, test_labels) = mnist.load_data() # memisahkan dataset menjadi training dan testing"
   ]
  },
  {
   "cell_type": "markdown",
   "metadata": {},
   "source": [
    "**Tampilkan Contoh Data**"
   ]
  },
  {
   "cell_type": "code",
   "execution_count": null,
   "metadata": {},
   "outputs": [],
   "source": [
    "import matplotlib.pyplot as plt\n",
    "\n",
    "np.set_printoptions(linewidth=200)\n",
    "plt.imshow(training_images[0])\n",
    "print(training_images[0])"
   ]
  },
  {
   "cell_type": "markdown",
   "metadata": {},
   "source": [
    "**Normalisasi Data**\n",
    "\n",
    "Ini adalah tahap pre-processing data dengan cara menormalisasi nilai setiap pixel dari gambar dengan cara membagi nilai tersebut dengan 255."
   ]
  },
  {
   "cell_type": "code",
   "execution_count": null,
   "metadata": {},
   "outputs": [],
   "source": [
    "training_images  = training_images / 255.0\n",
    "test_images = test_images / 255.0"
   ]
  },
  {
   "cell_type": "code",
   "execution_count": null,
   "metadata": {},
   "outputs": [],
   "source": [
    "# Tampilkan data setelah dinormalisasi\n",
    "print(np.around(training_images[0], 2)) # Dibulatkan sebanyak 2 angka sebagai contoh saja"
   ]
  },
  {
   "cell_type": "markdown",
   "metadata": {},
   "source": [
    "**Modeling**"
   ]
  },
  {
   "cell_type": "code",
   "execution_count": null,
   "metadata": {},
   "outputs": [],
   "source": [
    "tf.keras.backend.clear_session()\n",
    "model = tf.keras.models.Sequential([tf.keras.layers.Flatten(), \n",
    "                                    tf.keras.layers.Dense(128, activation='relu'), \n",
    "                                    tf.keras.layers.Dense(10, activation='softmax')])\n",
    "model.compile(optimizer = tf.optimizers.Adam(), loss = 'sparse_categorical_crossentropy', metrics=['accuracy'])"
   ]
  },
  {
   "cell_type": "markdown",
   "metadata": {},
   "source": [
    "**Model Fitting**"
   ]
  },
  {
   "cell_type": "code",
   "execution_count": null,
   "metadata": {},
   "outputs": [],
   "source": [
    "history = model.fit(training_images, training_labels, epochs=5)"
   ]
  },
  {
   "cell_type": "markdown",
   "metadata": {},
   "source": [
    "**Evaluasi**\n",
    "\n",
    "Setelah proses model fitting, maka dilakukan evaluasi kinerja model terhadap datatest."
   ]
  },
  {
   "cell_type": "code",
   "execution_count": null,
   "metadata": {},
   "outputs": [],
   "source": [
    "model.evaluate(test_images, test_labels)"
   ]
  },
  {
   "cell_type": "markdown",
   "metadata": {},
   "source": [
    "**Visualisasikan Hasil Training**"
   ]
  },
  {
   "cell_type": "code",
   "execution_count": null,
   "metadata": {},
   "outputs": [],
   "source": [
    "import matplotlib.pyplot as plt\n",
    "\n",
    "acc = history.history['accuracy']\n",
    "loss = history.history['loss']\n",
    "\n",
    "epochs = range(len(acc))\n",
    "\n",
    "plt.plot(epochs, acc, label='Training accuracy')\n",
    "plt.title('Training accuracy')\n",
    "\n",
    "plt.figure()\n",
    "\n",
    "plt.plot(epochs, loss, label='Training Loss')\n",
    "plt.title('Training loss')\n",
    "plt.legend()\n",
    "\n",
    "plt.show()"
   ]
  },
  {
   "cell_type": "markdown",
   "metadata": {},
   "source": [
    "Kedua grafik di atas menunjukkan performa model neural network terhadap hasil training. Semakin tinggi grafik Training Accuracy maka sepatutnya semakin baik performa modelnya saat training. Berbanding terbalik dengan Training Loss, jika grafiknya semakin menurun maka semakin baik performa trainingnya."
   ]
  },
  {
   "cell_type": "markdown",
   "metadata": {},
   "source": [
    "**Latihan 1**\n",
    "\n",
    "Jalankan kode program di bawah ini:"
   ]
  },
  {
   "cell_type": "code",
   "execution_count": null,
   "metadata": {
    "scrolled": false
   },
   "outputs": [],
   "source": [
    "classifications = model.predict(test_images)\n",
    "\n",
    "print(classifications[0])"
   ]
  },
  {
   "cell_type": "markdown",
   "metadata": {},
   "source": [
    "**Apa arti angka dari output kode program di atas?**\n",
    "\n",
    "1.   10 nilai random yang tidak ada artinya\n",
    "2.   10 klasifikasi yang dihasilkan dari model\n",
    "3.   Nilai probabilitas dari setiap label\n",
    "\n",
    "\n",
    "Jawaban: (3)"
   ]
  },
  {
   "cell_type": "markdown",
   "metadata": {},
   "source": [
    "**Latihan 2**\n",
    "\n",
    "Review kode program pendefinisian model yang telah kita lakukan di atas, kemudian kita ubah jumlah neurons pada hidden layer menjadi 512. Apakah terjadi perubahan pada nilai traning loss? Bagaimana menurut pendapat anda?"
   ]
  },
  {
   "cell_type": "code",
   "execution_count": null,
   "metadata": {},
   "outputs": [],
   "source": [
    "mnist = tf.keras.datasets.mnist\n",
    "\n",
    "(training_images, training_labels) ,  (test_images, test_labels) = mnist.load_data()\n",
    "\n",
    "training_images = training_images/255.0\n",
    "test_images = test_images/255.0\n",
    "\n",
    "model = tf.keras.models.Sequential([tf.keras.layers.Flatten(),\n",
    "                                    tf.keras.layers.Dense(512, activation='relu'),\n",
    "                                    tf.keras.layers.Dense(10, activation='softmax')])\n",
    "\n",
    "model.compile(optimizer='adam', loss='sparse_categorical_crossentropy')\n",
    "\n",
    "model.fit(training_images, training_labels, epochs=5)\n",
    "\n",
    "model.evaluate(test_images, test_labels)\n",
    "\n",
    "classifications = model.predict(test_images)\n",
    "\n",
    "print(classifications[0])\n",
    "print(test_labels[0])"
   ]
  },
  {
   "cell_type": "markdown",
   "metadata": {},
   "source": [
    "## Latihan 3: \n",
    "\n",
    "Bagaimana kalau kita menghilangkan layer **`Flatten()`**? Apa yang akan terjadi?"
   ]
  },
  {
   "cell_type": "code",
   "execution_count": null,
   "metadata": {},
   "outputs": [],
   "source": [
    "mnist = tf.keras.datasets.mnist\n",
    "\n",
    "(training_images, training_labels) ,  (test_images, test_labels) = mnist.load_data()\n",
    "\n",
    "training_images = training_images/255.0\n",
    "test_images = test_images/255.0\n",
    "\n",
    "model = tf.keras.models.Sequential([#tf.keras.layers.Flatten(),\n",
    "                                    tf.keras.layers.Dense(512, activation='relu'),\n",
    "                                    tf.keras.layers.Dense(10, activation='softmax')])\n",
    "\n",
    "model.compile(optimizer='adam', loss='sparse_categorical_crossentropy')\n",
    "\n",
    "model.fit(training_images, training_labels, epochs=5)\n",
    "\n",
    "model.evaluate(test_images, test_labels)\n",
    "\n",
    "classifications = model.predict(test_images)\n",
    "\n",
    "print(classifications[0])\n",
    "print(test_labels[0])"
   ]
  },
  {
   "cell_type": "markdown",
   "metadata": {},
   "source": [
    "Anda mendapatkan error mengenai \"shape of the data\", artinya dimensi data tidak sama dengan dimensi input yang diterima oleh input layer pada model. Ingat kembali bahwa dataset yang kita gunakan adalah gambar dengan resolusi 28x28 pixel, maka kita harus membuat input layer yang bisa memfasilitasi hal tersebut (_membuat kode program untuk memfasilitasi input gambar 28x28 sangat kompleks_).\n",
    "\n",
    "Oleh karena itu, layer `Flatten()` berguna dalam hal mempermudah implementasi hal tersebut. Layer ini secara otomatis akan mengubah input 28x28 pixel menjadi array 1 dimensi sepanjang 748 (28 x 28 = 748)."
   ]
  },
  {
   "cell_type": "markdown",
   "metadata": {},
   "source": [
    "**Latihan 4**:\n",
    "\n",
    "Bagaimana kalau kita ubah jumlah neurons pada output layer menjadi 5, apakah yang akan terjadi? Mengapa hal itu terjadi?"
   ]
  },
  {
   "cell_type": "code",
   "execution_count": null,
   "metadata": {},
   "outputs": [],
   "source": [
    "mnist = tf.keras.datasets.mnist\n",
    "\n",
    "(training_images, training_labels) ,  (test_images, test_labels) = mnist.load_data()\n",
    "\n",
    "training_images = training_images/255.0\n",
    "test_images = test_images/255.0\n",
    "\n",
    "model = tf.keras.models.Sequential([tf.keras.layers.Flatten(),\n",
    "                                    tf.keras.layers.Dense(512, activation='relu'),\n",
    "                                    tf.keras.layers.Dense(5, activation='softmax')])\n",
    "\n",
    "model.compile(optimizer='adam', loss='sparse_categorical_crossentropy')\n",
    "\n",
    "model.fit(training_images, training_labels, epochs=5)\n",
    "\n",
    "model.evaluate(test_images, test_labels)\n",
    "\n",
    "classifications = model.predict(test_images)\n",
    "\n",
    "print(classifications[0])\n",
    "print(test_labels[0])"
   ]
  },
  {
   "cell_type": "markdown",
   "metadata": {},
   "source": [
    "**Latihan 5**: \n",
    "\n",
    "Kita akan menambahkan hidden layer baru dengan jumlah neurons sebanyak 256. Apakah yang akan terjadi? Mengapa hal itu terjadi?"
   ]
  },
  {
   "cell_type": "code",
   "execution_count": null,
   "metadata": {},
   "outputs": [],
   "source": [
    "mnist = tf.keras.datasets.mnist\n",
    "\n",
    "(training_images, training_labels) ,  (test_images, test_labels) = mnist.load_data()\n",
    "\n",
    "training_images = training_images/255.0\n",
    "test_images = test_images/255.0\n",
    "\n",
    "model = tf.keras.models.Sequential([tf.keras.layers.Flatten(),\n",
    "                                    tf.keras.layers.Dense(512, activation='relu'),\n",
    "                                    tf.keras.layers.Dense(256, activation='relu')\n",
    "                                    tf.keras.layers.Dense(5, activation='softmax')])\n",
    "\n",
    "model.compile(optimizer='adam', loss='sparse_categorical_crossentropy')\n",
    "\n",
    "model.fit(training_images, training_labels, epochs=5)\n",
    "\n",
    "model.evaluate(test_images, test_labels)\n",
    "\n",
    "classifications = model.predict(test_images)\n",
    "\n",
    "print(classifications[0])\n",
    "print(test_labels[0])"
   ]
  },
  {
   "cell_type": "markdown",
   "metadata": {},
   "source": [
    "**Latihan 6**: \n",
    "\n",
    "Cobalah untuk menambahkan jumlah epoch secara bertahap menjadi 15, 30, 50, kemudian 100. Apakah yang akan terjadi? Dan mengapa hal itu terjadi?"
   ]
  },
  {
   "cell_type": "code",
   "execution_count": null,
   "metadata": {},
   "outputs": [],
   "source": [
    "mnist = tf.keras.datasets.mnist\n",
    "\n",
    "(training_images, training_labels) ,  (test_images, test_labels) = mnist.load_data()\n",
    "\n",
    "training_images = training_images/255.0\n",
    "test_images = test_images/255.0\n",
    "\n",
    "model = tf.keras.models.Sequential([tf.keras.layers.Flatten(),\n",
    "                                    tf.keras.layers.Dense(512, activation='relu'),\n",
    "                                    tf.keras.layers.Dense(5, activation='softmax')])\n",
    "\n",
    "model.compile(optimizer='adam', loss='sparse_categorical_crossentropy')\n",
    "\n",
    "model.fit(training_images, training_labels, epochs=30)\n",
    "\n",
    "model.evaluate(test_images, test_labels)\n",
    "\n",
    "classifications = model.predict(test_images)\n",
    "\n",
    "print(classifications[34])\n",
    "print(test_labels[34])"
   ]
  },
  {
   "cell_type": "markdown",
   "metadata": {},
   "source": [
    "**Latihan 7**: \n",
    "\n",
    "Jika kita menghilangkan proses preprocessing, apa yang akan terjadi? Apakah anda akan mendapatkan hasil yang berbeda? "
   ]
  },
  {
   "cell_type": "code",
   "execution_count": null,
   "metadata": {},
   "outputs": [],
   "source": [
    "mnist = tf.keras.datasets.mnist\n",
    "\n",
    "(training_images, training_labels) ,  (test_images, test_labels) = mnist.load_data()\n",
    "\n",
    "# Preprocessing\n",
    "# Berikan tag komentar pada baris kode program 6 dan 7\n",
    "training_images = training_images/255.0\n",
    "test_images = test_images/255.0\n",
    "\n",
    "model = tf.keras.models.Sequential([tf.keras.layers.Flatten(),\n",
    "                                    tf.keras.layers.Dense(512, activation='relu'),\n",
    "                                    tf.keras.layers.Dense(5, activation='softmax')])\n",
    "\n",
    "model.compile(optimizer='adam', loss='sparse_categorical_crossentropy')\n",
    "\n",
    "model.fit(training_images, training_labels, epochs=30)\n",
    "\n",
    "model.evaluate(test_images, test_labels)\n",
    "\n",
    "classifications = model.predict(test_images)\n",
    "\n",
    "print(classifications[34])\n",
    "print(test_labels[34])"
   ]
  }
 ],
 "metadata": {
  "kernelspec": {
   "display_name": "Python 3.8.3 64-bit",
   "language": "python",
   "name": "python38364bitf33250e8650946d19caa144309e3c9fe"
  },
  "language_info": {
   "codemirror_mode": {
    "name": "ipython",
    "version": 3
   },
   "file_extension": ".py",
   "mimetype": "text/x-python",
   "name": "python",
   "nbconvert_exporter": "python",
   "pygments_lexer": "ipython3",
   "version": "3.8.3"
  }
 },
 "nbformat": 4,
 "nbformat_minor": 4
}
