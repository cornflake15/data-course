{
 "metadata": {
  "language_info": {
   "codemirror_mode": {
    "name": "ipython",
    "version": 3
   },
   "file_extension": ".py",
   "mimetype": "text/x-python",
   "name": "python",
   "nbconvert_exporter": "python",
   "pygments_lexer": "ipython3",
   "version": "3.8.3-final"
  },
  "orig_nbformat": 2,
  "kernelspec": {
   "name": "python3",
   "display_name": "Python 3",
   "language": "python"
  }
 },
 "nbformat": 4,
 "nbformat_minor": 2,
 "cells": [
  {
   "source": [
    "# Dasar Pemrograman Numpy\n",
    "\n",
    "**Pendahuluan**\n",
    "\n",
    "Numpy adalah modul pada bahasa pemrograman Python yang digunakan untuk tujuan _scientific computing_. Numpy adalah modul atau _package_ fundamental yang banyak dimaanfaatkan oleh modul-modul lainnya pada Python.\n",
    "\n",
    "Numpy juga bisa dianggap sebagai _library_ yang menyediakan operasi-operasi untuk penanganan _array_ multidimensi (matriks) misalnya seperti, operasi aritmatika, logika, _shape manipulation_, _sorting_, _selecting_, I/O, _discrete Fourier transforms_, aljabar linier, operasi statistik dasar, _random simulation_, dan masih banyak lagi.\n",
    "\n",
    "Inti dari Numpy adalah objek `ndarray`, objek ini menenkapsulasi tipe data _array_ homogen `n`-dimensi di mana pengoperasiannya sudah dioptimasi.\n"
   ],
   "cell_type": "markdown",
   "metadata": {}
  },
  {
   "source": [
    "## 1. Membuat array dengan Numpy\n",
    "\n",
    "Numpy array bisa dibuat dari Python list biasa."
   ],
   "cell_type": "markdown",
   "metadata": {}
  },
  {
   "cell_type": "code",
   "execution_count": null,
   "metadata": {},
   "outputs": [],
   "source": [
    "import numpy as numpy\n",
    "\n",
    "array_a = np.array([10, 20, 30])            # Integer array\n",
    "print(array_a)\n",
    "print(array_a.dtype)\n",
    "\n",
    "array_b = np.array([11.11, 22.22, 33.33])   # Float array\n",
    "print(array_b)\n",
    "print(array_b.dtype)"
   ]
  },
  {
   "source": [
    "Mentransformasikan sequences ke dalam array dua dimensi dan ke dalam array tiga dimensi."
   ],
   "cell_type": "markdown",
   "metadata": {}
  },
  {
   "cell_type": "code",
   "execution_count": null,
   "metadata": {},
   "outputs": [],
   "source": [
    "arr = np.array([(1.5, 2, 3), (4, 5, 6)])\n",
    "print(arr)"
   ]
  },
  {
   "source": [
    "Fungsi/method `zeros` membuat array dengan elemen 0 di setiap indexnya, fungsi/method `ones` membuat array dengan elemen 1 di setiap indexnya, dan fungsi/method `empty` membuat array dengan elemen random. Secara default, tipe data elemen array yang dibuat adalah `float64`, namun jika ingin mengubah bisa menggunakan argumen `dtype`."
   ],
   "cell_type": "markdown",
   "metadata": {}
  },
  {
   "cell_type": "code",
   "execution_count": null,
   "metadata": {},
   "outputs": [],
   "source": [
    "print(np.zeros((10, 11)))\n",
    "print(np.ones((2, 3, 4), dtype=np.int16))\n",
    "print(np.empty((2, 3)))"
   ]
  },
  {
   "source": [
    "Kita juga bisa membuat deret nilai float yang langsung disimpan dalam numpy array dengan fungsi/method `arange` atau bisa menggunakan fungsi/method `linspace`."
   ],
   "cell_type": "markdown",
   "metadata": {}
  },
  {
   "cell_type": "code",
   "execution_count": null,
   "metadata": {},
   "outputs": [],
   "source": [
    "print(np.arange(10, 30, 5))\n",
    "print(np.arange(0, 2, 0.45))\n",
    "print(np.linspace(0, 5, 10))"
   ]
  },
  {
   "source": [
    "Fungsi/method `reshape` untuk membuat array dengan dimensi tertentu."
   ],
   "cell_type": "markdown",
   "metadata": {}
  },
  {
   "cell_type": "code",
   "execution_count": null,
   "metadata": {},
   "outputs": [],
   "source": [
    "# 1D array\n",
    "arr = np.arange(6)\n",
    "print(arr)\n",
    "\n",
    "# 2D array\n",
    "arr = np.arange(12).reshape(4, 3)\n",
    "print(arr)\n",
    "\n",
    "# 3D array\n",
    "arr = nnp.arange(24).reshape(2, 3, 4)\n",
    "print(arr)"
   ]
  },
  {
   "source": [
    "Untuk mengetahui ukuran array bisa menggunakan method `ndim`, `size`, dan `shape`."
   ],
   "cell_type": "markdown",
   "metadata": {}
  },
  {
   "cell_type": "code",
   "execution_count": null,
   "metadata": {},
   "outputs": [],
   "source": [
    "array_multidim = np.array([[0, 10, 20, 30], [40, 50, 60, 70]],\n",
    "                          [[0, 11.11, 22.22, 33.33], [44.44, 55.55, 66.66, 77.77]],\n",
    "                          [[1, 2, 3, 4], [9, 8, 7, 6]])\n",
    "print(array_multidim.ndim)  # jumlah dimensi\n",
    "print(array_multidim.size)  # jumlah elemen keseluruhan\n",
    "print(array_multidim.shape) # ukuran shape"
   ]
  },
  {
   "source": [
    "## 2. Operasi Dasar"
   ],
   "cell_type": "markdown",
   "metadata": {}
  },
  {
   "cell_type": "code",
   "execution_count": null,
   "metadata": {},
   "outputs": [],
   "source": [
    "arr_a = np.array([20, 30, 40, 50])\n",
    "arr_b = np.arange(4)\n",
    "print(arr_a)\n",
    "print(arr_b)\n",
    "\n",
    "# Pengurangan\n",
    "arr_c = arr_a - arr_b\n",
    "print(arr_c)\n",
    "\n",
    "arr_c = b**2\n",
    "print(arr_c)\n",
    "\n",
    "arr_c = 10 * np.sin(arr_a)\n",
    "print(arr_c)\n",
    "\n",
    "arr_1 < 35"
   ]
  },
  {
   "source": [
    "Operasi Matrix "
   ],
   "cell_type": "markdown",
   "metadata": {}
  },
  {
   "cell_type": "code",
   "execution_count": null,
   "metadata": {},
   "outputs": [],
   "source": [
    "A = np.array([[1, 1], [0, 1]])\n",
    "B = np.array([[2, 0], [3, 4]])\n",
    "\n",
    "print(A * B)        # Elementwise product\n",
    "print(A @ B)        # Matrix product\n",
    "print(A.dot(B))     # Another matrix product\n"
   ]
  },
  {
   "source": [
    "Operasi `+=` dan `*=` juga bisa dilakukan."
   ],
   "cell_type": "markdown",
   "metadata": {}
  },
  {
   "cell_type": "code",
   "execution_count": null,
   "metadata": {},
   "outputs": [],
   "source": [
    "rg = np.random.default_rng(1)\n",
    "arr_a = np.ones((2, 3), dtype=int)\n",
    "arr_b = rg.random((2, 3))\n",
    "print(arr_a)\n",
    "print(arr_b)\n",
    "\n",
    "print(arr_a *= 3)\n",
    "print(arr_b += arr_a)"
   ]
  },
  {
   "source": [
    "## 3. Konversi Dimensi Array\n",
    "\n",
    "Untuk konversi dimensi array dari 1 dimensi menjadi 2 dimensi bisa menggunakan `np.newaxis` dan `np.expand_dims`."
   ],
   "cell_type": "markdown",
   "metadata": {}
  },
  {
   "cell_type": "code",
   "execution_count": null,
   "metadata": {},
   "outputs": [],
   "source": [
    "arr_a = np.array([1, 2, 3, 4, 5, 6])\n",
    "print(arr_a.shape)"
   ]
  },
  {
   "cell_type": "code",
   "execution_count": null,
   "metadata": {},
   "outputs": [],
   "source": [
    "arr_a2 = arr_a[np.newaxis, :]\n",
    "print(arr_a2)"
   ]
  },
  {
   "cell_type": "code",
   "execution_count": null,
   "metadata": {},
   "outputs": [],
   "source": [
    "col_vector = arr_a[:, np.newaxis]\n",
    "col_vector.shape"
   ]
  },
  {
   "cell_type": "code",
   "execution_count": null,
   "metadata": {},
   "outputs": [],
   "source": [
    "arr_a = np.array([1, 2, 3, 4, 5, 6])\n",
    "print(arr_a.shape)"
   ]
  },
  {
   "cell_type": "code",
   "execution_count": null,
   "metadata": {},
   "outputs": [],
   "source": [
    "arr_b = np.expand_dims(arr_a, axis=1)\n",
    "arr_b.shape"
   ]
  },
  {
   "cell_type": "code",
   "execution_count": null,
   "metadata": {},
   "outputs": [],
   "source": [
    "arr_b = np.expand_dims(arr_a, axis=0)\n",
    "arr_b.shape"
   ]
  }
 ]
}