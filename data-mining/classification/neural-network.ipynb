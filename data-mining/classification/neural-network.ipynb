{
  "nbformat": 4,
  "nbformat_minor": 0,
  "metadata": {
    "kernelspec": {
      "display_name": "Python 3.8.3 64-bit",
      "language": "python",
      "name": "python38364bitf33250e8650946d19caa144309e3c9fe"
    },
    "language_info": {
      "codemirror_mode": {
        "name": "ipython",
        "version": 3
      },
      "file_extension": ".py",
      "mimetype": "text/x-python",
      "name": "python",
      "nbconvert_exporter": "python",
      "pygments_lexer": "ipython3",
      "version": "3.8.3"
    },
    "colab": {
      "name": "neural-network.ipynb",
      "provenance": [],
      "include_colab_link": true
    },
    "accelerator": "GPU"
  },
  "cells": [
    {
      "cell_type": "markdown",
      "metadata": {
        "id": "view-in-github",
        "colab_type": "text"
      },
      "source": [
        "<a href=\"https://colab.research.google.com/github/cornflake15/data-course/blob/mining/data-mining/classification/neural-network.ipynb\" target=\"_parent\"><img src=\"https://colab.research.google.com/assets/colab-badge.svg\" alt=\"Open In Colab\"/></a>"
      ]
    },
    {
      "cell_type": "markdown",
      "metadata": {
        "id": "5u77ZhCtYXSw"
      },
      "source": [
        "# Artificial Neural Network"
      ]
    },
    {
      "cell_type": "markdown",
      "metadata": {
        "id": "vAY55JzmYXSy"
      },
      "source": [
        "Implementasi algoritma Artificial Neural Network menggunakan Keras dan Tensorflow."
      ]
    },
    {
      "cell_type": "markdown",
      "metadata": {
        "id": "ORoUlU8wYXSz"
      },
      "source": [
        "## 1. Pendahuluan\n",
        "\n",
        "**Tensorflow** adalah platform/framework untuk membangun sebuah model machine learning yang bersifat open source. Tensorflow menyediakan fitur end-to-end / full stack development, dari prototyping hingga deployment model machine learning ke dalam aplikasi.\n",
        "\n",
        "**Keras** adalah high-level API untuk mengimplementasikan Deep Learning pada platform Tensorflow. Sehingga developer/engineer bisa fokus terhadap pemodelan machine learningnya daripada cara memprogram model machine learning.\n",
        "\n",
        "Install terlebih dahulu modul Tensorflow: \n",
        "\n",
        "`pip install tensorflow`"
      ]
    },
    {
      "cell_type": "code",
      "metadata": {
        "id": "l04B-QbdYXSz"
      },
      "source": [
        "import tensorflow as tf\n",
        "from tensorflow import keras\n",
        "import numpy as np"
      ],
      "execution_count": 1,
      "outputs": []
    },
    {
      "cell_type": "markdown",
      "metadata": {
        "id": "v7dmp-wMYXS0"
      },
      "source": [
        "### 1.1 Inisialisasi model\n",
        "\n",
        "Di bagian ini kita akan membangun model neural network yang paling sederhana, terdiri 1 input layer, 1 neuron, dan 1 layer output. Untuk mengimplementasikan ini kita bisa memanfaatkan kelas **`keras`** dari modul **`tensorflow`**. Kemudian memanggil method **`Sequential`** untuk mendefinisikan arsitektur neural networknya."
      ]
    },
    {
      "cell_type": "code",
      "metadata": {
        "id": "b1ivWjTiYXS0"
      },
      "source": [
        "model = keras.Sequential([keras.layers.Dense(units=1, input_shape=[1])])"
      ],
      "execution_count": 2,
      "outputs": []
    },
    {
      "cell_type": "markdown",
      "metadata": {
        "id": "nyfOC2yOYXS1"
      },
      "source": [
        "Di dalam method Sequential kita bisa mendefinisikan tumpukan layer-layer penyusun model dengan mengimplementasikan kelas **`keras.layers.Dense()`**. Untuk lebih lengkap mengenai method `Sequential` bisa dilihat pada [dokumentasinya](https://www.tensorflow.org/api_docs/python/tf/keras/Sequential?version=nightly)."
      ]
    },
    {
      "cell_type": "code",
      "metadata": {
        "id": "ExWikhzNYXS1"
      },
      "source": [
        "tf.keras.backend.clear_session()\n",
        "model.compile(optimizer='sgd', loss='mean_squared_error')"
      ],
      "execution_count": 3,
      "outputs": []
    },
    {
      "cell_type": "markdown",
      "metadata": {
        "id": "9eJbh6f7YXS1"
      },
      "source": [
        "Selanjutnya adalah mengimplementasikan fungsi optimasi dengan memanggil method **`compile`** melalui objek **`model`**. Di dalamnya kita definisikan atribut **`optimizer`** dan juga **`loss`** function yang digunakan. Jenis-jenis [fungsi optimasi](https://www.tensorflow.org/api_docs/python/tf/keras/optimizers?version=nightly) dan [loss function](https://www.tensorflow.org/api_docs/python/tf/keras/losses) bisa langsung dibaca di dokumentasi resminya."
      ]
    },
    {
      "cell_type": "markdown",
      "metadata": {
        "id": "0PVBAdmhYXS1"
      },
      "source": [
        "### 1.2 Dataset\n",
        "\n",
        "Di bagian ini kita akan membuat dataset sederhana dalam bentuk array 1 dimensi menggunakan **`numpy`**. Data disimpan pada objek **`X`** dan label pada objek **`y`**."
      ]
    },
    {
      "cell_type": "code",
      "metadata": {
        "id": "Ypn05d2RYXS2"
      },
      "source": [
        "X = np.array([-1.0,  0.0, 1.0, 2.0, 3.0, 4.0], dtype=float)\n",
        "y = np.array([-3.0, -1.0, 1.0, 3.0, 5.0, 7.0], dtype=float)"
      ],
      "execution_count": 4,
      "outputs": []
    },
    {
      "cell_type": "markdown",
      "metadata": {
        "id": "oavt6mhwYXS2"
      },
      "source": [
        "### 1.3 Fitting\n",
        "\n",
        "Setelah mempersiapkan dataset (*biasanya proses pre-processing dataset adalah proses yang panjang, bahkan lebih panjang dari proses pemodelan neural networknya. Namun sebagai permulaan di bagian ini belum membahas pre-processing*) hal selanjutnya dilakukan adalah fitting dataset ke dalam model.\n",
        "\n",
        "Proses fitting diimplementasikan dengan memanggil method **`fit()`** melalui objek **`model`**. Method `fit()` menerima parameter input data, label data, dan epoch. Epoch mengacu pada satu kali putaran (_cycle_) untuk mendistribusikan seluruh dataset ke dalam model."
      ]
    },
    {
      "cell_type": "code",
      "metadata": {
        "id": "T4GNyTd1YXS2",
        "outputId": "e125fca7-0bb2-4d15-fa66-0253acfbe71f",
        "colab": {
          "base_uri": "https://localhost:8080/"
        }
      },
      "source": [
        "model.fit(X, y, epochs=10) # input data (X), label data (y), dan epoch (epochs)"
      ],
      "execution_count": 5,
      "outputs": [
        {
          "output_type": "stream",
          "text": [
            "Epoch 1/10\n",
            "1/1 [==============================] - 2s 2s/step - loss: 5.0150\n",
            "Epoch 2/10\n",
            "1/1 [==============================] - 0s 3ms/step - loss: 4.1204\n",
            "Epoch 3/10\n",
            "1/1 [==============================] - 0s 4ms/step - loss: 3.4130\n",
            "Epoch 4/10\n",
            "1/1 [==============================] - 0s 3ms/step - loss: 2.8529\n",
            "Epoch 5/10\n",
            "1/1 [==============================] - 0s 3ms/step - loss: 2.4088\n",
            "Epoch 6/10\n",
            "1/1 [==============================] - 0s 3ms/step - loss: 2.0560\n",
            "Epoch 7/10\n",
            "1/1 [==============================] - 0s 3ms/step - loss: 1.7752\n",
            "Epoch 8/10\n",
            "1/1 [==============================] - 0s 5ms/step - loss: 1.5510\n",
            "Epoch 9/10\n",
            "1/1 [==============================] - 0s 5ms/step - loss: 1.3714\n",
            "Epoch 10/10\n",
            "1/1 [==============================] - 0s 4ms/step - loss: 1.2271\n"
          ],
          "name": "stdout"
        },
        {
          "output_type": "execute_result",
          "data": {
            "text/plain": [
              "<tensorflow.python.keras.callbacks.History at 0x7f79500946a0>"
            ]
          },
          "metadata": {
            "tags": []
          },
          "execution_count": 5
        }
      ]
    },
    {
      "cell_type": "markdown",
      "metadata": {
        "id": "Dty3qTUKYXS2"
      },
      "source": [
        "### 1.4 Prediksi\n",
        "\n",
        "Setelah model di-training hal selanjutnya adalah melakukan prediksi. Implementasinya dapat dilakukan dengan memanggil method **`predict`** berdasarkan objek `model`, kemudian memasukkan nilai yang akan diprediksi ke dalam method tersebut. Seperti terlihat pada output di bawah, berapakah hasil prediksi untuk nilai input 10.0?. Anda bisa mencoba nilai lainnya untuk diprediksi."
      ]
    },
    {
      "cell_type": "code",
      "metadata": {
        "id": "L3yPl-lCYXS3",
        "outputId": "7e492695-93eb-4ebe-b5d2-2c0f3a9a613d",
        "colab": {
          "base_uri": "https://localhost:8080/"
        }
      },
      "source": [
        "print(model.predict([10.0]))"
      ],
      "execution_count": 6,
      "outputs": [
        {
          "output_type": "stream",
          "text": [
            "[[13.943926]]\n"
          ],
          "name": "stdout"
        }
      ]
    },
    {
      "cell_type": "markdown",
      "metadata": {
        "id": "bTokBNt4YXS3"
      },
      "source": [
        "## Contoh 1\n",
        "\n",
        "Pada bagian ini adalah implementasi neural network berdasarkan studi kasus materi [Neural Network Demystified](https://www.youtube.com/playlist?list=PLiaHhY2iBX9hdHaRr6b7XevZtgZRa1PoU) dengan Tensorflow. Pada contoh tersebut terdapat dua atribut yaitu \"Hour of Study\" dan \"Hour of Sleep\", dan satu output yaitu \"Test Score\". Contoh data dapat dilihat pada tabel di bawah.\n",
        "\n",
        "|Hour of Study|Hour of Sleep|Test Score|\n",
        "|-------------|-------------|----------|\n",
        "|3|5|75|\n",
        "|5|1|82|\n",
        "|10|2|93|\n",
        "|3|2|60|\n",
        "|4|3|63|\n",
        "|6|7|94|\n",
        "|8|10|97|\n",
        "\n",
        "Data tersebut disimpan ke dalam struktur data numpy array dua dimensi (untuk atribut/fitur) dan numpy array satu dimensi untuk output."
      ]
    },
    {
      "cell_type": "code",
      "metadata": {
        "id": "h9H6DQdDYXS3"
      },
      "source": [
        "X = np.array([[3, 5], [5, 1], [10, 2], [3, 2], [4, 3], [6, 7], [8, 10]]) # Input\n",
        "y = np.array([75, 82, 93, 60, 63, 94, 97]) # Output"
      ],
      "execution_count": 7,
      "outputs": []
    },
    {
      "cell_type": "code",
      "metadata": {
        "scrolled": true,
        "id": "ceOHA6_LYXS3",
        "outputId": "b6d67d03-9329-4c8d-f4f3-71befbc31a98",
        "colab": {
          "base_uri": "https://localhost:8080/"
        }
      },
      "source": [
        "print(X.shape) # Dimensi array Input\n",
        "print(y.shape) # Dimensi array Output"
      ],
      "execution_count": 8,
      "outputs": [
        {
          "output_type": "stream",
          "text": [
            "(7, 2)\n",
            "(7,)\n"
          ],
          "name": "stdout"
        }
      ]
    },
    {
      "cell_type": "markdown",
      "metadata": {
        "id": "mqOgtX2TYXS3"
      },
      "source": [
        "### Data Preprocessing\n",
        "\n",
        "Di bagian ini kita cukup melakukan pre-processing dengan teknik `scaling` saja, karena datasetnya hanya bertipe numerikal. Scaling diimplementasikan dengan kelas **`StandardScaler`** pada modul **`sklearn.preprocessing`**."
      ]
    },
    {
      "cell_type": "code",
      "metadata": {
        "id": "ZZSOAx8vYXS4"
      },
      "source": [
        "from sklearn.preprocessing import StandardScaler\n",
        "\n",
        "scaler = StandardScaler()\n",
        "X_scale = scaler.fit_transform(X)\n",
        "y_scale = scaler.fit_transform(y.reshape(-1, 1))"
      ],
      "execution_count": 9,
      "outputs": []
    },
    {
      "cell_type": "markdown",
      "metadata": {
        "id": "8T7Gbr7LYXS4"
      },
      "source": [
        "### Modeling\n",
        "\n",
        "Model neural network yang akan diimplementasikan berdasarkan gambar berikut ini:\n",
        "![model](https://github.com/cornflake15/data-course/blob/main/data-mining/classification/img/model-1.png?raw=1)\n",
        "\n",
        "Kemudian kita bisa me-review model yang kita buat dengan memanggil method **`summary()`** pada objek **`model`**."
      ]
    },
    {
      "cell_type": "code",
      "metadata": {
        "scrolled": true,
        "id": "phdUJyWdYXS5",
        "outputId": "d7b95f48-9607-4321-9c5a-22893bad5afc",
        "colab": {
          "base_uri": "https://localhost:8080/"
        }
      },
      "source": [
        "tf.keras.backend.clear_session()\n",
        "model = keras.Sequential([\n",
        "    keras.layers.Dense(2, input_shape=(2,)),\n",
        "    keras.layers.Dense(3, activation='sigmoid'),\n",
        "    keras.layers.Dense(1)\n",
        "])\n",
        "model.compile(optimizer='sgd', loss='mean_squared_error')\n",
        "model.summary()"
      ],
      "execution_count": 10,
      "outputs": [
        {
          "output_type": "stream",
          "text": [
            "Model: \"sequential\"\n",
            "_________________________________________________________________\n",
            "Layer (type)                 Output Shape              Param #   \n",
            "=================================================================\n",
            "dense (Dense)                (None, 2)                 6         \n",
            "_________________________________________________________________\n",
            "dense_1 (Dense)              (None, 3)                 9         \n",
            "_________________________________________________________________\n",
            "dense_2 (Dense)              (None, 1)                 4         \n",
            "=================================================================\n",
            "Total params: 19\n",
            "Trainable params: 19\n",
            "Non-trainable params: 0\n",
            "_________________________________________________________________\n"
          ],
          "name": "stdout"
        }
      ]
    },
    {
      "cell_type": "markdown",
      "metadata": {
        "id": "3gp5KDFVYXS5"
      },
      "source": [
        "### Model Fitting"
      ]
    },
    {
      "cell_type": "code",
      "metadata": {
        "scrolled": true,
        "id": "Hgy1JyONYXS5",
        "outputId": "81385c57-38a5-4b7a-ea01-17759cb430e9",
        "colab": {
          "base_uri": "https://localhost:8080/"
        }
      },
      "source": [
        "model.fit(X, y, epochs=200)"
      ],
      "execution_count": 11,
      "outputs": [
        {
          "output_type": "stream",
          "text": [
            "Epoch 1/200\n",
            "1/1 [==============================] - 0s 220ms/step - loss: 6607.3599\n",
            "Epoch 2/200\n",
            "1/1 [==============================] - 0s 5ms/step - loss: 6135.4731\n",
            "Epoch 3/200\n",
            "1/1 [==============================] - 0s 4ms/step - loss: 5522.5850\n",
            "Epoch 4/200\n",
            "1/1 [==============================] - 0s 4ms/step - loss: 4906.9009\n",
            "Epoch 5/200\n",
            "1/1 [==============================] - 0s 4ms/step - loss: 4358.4561\n",
            "Epoch 6/200\n",
            "1/1 [==============================] - 0s 6ms/step - loss: 3873.9011\n",
            "Epoch 7/200\n",
            "1/1 [==============================] - 0s 5ms/step - loss: 3445.7522\n",
            "Epoch 8/200\n",
            "1/1 [==============================] - 0s 4ms/step - loss: 3067.4392\n",
            "Epoch 9/200\n",
            "1/1 [==============================] - 0s 4ms/step - loss: 2733.1619\n",
            "Epoch 10/200\n",
            "1/1 [==============================] - 0s 4ms/step - loss: 2437.7942\n",
            "Epoch 11/200\n",
            "1/1 [==============================] - 0s 3ms/step - loss: 2176.8069\n",
            "Epoch 12/200\n",
            "1/1 [==============================] - 0s 6ms/step - loss: 1946.1986\n",
            "Epoch 13/200\n",
            "1/1 [==============================] - 0s 4ms/step - loss: 1742.4330\n",
            "Epoch 14/200\n",
            "1/1 [==============================] - 0s 5ms/step - loss: 1562.3857\n",
            "Epoch 15/200\n",
            "1/1 [==============================] - 0s 5ms/step - loss: 1403.2958\n",
            "Epoch 16/200\n",
            "1/1 [==============================] - 0s 5ms/step - loss: 1262.7244\n",
            "Epoch 17/200\n",
            "1/1 [==============================] - 0s 3ms/step - loss: 1138.5149\n",
            "Epoch 18/200\n",
            "1/1 [==============================] - 0s 4ms/step - loss: 1028.7635\n",
            "Epoch 19/200\n",
            "1/1 [==============================] - 0s 4ms/step - loss: 931.7871\n",
            "Epoch 20/200\n",
            "1/1 [==============================] - 0s 4ms/step - loss: 846.0990\n",
            "Epoch 21/200\n",
            "1/1 [==============================] - 0s 5ms/step - loss: 770.3846\n",
            "Epoch 22/200\n",
            "1/1 [==============================] - 0s 4ms/step - loss: 703.4837\n",
            "Epoch 23/200\n",
            "1/1 [==============================] - 0s 7ms/step - loss: 644.3698\n",
            "Epoch 24/200\n",
            "1/1 [==============================] - 0s 5ms/step - loss: 592.1366\n",
            "Epoch 25/200\n",
            "1/1 [==============================] - 0s 5ms/step - loss: 545.9833\n",
            "Epoch 26/200\n",
            "1/1 [==============================] - 0s 4ms/step - loss: 505.2021\n",
            "Epoch 27/200\n",
            "1/1 [==============================] - 0s 4ms/step - loss: 469.1678\n",
            "Epoch 28/200\n",
            "1/1 [==============================] - 0s 4ms/step - loss: 437.3279\n",
            "Epoch 29/200\n",
            "1/1 [==============================] - 0s 5ms/step - loss: 409.1939\n",
            "Epoch 30/200\n",
            "1/1 [==============================] - 0s 5ms/step - loss: 384.3346\n",
            "Epoch 31/200\n",
            "1/1 [==============================] - 0s 6ms/step - loss: 362.3689\n",
            "Epoch 32/200\n",
            "1/1 [==============================] - 0s 5ms/step - loss: 342.9598\n",
            "Epoch 33/200\n",
            "1/1 [==============================] - 0s 4ms/step - loss: 325.8096\n",
            "Epoch 34/200\n",
            "1/1 [==============================] - 0s 4ms/step - loss: 310.6557\n",
            "Epoch 35/200\n",
            "1/1 [==============================] - 0s 4ms/step - loss: 297.2655\n",
            "Epoch 36/200\n",
            "1/1 [==============================] - 0s 4ms/step - loss: 285.4337\n",
            "Epoch 37/200\n",
            "1/1 [==============================] - 0s 5ms/step - loss: 274.9789\n",
            "Epoch 38/200\n",
            "1/1 [==============================] - 0s 6ms/step - loss: 265.7407\n",
            "Epoch 39/200\n",
            "1/1 [==============================] - 0s 5ms/step - loss: 257.5776\n",
            "Epoch 40/200\n",
            "1/1 [==============================] - 0s 5ms/step - loss: 250.3642\n",
            "Epoch 41/200\n",
            "1/1 [==============================] - 0s 5ms/step - loss: 243.9903\n",
            "Epoch 42/200\n",
            "1/1 [==============================] - 0s 4ms/step - loss: 238.3579\n",
            "Epoch 43/200\n",
            "1/1 [==============================] - 0s 5ms/step - loss: 233.3806\n",
            "Epoch 44/200\n",
            "1/1 [==============================] - 0s 5ms/step - loss: 228.9823\n",
            "Epoch 45/200\n",
            "1/1 [==============================] - 0s 4ms/step - loss: 225.0955\n",
            "Epoch 46/200\n",
            "1/1 [==============================] - 0s 5ms/step - loss: 221.6604\n",
            "Epoch 47/200\n",
            "1/1 [==============================] - 0s 6ms/step - loss: 218.6246\n",
            "Epoch 48/200\n",
            "1/1 [==============================] - 0s 4ms/step - loss: 215.9413\n",
            "Epoch 49/200\n",
            "1/1 [==============================] - 0s 6ms/step - loss: 213.5695\n",
            "Epoch 50/200\n",
            "1/1 [==============================] - 0s 5ms/step - loss: 211.4729\n",
            "Epoch 51/200\n",
            "1/1 [==============================] - 0s 6ms/step - loss: 209.6190\n",
            "Epoch 52/200\n",
            "1/1 [==============================] - 0s 4ms/step - loss: 207.9796\n",
            "Epoch 53/200\n",
            "1/1 [==============================] - 0s 5ms/step - loss: 206.5295\n",
            "Epoch 54/200\n",
            "1/1 [==============================] - 0s 4ms/step - loss: 205.2461\n",
            "Epoch 55/200\n",
            "1/1 [==============================] - 0s 3ms/step - loss: 204.1098\n",
            "Epoch 56/200\n",
            "1/1 [==============================] - 0s 4ms/step - loss: 203.1027\n",
            "Epoch 57/200\n",
            "1/1 [==============================] - 0s 4ms/step - loss: 202.2090\n",
            "Epoch 58/200\n",
            "1/1 [==============================] - 0s 5ms/step - loss: 201.4143\n",
            "Epoch 59/200\n",
            "1/1 [==============================] - 0s 5ms/step - loss: 200.7053\n",
            "Epoch 60/200\n",
            "1/1 [==============================] - 0s 5ms/step - loss: 200.0696\n",
            "Epoch 61/200\n",
            "1/1 [==============================] - 0s 5ms/step - loss: 199.4937\n",
            "Epoch 62/200\n",
            "1/1 [==============================] - 0s 4ms/step - loss: 198.9628\n",
            "Epoch 63/200\n",
            "1/1 [==============================] - 0s 6ms/step - loss: 198.4556\n",
            "Epoch 64/200\n",
            "1/1 [==============================] - 0s 12ms/step - loss: 197.9323\n",
            "Epoch 65/200\n",
            "1/1 [==============================] - 0s 7ms/step - loss: 197.2892\n",
            "Epoch 66/200\n",
            "1/1 [==============================] - 0s 15ms/step - loss: 196.1019\n",
            "Epoch 67/200\n",
            "1/1 [==============================] - 0s 4ms/step - loss: 190.9222\n",
            "Epoch 68/200\n",
            "1/1 [==============================] - 0s 3ms/step - loss: 624.5626\n",
            "Epoch 69/200\n",
            "1/1 [==============================] - 0s 4ms/step - loss: 195.9262\n",
            "Epoch 70/200\n",
            "1/1 [==============================] - 0s 4ms/step - loss: 195.8968\n",
            "Epoch 71/200\n",
            "1/1 [==============================] - 0s 4ms/step - loss: 195.8707\n",
            "Epoch 72/200\n",
            "1/1 [==============================] - 0s 6ms/step - loss: 195.8477\n",
            "Epoch 73/200\n",
            "1/1 [==============================] - 0s 6ms/step - loss: 195.8274\n",
            "Epoch 74/200\n",
            "1/1 [==============================] - 0s 8ms/step - loss: 195.8095\n",
            "Epoch 75/200\n",
            "1/1 [==============================] - 0s 4ms/step - loss: 195.7936\n",
            "Epoch 76/200\n",
            "1/1 [==============================] - 0s 7ms/step - loss: 195.7796\n",
            "Epoch 77/200\n",
            "1/1 [==============================] - 0s 5ms/step - loss: 195.7671\n",
            "Epoch 78/200\n",
            "1/1 [==============================] - 0s 5ms/step - loss: 195.7562\n",
            "Epoch 79/200\n",
            "1/1 [==============================] - 0s 7ms/step - loss: 195.7465\n",
            "Epoch 80/200\n",
            "1/1 [==============================] - 0s 4ms/step - loss: 195.7380\n",
            "Epoch 81/200\n",
            "1/1 [==============================] - 0s 12ms/step - loss: 195.7304\n",
            "Epoch 82/200\n",
            "1/1 [==============================] - 0s 4ms/step - loss: 195.7237\n",
            "Epoch 83/200\n",
            "1/1 [==============================] - 0s 6ms/step - loss: 195.7178\n",
            "Epoch 84/200\n",
            "1/1 [==============================] - 0s 5ms/step - loss: 195.7126\n",
            "Epoch 85/200\n",
            "1/1 [==============================] - 0s 8ms/step - loss: 195.7080\n",
            "Epoch 86/200\n",
            "1/1 [==============================] - 0s 5ms/step - loss: 195.7040\n",
            "Epoch 87/200\n",
            "1/1 [==============================] - 0s 5ms/step - loss: 195.7004\n",
            "Epoch 88/200\n",
            "1/1 [==============================] - 0s 5ms/step - loss: 195.6972\n",
            "Epoch 89/200\n",
            "1/1 [==============================] - 0s 6ms/step - loss: 195.6944\n",
            "Epoch 90/200\n",
            "1/1 [==============================] - 0s 5ms/step - loss: 195.6918\n",
            "Epoch 91/200\n",
            "1/1 [==============================] - 0s 6ms/step - loss: 195.6897\n",
            "Epoch 92/200\n",
            "1/1 [==============================] - 0s 4ms/step - loss: 195.6877\n",
            "Epoch 93/200\n",
            "1/1 [==============================] - 0s 5ms/step - loss: 195.6861\n",
            "Epoch 94/200\n",
            "1/1 [==============================] - 0s 7ms/step - loss: 195.6845\n",
            "Epoch 95/200\n",
            "1/1 [==============================] - 0s 8ms/step - loss: 195.6832\n",
            "Epoch 96/200\n",
            "1/1 [==============================] - 0s 6ms/step - loss: 195.6820\n",
            "Epoch 97/200\n",
            "1/1 [==============================] - 0s 4ms/step - loss: 195.6810\n",
            "Epoch 98/200\n",
            "1/1 [==============================] - 0s 5ms/step - loss: 195.6801\n",
            "Epoch 99/200\n",
            "1/1 [==============================] - 0s 4ms/step - loss: 195.6792\n",
            "Epoch 100/200\n",
            "1/1 [==============================] - 0s 5ms/step - loss: 195.6785\n",
            "Epoch 101/200\n",
            "1/1 [==============================] - 0s 3ms/step - loss: 195.6779\n",
            "Epoch 102/200\n",
            "1/1 [==============================] - 0s 3ms/step - loss: 195.6773\n",
            "Epoch 103/200\n",
            "1/1 [==============================] - 0s 4ms/step - loss: 195.6768\n",
            "Epoch 104/200\n",
            "1/1 [==============================] - 0s 5ms/step - loss: 195.6763\n",
            "Epoch 105/200\n",
            "1/1 [==============================] - 0s 3ms/step - loss: 195.6760\n",
            "Epoch 106/200\n",
            "1/1 [==============================] - 0s 4ms/step - loss: 195.6757\n",
            "Epoch 107/200\n",
            "1/1 [==============================] - 0s 4ms/step - loss: 195.6754\n",
            "Epoch 108/200\n",
            "1/1 [==============================] - 0s 5ms/step - loss: 195.6750\n",
            "Epoch 109/200\n",
            "1/1 [==============================] - 0s 8ms/step - loss: 195.6748\n",
            "Epoch 110/200\n",
            "1/1 [==============================] - 0s 10ms/step - loss: 195.6746\n",
            "Epoch 111/200\n",
            "1/1 [==============================] - 0s 7ms/step - loss: 195.6745\n",
            "Epoch 112/200\n",
            "1/1 [==============================] - 0s 7ms/step - loss: 195.6743\n",
            "Epoch 113/200\n",
            "1/1 [==============================] - 0s 7ms/step - loss: 195.6742\n",
            "Epoch 114/200\n",
            "1/1 [==============================] - 0s 5ms/step - loss: 195.6740\n",
            "Epoch 115/200\n",
            "1/1 [==============================] - 0s 6ms/step - loss: 195.6740\n",
            "Epoch 116/200\n",
            "1/1 [==============================] - 0s 5ms/step - loss: 195.6738\n",
            "Epoch 117/200\n",
            "1/1 [==============================] - 0s 9ms/step - loss: 195.6737\n",
            "Epoch 118/200\n",
            "1/1 [==============================] - 0s 6ms/step - loss: 195.6736\n",
            "Epoch 119/200\n",
            "1/1 [==============================] - 0s 5ms/step - loss: 195.6736\n",
            "Epoch 120/200\n",
            "1/1 [==============================] - 0s 8ms/step - loss: 195.6735\n",
            "Epoch 121/200\n",
            "1/1 [==============================] - 0s 6ms/step - loss: 195.6735\n",
            "Epoch 122/200\n",
            "1/1 [==============================] - 0s 5ms/step - loss: 195.6734\n",
            "Epoch 123/200\n",
            "1/1 [==============================] - 0s 5ms/step - loss: 195.6733\n",
            "Epoch 124/200\n",
            "1/1 [==============================] - 0s 5ms/step - loss: 195.6733\n",
            "Epoch 125/200\n",
            "1/1 [==============================] - 0s 8ms/step - loss: 195.6733\n",
            "Epoch 126/200\n",
            "1/1 [==============================] - 0s 5ms/step - loss: 195.6733\n",
            "Epoch 127/200\n",
            "1/1 [==============================] - 0s 7ms/step - loss: 195.6732\n",
            "Epoch 128/200\n",
            "1/1 [==============================] - 0s 5ms/step - loss: 195.6731\n",
            "Epoch 129/200\n",
            "1/1 [==============================] - 0s 8ms/step - loss: 195.6732\n",
            "Epoch 130/200\n",
            "1/1 [==============================] - 0s 5ms/step - loss: 195.6732\n",
            "Epoch 131/200\n",
            "1/1 [==============================] - 0s 7ms/step - loss: 195.6732\n",
            "Epoch 132/200\n",
            "1/1 [==============================] - 0s 4ms/step - loss: 195.6732\n",
            "Epoch 133/200\n",
            "1/1 [==============================] - 0s 14ms/step - loss: 195.6731\n",
            "Epoch 134/200\n",
            "1/1 [==============================] - 0s 5ms/step - loss: 195.6731\n",
            "Epoch 135/200\n",
            "1/1 [==============================] - 0s 6ms/step - loss: 195.6731\n",
            "Epoch 136/200\n",
            "1/1 [==============================] - 0s 6ms/step - loss: 195.6731\n",
            "Epoch 137/200\n",
            "1/1 [==============================] - 0s 6ms/step - loss: 195.6730\n",
            "Epoch 138/200\n",
            "1/1 [==============================] - 0s 7ms/step - loss: 195.6731\n",
            "Epoch 139/200\n",
            "1/1 [==============================] - 0s 11ms/step - loss: 195.6730\n",
            "Epoch 140/200\n",
            "1/1 [==============================] - 0s 6ms/step - loss: 195.6731\n",
            "Epoch 141/200\n",
            "1/1 [==============================] - 0s 5ms/step - loss: 195.6731\n",
            "Epoch 142/200\n",
            "1/1 [==============================] - 0s 6ms/step - loss: 195.6731\n",
            "Epoch 143/200\n",
            "1/1 [==============================] - 0s 11ms/step - loss: 195.6731\n",
            "Epoch 144/200\n",
            "1/1 [==============================] - 0s 7ms/step - loss: 195.6731\n",
            "Epoch 145/200\n",
            "1/1 [==============================] - 0s 4ms/step - loss: 195.6731\n",
            "Epoch 146/200\n",
            "1/1 [==============================] - 0s 7ms/step - loss: 195.6731\n",
            "Epoch 147/200\n",
            "1/1 [==============================] - 0s 7ms/step - loss: 195.6731\n",
            "Epoch 148/200\n",
            "1/1 [==============================] - 0s 4ms/step - loss: 195.6731\n",
            "Epoch 149/200\n",
            "1/1 [==============================] - 0s 5ms/step - loss: 195.6731\n",
            "Epoch 150/200\n",
            "1/1 [==============================] - 0s 5ms/step - loss: 195.6731\n",
            "Epoch 151/200\n",
            "1/1 [==============================] - 0s 6ms/step - loss: 195.6731\n",
            "Epoch 152/200\n",
            "1/1 [==============================] - 0s 6ms/step - loss: 195.6731\n",
            "Epoch 153/200\n",
            "1/1 [==============================] - 0s 6ms/step - loss: 195.6731\n",
            "Epoch 154/200\n",
            "1/1 [==============================] - 0s 5ms/step - loss: 195.6731\n",
            "Epoch 155/200\n",
            "1/1 [==============================] - 0s 6ms/step - loss: 195.6731\n",
            "Epoch 156/200\n",
            "1/1 [==============================] - 0s 6ms/step - loss: 195.6730\n",
            "Epoch 157/200\n",
            "1/1 [==============================] - 0s 7ms/step - loss: 195.6730\n",
            "Epoch 158/200\n",
            "1/1 [==============================] - 0s 4ms/step - loss: 195.6731\n",
            "Epoch 159/200\n",
            "1/1 [==============================] - 0s 5ms/step - loss: 195.6731\n",
            "Epoch 160/200\n",
            "1/1 [==============================] - 0s 4ms/step - loss: 195.6730\n",
            "Epoch 161/200\n",
            "1/1 [==============================] - 0s 6ms/step - loss: 195.6730\n",
            "Epoch 162/200\n",
            "1/1 [==============================] - 0s 10ms/step - loss: 195.6730\n",
            "Epoch 163/200\n",
            "1/1 [==============================] - 0s 6ms/step - loss: 195.6731\n",
            "Epoch 164/200\n",
            "1/1 [==============================] - 0s 5ms/step - loss: 195.6731\n",
            "Epoch 165/200\n",
            "1/1 [==============================] - 0s 8ms/step - loss: 195.6730\n",
            "Epoch 166/200\n",
            "1/1 [==============================] - 0s 5ms/step - loss: 195.6730\n",
            "Epoch 167/200\n",
            "1/1 [==============================] - 0s 10ms/step - loss: 195.6730\n",
            "Epoch 168/200\n",
            "1/1 [==============================] - 0s 5ms/step - loss: 195.6731\n",
            "Epoch 169/200\n",
            "1/1 [==============================] - 0s 12ms/step - loss: 195.6730\n",
            "Epoch 170/200\n",
            "1/1 [==============================] - 0s 6ms/step - loss: 195.6730\n",
            "Epoch 171/200\n",
            "1/1 [==============================] - 0s 33ms/step - loss: 195.6730\n",
            "Epoch 172/200\n",
            "1/1 [==============================] - 0s 6ms/step - loss: 195.6730\n",
            "Epoch 173/200\n",
            "1/1 [==============================] - 0s 9ms/step - loss: 195.6730\n",
            "Epoch 174/200\n",
            "1/1 [==============================] - 0s 5ms/step - loss: 195.6730\n",
            "Epoch 175/200\n",
            "1/1 [==============================] - 0s 13ms/step - loss: 195.6730\n",
            "Epoch 176/200\n",
            "1/1 [==============================] - 0s 10ms/step - loss: 195.6730\n",
            "Epoch 177/200\n",
            "1/1 [==============================] - 0s 14ms/step - loss: 195.6731\n",
            "Epoch 178/200\n",
            "1/1 [==============================] - 0s 14ms/step - loss: 195.6730\n",
            "Epoch 179/200\n",
            "1/1 [==============================] - 0s 6ms/step - loss: 195.6730\n",
            "Epoch 180/200\n",
            "1/1 [==============================] - 0s 15ms/step - loss: 195.6730\n",
            "Epoch 181/200\n",
            "1/1 [==============================] - 0s 10ms/step - loss: 195.6730\n",
            "Epoch 182/200\n",
            "1/1 [==============================] - 0s 14ms/step - loss: 195.6731\n",
            "Epoch 183/200\n",
            "1/1 [==============================] - 0s 4ms/step - loss: 195.6730\n",
            "Epoch 184/200\n",
            "1/1 [==============================] - 0s 5ms/step - loss: 195.6731\n",
            "Epoch 185/200\n",
            "1/1 [==============================] - 0s 4ms/step - loss: 195.6731\n",
            "Epoch 186/200\n",
            "1/1 [==============================] - 0s 7ms/step - loss: 195.6731\n",
            "Epoch 187/200\n",
            "1/1 [==============================] - 0s 6ms/step - loss: 195.6731\n",
            "Epoch 188/200\n",
            "1/1 [==============================] - 0s 6ms/step - loss: 195.6731\n",
            "Epoch 189/200\n",
            "1/1 [==============================] - 0s 6ms/step - loss: 195.6730\n",
            "Epoch 190/200\n",
            "1/1 [==============================] - 0s 7ms/step - loss: 195.6731\n",
            "Epoch 191/200\n",
            "1/1 [==============================] - 0s 6ms/step - loss: 195.6730\n",
            "Epoch 192/200\n",
            "1/1 [==============================] - 0s 5ms/step - loss: 195.6731\n",
            "Epoch 193/200\n",
            "1/1 [==============================] - 0s 5ms/step - loss: 195.6730\n",
            "Epoch 194/200\n",
            "1/1 [==============================] - 0s 5ms/step - loss: 195.6730\n",
            "Epoch 195/200\n",
            "1/1 [==============================] - 0s 9ms/step - loss: 195.6730\n",
            "Epoch 196/200\n",
            "1/1 [==============================] - 0s 9ms/step - loss: 195.6730\n",
            "Epoch 197/200\n",
            "1/1 [==============================] - 0s 6ms/step - loss: 195.6730\n",
            "Epoch 198/200\n",
            "1/1 [==============================] - 0s 10ms/step - loss: 195.6730\n",
            "Epoch 199/200\n",
            "1/1 [==============================] - 0s 12ms/step - loss: 195.6730\n",
            "Epoch 200/200\n",
            "1/1 [==============================] - 0s 6ms/step - loss: 195.6730\n"
          ],
          "name": "stdout"
        },
        {
          "output_type": "execute_result",
          "data": {
            "text/plain": [
              "<tensorflow.python.keras.callbacks.History at 0x7f78e9878588>"
            ]
          },
          "metadata": {
            "tags": []
          },
          "execution_count": 11
        }
      ]
    },
    {
      "cell_type": "markdown",
      "metadata": {
        "id": "GjGkeASCYXS5"
      },
      "source": [
        "### Prediksi"
      ]
    },
    {
      "cell_type": "code",
      "metadata": {
        "scrolled": true,
        "id": "qw1W3_Y_YXS5",
        "outputId": "b6145a87-31f7-4981-ca54-25f39645d649",
        "colab": {
          "base_uri": "https://localhost:8080/"
        }
      },
      "source": [
        "print(model.predict([[5, 5]]))"
      ],
      "execution_count": 12,
      "outputs": [
        {
          "output_type": "stream",
          "text": [
            "[[80.571304]]\n"
          ],
          "name": "stdout"
        }
      ]
    },
    {
      "cell_type": "markdown",
      "metadata": {
        "id": "tAwuQ19xYXS6"
      },
      "source": [
        "##  Studi Kasus 1\n",
        "\n",
        "\n",
        "**Fashion MNIST**\n",
        "\n",
        "\n",
        "<img src=\"https://github.com/cornflake15/data-course/blob/main/data-mining/classification/img/fashion-mnist-sprite.png?raw=1\" alt=\"Drawing\" style=\"width: 500px;\"/>\n",
        "\n",
        "Fashion MNIST adalah dataset gambar pakaian sebanyak 70,0000 gambar dengan resolusi 28x28 pixel dengan rentang nilai 0 sampai dengan 255. Dataset ini terdiri dari 10 kategori (label) seperti tertera di tabel bawah ini.\n",
        "\n",
        "<table>\n",
        "  <tr>\n",
        "    <th>Label</th>\n",
        "    <th>Class</th>\n",
        "  </tr>\n",
        "  <tr>\n",
        "    <td>0</td>\n",
        "    <td>T-shirt/top</td>\n",
        "  </tr>\n",
        "  <tr>\n",
        "    <td>1</td>\n",
        "    <td>Trouser</td>\n",
        "  </tr>\n",
        "    <tr>\n",
        "    <td>2</td>\n",
        "    <td>Pullover</td>\n",
        "  </tr>\n",
        "    <tr>\n",
        "    <td>3</td>\n",
        "    <td>Dress</td>\n",
        "  </tr>\n",
        "    <tr>\n",
        "    <td>4</td>\n",
        "    <td>Coat</td>\n",
        "  </tr>\n",
        "    <tr>\n",
        "    <td>5</td>\n",
        "    <td>Sandal</td>\n",
        "  </tr>\n",
        "    <tr>\n",
        "    <td>6</td>\n",
        "    <td>Shirt</td>\n",
        "  </tr>\n",
        "    <tr>\n",
        "    <td>7</td>\n",
        "    <td>Sneaker</td>\n",
        "  </tr>\n",
        "    <tr>\n",
        "    <td>8</td>\n",
        "    <td>Bag</td>\n",
        "  </tr>\n",
        "    <tr>\n",
        "    <td>9</td>\n",
        "    <td>Ankle boot</td>\n",
        "  </tr>\n",
        "</table>\n",
        "\n",
        "\n",
        "Dataset ini sudah disediakan oleh Tensorflow sehingga kita tidak harus men-downloadnya secara terpisah. Dataset Fashion MNIST dapat di-download dengan memanggil modul **`tensorflow.keras.datasets.fashion_minist`**. \n",
        "\n",
        "Domain permasalahan yang bisa dipecahkan oleh neural network pada dataset ini adalah klasifikasi, sehingga kita harus memisahkan antara dataset yang digunakan untuk training dan dataset yang digunakan untuk testing."
      ]
    },
    {
      "cell_type": "code",
      "metadata": {
        "id": "LEghKNgUYXS6",
        "outputId": "b4f1647c-1f9b-41f6-f657-94557e9e2f92",
        "colab": {
          "base_uri": "https://localhost:8080/"
        }
      },
      "source": [
        "mnist = tf.keras.datasets.fashion_mnist # download dataset\n",
        "(training_images, training_labels), (test_images, test_labels) = mnist.load_data() # memisahkan dataset menjadi training dan testing"
      ],
      "execution_count": 13,
      "outputs": [
        {
          "output_type": "stream",
          "text": [
            "Downloading data from https://storage.googleapis.com/tensorflow/tf-keras-datasets/train-labels-idx1-ubyte.gz\n",
            "32768/29515 [=================================] - 0s 0us/step\n",
            "Downloading data from https://storage.googleapis.com/tensorflow/tf-keras-datasets/train-images-idx3-ubyte.gz\n",
            "26427392/26421880 [==============================] - 0s 0us/step\n",
            "Downloading data from https://storage.googleapis.com/tensorflow/tf-keras-datasets/t10k-labels-idx1-ubyte.gz\n",
            "8192/5148 [===============================================] - 0s 0us/step\n",
            "Downloading data from https://storage.googleapis.com/tensorflow/tf-keras-datasets/t10k-images-idx3-ubyte.gz\n",
            "4423680/4422102 [==============================] - 0s 0us/step\n"
          ],
          "name": "stdout"
        }
      ]
    },
    {
      "cell_type": "markdown",
      "metadata": {
        "id": "aKDfIvVBYXS7"
      },
      "source": [
        "**Tampilkan Contoh Data**"
      ]
    },
    {
      "cell_type": "code",
      "metadata": {
        "id": "4KDkzV10YXS7",
        "outputId": "7b29cccd-5094-4430-8f90-fcab7b429929",
        "colab": {
          "base_uri": "https://localhost:8080/",
          "height": 794
        }
      },
      "source": [
        "import matplotlib.pyplot as plt\n",
        "\n",
        "np.set_printoptions(linewidth=200)\n",
        "plt.imshow(training_images[0])\n",
        "print(training_images[0])"
      ],
      "execution_count": 14,
      "outputs": [
        {
          "output_type": "stream",
          "text": [
            "[[  0   0   0   0   0   0   0   0   0   0   0   0   0   0   0   0   0   0   0   0   0   0   0   0   0   0   0   0]\n",
            " [  0   0   0   0   0   0   0   0   0   0   0   0   0   0   0   0   0   0   0   0   0   0   0   0   0   0   0   0]\n",
            " [  0   0   0   0   0   0   0   0   0   0   0   0   0   0   0   0   0   0   0   0   0   0   0   0   0   0   0   0]\n",
            " [  0   0   0   0   0   0   0   0   0   0   0   0   1   0   0  13  73   0   0   1   4   0   0   0   0   1   1   0]\n",
            " [  0   0   0   0   0   0   0   0   0   0   0   0   3   0  36 136 127  62  54   0   0   0   1   3   4   0   0   3]\n",
            " [  0   0   0   0   0   0   0   0   0   0   0   0   6   0 102 204 176 134 144 123  23   0   0   0   0  12  10   0]\n",
            " [  0   0   0   0   0   0   0   0   0   0   0   0   0   0 155 236 207 178 107 156 161 109  64  23  77 130  72  15]\n",
            " [  0   0   0   0   0   0   0   0   0   0   0   1   0  69 207 223 218 216 216 163 127 121 122 146 141  88 172  66]\n",
            " [  0   0   0   0   0   0   0   0   0   1   1   1   0 200 232 232 233 229 223 223 215 213 164 127 123 196 229   0]\n",
            " [  0   0   0   0   0   0   0   0   0   0   0   0   0 183 225 216 223 228 235 227 224 222 224 221 223 245 173   0]\n",
            " [  0   0   0   0   0   0   0   0   0   0   0   0   0 193 228 218 213 198 180 212 210 211 213 223 220 243 202   0]\n",
            " [  0   0   0   0   0   0   0   0   0   1   3   0  12 219 220 212 218 192 169 227 208 218 224 212 226 197 209  52]\n",
            " [  0   0   0   0   0   0   0   0   0   0   6   0  99 244 222 220 218 203 198 221 215 213 222 220 245 119 167  56]\n",
            " [  0   0   0   0   0   0   0   0   0   4   0   0  55 236 228 230 228 240 232 213 218 223 234 217 217 209  92   0]\n",
            " [  0   0   1   4   6   7   2   0   0   0   0   0 237 226 217 223 222 219 222 221 216 223 229 215 218 255  77   0]\n",
            " [  0   3   0   0   0   0   0   0   0  62 145 204 228 207 213 221 218 208 211 218 224 223 219 215 224 244 159   0]\n",
            " [  0   0   0   0  18  44  82 107 189 228 220 222 217 226 200 205 211 230 224 234 176 188 250 248 233 238 215   0]\n",
            " [  0  57 187 208 224 221 224 208 204 214 208 209 200 159 245 193 206 223 255 255 221 234 221 211 220 232 246   0]\n",
            " [  3 202 228 224 221 211 211 214 205 205 205 220 240  80 150 255 229 221 188 154 191 210 204 209 222 228 225   0]\n",
            " [ 98 233 198 210 222 229 229 234 249 220 194 215 217 241  65  73 106 117 168 219 221 215 217 223 223 224 229  29]\n",
            " [ 75 204 212 204 193 205 211 225 216 185 197 206 198 213 240 195 227 245 239 223 218 212 209 222 220 221 230  67]\n",
            " [ 48 203 183 194 213 197 185 190 194 192 202 214 219 221 220 236 225 216 199 206 186 181 177 172 181 205 206 115]\n",
            " [  0 122 219 193 179 171 183 196 204 210 213 207 211 210 200 196 194 191 195 191 198 192 176 156 167 177 210  92]\n",
            " [  0   0  74 189 212 191 175 172 175 181 185 188 189 188 193 198 204 209 210 210 211 188 188 194 192 216 170   0]\n",
            " [  2   0   0   0  66 200 222 237 239 242 246 243 244 221 220 193 191 179 182 182 181 176 166 168  99  58   0   0]\n",
            " [  0   0   0   0   0   0   0  40  61  44  72  41  35   0   0   0   0   0   0   0   0   0   0   0   0   0   0   0]\n",
            " [  0   0   0   0   0   0   0   0   0   0   0   0   0   0   0   0   0   0   0   0   0   0   0   0   0   0   0   0]\n",
            " [  0   0   0   0   0   0   0   0   0   0   0   0   0   0   0   0   0   0   0   0   0   0   0   0   0   0   0   0]]\n"
          ],
          "name": "stdout"
        },
        {
          "output_type": "display_data",
          "data": {
            "image/png": "[encoded data removed]",
            "text/plain": [
              "<Figure size 432x288 with 1 Axes>"
            ]
          },
          "metadata": {
            "tags": [],
            "needs_background": "light"
          }
        }
      ]
    },
    {
      "cell_type": "markdown",
      "metadata": {
        "id": "_2sEEiSCYXS7"
      },
      "source": [
        "**Normalisasi Data**\n",
        "\n",
        "Ini adalah tahap pre-processing data dengan cara menormalisasi nilai setiap pixel dari gambar dengan cara membagi nilai tersebut dengan 255."
      ]
    },
    {
      "cell_type": "code",
      "metadata": {
        "id": "CWEZ6eYuYXS7"
      },
      "source": [
        "training_images  = training_images / 255.0\n",
        "test_images = test_images / 255.0"
      ],
      "execution_count": 15,
      "outputs": []
    },
    {
      "cell_type": "code",
      "metadata": {
        "id": "l1UMrV0JYXS7",
        "outputId": "c1e9f7b6-b5f8-419d-9cb4-b31e3712b87c",
        "colab": {
          "base_uri": "https://localhost:8080/"
        }
      },
      "source": [
        "# Tampilkan data setelah dinormalisasi\n",
        "print(np.around(training_images[0], 2)) # Dibulatkan sebanyak 2 angka sebagai contoh saja"
      ],
      "execution_count": 16,
      "outputs": [
        {
          "output_type": "stream",
          "text": [
            "[[0.   0.   0.   0.   0.   0.   0.   0.   0.   0.   0.   0.   0.   0.   0.   0.   0.   0.   0.   0.   0.   0.   0.   0.   0.   0.   0.   0.  ]\n",
            " [0.   0.   0.   0.   0.   0.   0.   0.   0.   0.   0.   0.   0.   0.   0.   0.   0.   0.   0.   0.   0.   0.   0.   0.   0.   0.   0.   0.  ]\n",
            " [0.   0.   0.   0.   0.   0.   0.   0.   0.   0.   0.   0.   0.   0.   0.   0.   0.   0.   0.   0.   0.   0.   0.   0.   0.   0.   0.   0.  ]\n",
            " [0.   0.   0.   0.   0.   0.   0.   0.   0.   0.   0.   0.   0.   0.   0.   0.05 0.29 0.   0.   0.   0.02 0.   0.   0.   0.   0.   0.   0.  ]\n",
            " [0.   0.   0.   0.   0.   0.   0.   0.   0.   0.   0.   0.   0.01 0.   0.14 0.53 0.5  0.24 0.21 0.   0.   0.   0.   0.01 0.02 0.   0.   0.01]\n",
            " [0.   0.   0.   0.   0.   0.   0.   0.   0.   0.   0.   0.   0.02 0.   0.4  0.8  0.69 0.53 0.56 0.48 0.09 0.   0.   0.   0.   0.05 0.04 0.  ]\n",
            " [0.   0.   0.   0.   0.   0.   0.   0.   0.   0.   0.   0.   0.   0.   0.61 0.93 0.81 0.7  0.42 0.61 0.63 0.43 0.25 0.09 0.3  0.51 0.28 0.06]\n",
            " [0.   0.   0.   0.   0.   0.   0.   0.   0.   0.   0.   0.   0.   0.27 0.81 0.87 0.85 0.85 0.85 0.64 0.5  0.47 0.48 0.57 0.55 0.35 0.67 0.26]\n",
            " [0.   0.   0.   0.   0.   0.   0.   0.   0.   0.   0.   0.   0.   0.78 0.91 0.91 0.91 0.9  0.87 0.87 0.84 0.84 0.64 0.5  0.48 0.77 0.9  0.  ]\n",
            " [0.   0.   0.   0.   0.   0.   0.   0.   0.   0.   0.   0.   0.   0.72 0.88 0.85 0.87 0.89 0.92 0.89 0.88 0.87 0.88 0.87 0.87 0.96 0.68 0.  ]\n",
            " [0.   0.   0.   0.   0.   0.   0.   0.   0.   0.   0.   0.   0.   0.76 0.89 0.85 0.84 0.78 0.71 0.83 0.82 0.83 0.84 0.87 0.86 0.95 0.79 0.  ]\n",
            " [0.   0.   0.   0.   0.   0.   0.   0.   0.   0.   0.01 0.   0.05 0.86 0.86 0.83 0.85 0.75 0.66 0.89 0.82 0.85 0.88 0.83 0.89 0.77 0.82 0.2 ]\n",
            " [0.   0.   0.   0.   0.   0.   0.   0.   0.   0.   0.02 0.   0.39 0.96 0.87 0.86 0.85 0.8  0.78 0.87 0.84 0.84 0.87 0.86 0.96 0.47 0.65 0.22]\n",
            " [0.   0.   0.   0.   0.   0.   0.   0.   0.   0.02 0.   0.   0.22 0.93 0.89 0.9  0.89 0.94 0.91 0.84 0.85 0.87 0.92 0.85 0.85 0.82 0.36 0.  ]\n",
            " [0.   0.   0.   0.02 0.02 0.03 0.01 0.   0.   0.   0.   0.   0.93 0.89 0.85 0.87 0.87 0.86 0.87 0.87 0.85 0.87 0.9  0.84 0.85 1.   0.3  0.  ]\n",
            " [0.   0.01 0.   0.   0.   0.   0.   0.   0.   0.24 0.57 0.8  0.89 0.81 0.84 0.87 0.85 0.82 0.83 0.85 0.88 0.87 0.86 0.84 0.88 0.96 0.62 0.  ]\n",
            " [0.   0.   0.   0.   0.07 0.17 0.32 0.42 0.74 0.89 0.86 0.87 0.85 0.89 0.78 0.8  0.83 0.9  0.88 0.92 0.69 0.74 0.98 0.97 0.91 0.93 0.84 0.  ]\n",
            " [0.   0.22 0.73 0.82 0.88 0.87 0.88 0.82 0.8  0.84 0.82 0.82 0.78 0.62 0.96 0.76 0.81 0.87 1.   1.   0.87 0.92 0.87 0.83 0.86 0.91 0.96 0.  ]\n",
            " [0.01 0.79 0.89 0.88 0.87 0.83 0.83 0.84 0.8  0.8  0.8  0.86 0.94 0.31 0.59 1.   0.9  0.87 0.74 0.6  0.75 0.82 0.8  0.82 0.87 0.89 0.88 0.  ]\n",
            " [0.38 0.91 0.78 0.82 0.87 0.9  0.9  0.92 0.98 0.86 0.76 0.84 0.85 0.95 0.25 0.29 0.42 0.46 0.66 0.86 0.87 0.84 0.85 0.87 0.87 0.88 0.9  0.11]\n",
            " [0.29 0.8  0.83 0.8  0.76 0.8  0.83 0.88 0.85 0.73 0.77 0.81 0.78 0.84 0.94 0.76 0.89 0.96 0.94 0.87 0.85 0.83 0.82 0.87 0.86 0.87 0.9  0.26]\n",
            " [0.19 0.8  0.72 0.76 0.84 0.77 0.73 0.75 0.76 0.75 0.79 0.84 0.86 0.87 0.86 0.93 0.88 0.85 0.78 0.81 0.73 0.71 0.69 0.67 0.71 0.8  0.81 0.45]\n",
            " [0.   0.48 0.86 0.76 0.7  0.67 0.72 0.77 0.8  0.82 0.84 0.81 0.83 0.82 0.78 0.77 0.76 0.75 0.76 0.75 0.78 0.75 0.69 0.61 0.65 0.69 0.82 0.36]\n",
            " [0.   0.   0.29 0.74 0.83 0.75 0.69 0.67 0.69 0.71 0.73 0.74 0.74 0.74 0.76 0.78 0.8  0.82 0.82 0.82 0.83 0.74 0.74 0.76 0.75 0.85 0.67 0.  ]\n",
            " [0.01 0.   0.   0.   0.26 0.78 0.87 0.93 0.94 0.95 0.96 0.95 0.96 0.87 0.86 0.76 0.75 0.7  0.71 0.71 0.71 0.69 0.65 0.66 0.39 0.23 0.   0.  ]\n",
            " [0.   0.   0.   0.   0.   0.   0.   0.16 0.24 0.17 0.28 0.16 0.14 0.   0.   0.   0.   0.   0.   0.   0.   0.   0.   0.   0.   0.   0.   0.  ]\n",
            " [0.   0.   0.   0.   0.   0.   0.   0.   0.   0.   0.   0.   0.   0.   0.   0.   0.   0.   0.   0.   0.   0.   0.   0.   0.   0.   0.   0.  ]\n",
            " [0.   0.   0.   0.   0.   0.   0.   0.   0.   0.   0.   0.   0.   0.   0.   0.   0.   0.   0.   0.   0.   0.   0.   0.   0.   0.   0.   0.  ]]\n"
          ],
          "name": "stdout"
        }
      ]
    },
    {
      "cell_type": "markdown",
      "metadata": {
        "id": "EDUGq9V_YXS8"
      },
      "source": [
        "**Modeling**"
      ]
    },
    {
      "cell_type": "code",
      "metadata": {
        "id": "coxbKBX1YXS8"
      },
      "source": [
        "tf.keras.backend.clear_session()\n",
        "model = tf.keras.models.Sequential([tf.keras.layers.Flatten(), \n",
        "                                    tf.keras.layers.Dense(128, activation='relu'), \n",
        "                                    tf.keras.layers.Dense(10, activation='softmax')])\n",
        "model.compile(optimizer = tf.optimizers.Adam(), loss = 'sparse_categorical_crossentropy', metrics=['accuracy'])"
      ],
      "execution_count": 17,
      "outputs": []
    },
    {
      "cell_type": "markdown",
      "metadata": {
        "id": "FWECVe-eYXS8"
      },
      "source": [
        "**Model Fitting**"
      ]
    },
    {
      "cell_type": "code",
      "metadata": {
        "id": "3mDz4ZcNYXS8",
        "outputId": "45bb068a-87d2-48c4-941f-f62966b85725",
        "colab": {
          "base_uri": "https://localhost:8080/"
        }
      },
      "source": [
        "history = model.fit(training_images, training_labels, epochs=5)"
      ],
      "execution_count": 18,
      "outputs": [
        {
          "output_type": "stream",
          "text": [
            "Epoch 1/5\n",
            "1875/1875 [==============================] - 4s 2ms/step - loss: 0.6352 - accuracy: 0.7799\n",
            "Epoch 2/5\n",
            "1875/1875 [==============================] - 3s 2ms/step - loss: 0.3873 - accuracy: 0.8622\n",
            "Epoch 3/5\n",
            "1875/1875 [==============================] - 3s 2ms/step - loss: 0.3445 - accuracy: 0.8760\n",
            "Epoch 4/5\n",
            "1875/1875 [==============================] - 3s 2ms/step - loss: 0.3125 - accuracy: 0.8859\n",
            "Epoch 5/5\n",
            "1875/1875 [==============================] - 3s 2ms/step - loss: 0.2928 - accuracy: 0.8906\n"
          ],
          "name": "stdout"
        }
      ]
    },
    {
      "cell_type": "markdown",
      "metadata": {
        "id": "XfFCMBpjYXS8"
      },
      "source": [
        "**Evaluasi**\n",
        "\n",
        "Setelah proses model fitting, maka dilakukan evaluasi kinerja model terhadap datatest."
      ]
    },
    {
      "cell_type": "code",
      "metadata": {
        "id": "L7vBCVHcYXS9",
        "outputId": "ee11b2cb-32a5-49ef-b83b-d20accc0f9cc",
        "colab": {
          "base_uri": "https://localhost:8080/"
        }
      },
      "source": [
        "model.evaluate(test_images, test_labels)"
      ],
      "execution_count": 19,
      "outputs": [
        {
          "output_type": "stream",
          "text": [
            "313/313 [==============================] - 1s 2ms/step - loss: 0.3593 - accuracy: 0.8716\n"
          ],
          "name": "stdout"
        },
        {
          "output_type": "execute_result",
          "data": {
            "text/plain": [
              "[0.3592548370361328, 0.8715999722480774]"
            ]
          },
          "metadata": {
            "tags": []
          },
          "execution_count": 19
        }
      ]
    },
    {
      "cell_type": "markdown",
      "metadata": {
        "id": "HVJHKLQEYXS9"
      },
      "source": [
        "**Visualisasikan Hasil Training**"
      ]
    },
    {
      "cell_type": "code",
      "metadata": {
        "id": "BfDM42RMYXS9",
        "outputId": "3cf44c43-6501-453d-af8a-e6bdf37c55f6",
        "colab": {
          "base_uri": "https://localhost:8080/",
          "height": 545
        }
      },
      "source": [
        "import matplotlib.pyplot as plt\n",
        "\n",
        "acc = history.history['accuracy']\n",
        "loss = history.history['loss']\n",
        "\n",
        "epochs = range(len(acc))\n",
        "\n",
        "plt.plot(epochs, acc, label='Training accuracy')\n",
        "plt.title('Training accuracy')\n",
        "\n",
        "plt.figure()\n",
        "\n",
        "plt.plot(epochs, loss, label='Training Loss')\n",
        "plt.title('Training loss')\n",
        "plt.legend()\n",
        "\n",
        "plt.show()"
      ],
      "execution_count": 20,
      "outputs": [
        {
          "output_type": "display_data",
          "data": {
            "image/png": "[encoded data removed]",
            "text/plain": [
              "<Figure size 432x288 with 1 Axes>"
            ]
          },
          "metadata": {
            "tags": [],
            "needs_background": "light"
          }
        },
        {
          "output_type": "display_data",
          "data": {
            "image/png": "[encoded data removed]",
            "text/plain": [
              "<Figure size 432x288 with 1 Axes>"
            ]
          },
          "metadata": {
            "tags": [],
            "needs_background": "light"
          }
        }
      ]
    },
    {
      "cell_type": "markdown",
      "metadata": {
        "id": "BCwbF2gMYXS9"
      },
      "source": [
        "Kedua grafik di atas menunjukkan performa model neural network terhadap hasil training. Semakin tinggi grafik Training Accuracy maka sepatutnya semakin baik performa modelnya saat training. Berbanding terbalik dengan Training Loss, jika grafiknya semakin menurun maka semakin baik performa trainingnya."
      ]
    },
    {
      "cell_type": "markdown",
      "metadata": {
        "id": "JwqFrGNrYXS9"
      },
      "source": [
        "**Latihan 1**\n",
        "\n",
        "Jalankan kode program di bawah ini:"
      ]
    },
    {
      "cell_type": "code",
      "metadata": {
        "scrolled": false,
        "id": "zboynA_mYXS-",
        "outputId": "2ec65cd0-a588-4539-aced-25dcecf60efd",
        "colab": {
          "base_uri": "https://localhost:8080/"
        }
      },
      "source": [
        "classifications = model.predict(test_images)\n",
        "\n",
        "print(classifications[0])"
      ],
      "execution_count": 21,
      "outputs": [
        {
          "output_type": "stream",
          "text": [
            "[2.7477834e-06 2.1829821e-06 8.8439663e-07 1.2558996e-07 5.3808426e-06 8.0379397e-02 3.9984261e-07 7.9622090e-02 2.4244480e-04 8.3974439e-01]\n"
          ],
          "name": "stdout"
        }
      ]
    },
    {
      "cell_type": "markdown",
      "metadata": {
        "id": "DGtgQtl7YXS-"
      },
      "source": [
        "**Apa arti angka dari output kode program di atas?**\n",
        "\n",
        "1.   10 nilai random yang tidak ada artinya\n",
        "2.   10 klasifikasi yang dihasilkan dari model\n",
        "3.   Nilai probabilitas dari setiap label\n",
        "\n",
        "\n",
        "Jawaban: (3)"
      ]
    },
    {
      "cell_type": "markdown",
      "metadata": {
        "id": "eUeAud2-YXS-"
      },
      "source": [
        "**Latihan 2**\n",
        "\n",
        "Review kode program pendefinisian model yang telah kita lakukan di atas, kemudian kita ubah jumlah neurons pada hidden layer menjadi 512. Apakah terjadi perubahan pada nilai traning loss? Bagaimana menurut pendapat anda?"
      ]
    },
    {
      "cell_type": "code",
      "metadata": {
        "id": "IZJ5Tke_YXS-",
        "outputId": "5d208366-bbe8-48c0-f8ab-42bddf9ccf51",
        "colab": {
          "base_uri": "https://localhost:8080/"
        }
      },
      "source": [
        "mnist = tf.keras.datasets.mnist\n",
        "\n",
        "(training_images, training_labels) ,  (test_images, test_labels) = mnist.load_data()\n",
        "\n",
        "training_images = training_images/255.0\n",
        "test_images = test_images/255.0\n",
        "\n",
        "tf.keras.backend.clear_session()\n",
        "model = tf.keras.models.Sequential([tf.keras.layers.Flatten(),\n",
        "                                    tf.keras.layers.Dense(512, activation='relu'),\n",
        "                                    tf.keras.layers.Dense(10, activation='softmax')])\n",
        "\n",
        "model.compile(optimizer='adam', loss='sparse_categorical_crossentropy')\n",
        "\n",
        "model.fit(training_images, training_labels, epochs=5)\n",
        "\n",
        "model.evaluate(test_images, test_labels)\n",
        "\n",
        "classifications = model.predict(test_images)\n",
        "\n",
        "print(classifications[0])\n",
        "print(test_labels[0])"
      ],
      "execution_count": 22,
      "outputs": [
        {
          "output_type": "stream",
          "text": [
            "Downloading data from https://storage.googleapis.com/tensorflow/tf-keras-datasets/mnist.npz\n",
            "11493376/11490434 [==============================] - 0s 0us/step\n",
            "Epoch 1/5\n",
            "1875/1875 [==============================] - 3s 2ms/step - loss: 0.3426\n",
            "Epoch 2/5\n",
            "1875/1875 [==============================] - 3s 1ms/step - loss: 0.0812\n",
            "Epoch 3/5\n",
            "1875/1875 [==============================] - 3s 2ms/step - loss: 0.0482\n",
            "Epoch 4/5\n",
            "1875/1875 [==============================] - 3s 1ms/step - loss: 0.0341\n",
            "Epoch 5/5\n",
            "1875/1875 [==============================] - 3s 1ms/step - loss: 0.0266\n",
            "313/313 [==============================] - 1s 2ms/step - loss: 0.0865\n",
            "[3.80077775e-10 1.15026065e-10 2.58460892e-10 5.43339866e-06 1.92653163e-12 2.04241901e-10 9.96483864e-15 9.99994278e-01 5.62571725e-11 2.12839367e-07]\n",
            "7\n"
          ],
          "name": "stdout"
        }
      ]
    },
    {
      "cell_type": "markdown",
      "metadata": {
        "id": "jDGwxdMhYXS-"
      },
      "source": [
        "## Latihan 3: \n",
        "\n",
        "Bagaimana kalau kita menghilangkan layer **`Flatten()`**? Apa yang akan terjadi?"
      ]
    },
    {
      "cell_type": "code",
      "metadata": {
        "id": "uObcLoVAYXS_",
        "outputId": "908ac48c-d3e5-489d-b610-3521aa39ab89",
        "colab": {
          "base_uri": "https://localhost:8080/",
          "height": 1000
        }
      },
      "source": [
        "mnist = tf.keras.datasets.mnist\n",
        "\n",
        "(training_images, training_labels) ,  (test_images, test_labels) = mnist.load_data()\n",
        "\n",
        "training_images = training_images/255.0\n",
        "test_images = test_images/255.0\n",
        "\n",
        "tf.keras.backend.clear_session()\n",
        "model = tf.keras.models.Sequential([#tf.keras.layers.Flatten(),\n",
        "                                    tf.keras.layers.Dense(512, activation='relu'),\n",
        "                                    tf.keras.layers.Dense(10, activation='softmax')])\n",
        "\n",
        "model.compile(optimizer='adam', loss='sparse_categorical_crossentropy')\n",
        "\n",
        "model.fit(training_images, training_labels, epochs=5)\n",
        "\n",
        "model.evaluate(test_images, test_labels)\n",
        "\n",
        "classifications = model.predict(test_images)\n",
        "\n",
        "print(classifications[0])\n",
        "print(test_labels[0])"
      ],
      "execution_count": 23,
      "outputs": [
        {
          "output_type": "stream",
          "text": [
            "Epoch 1/5\n"
          ],
          "name": "stdout"
        },
        {
          "output_type": "error",
          "ename": "ValueError",
          "evalue": "ignored",
          "traceback": [
            "\u001b[0;31m---------------------------------------------------------------------------\u001b[0m",
            "\u001b[0;31mValueError\u001b[0m                                Traceback (most recent call last)",
            "\u001b[0;32m<ipython-input-23-2d213c0c41f6>\u001b[0m in \u001b[0;36m<module>\u001b[0;34m()\u001b[0m\n\u001b[1;32m     13\u001b[0m \u001b[0mmodel\u001b[0m\u001b[0;34m.\u001b[0m\u001b[0mcompile\u001b[0m\u001b[0;34m(\u001b[0m\u001b[0moptimizer\u001b[0m\u001b[0;34m=\u001b[0m\u001b[0;34m'adam'\u001b[0m\u001b[0;34m,\u001b[0m \u001b[0mloss\u001b[0m\u001b[0;34m=\u001b[0m\u001b[0;34m'sparse_categorical_crossentropy'\u001b[0m\u001b[0;34m)\u001b[0m\u001b[0;34m\u001b[0m\u001b[0;34m\u001b[0m\u001b[0m\n\u001b[1;32m     14\u001b[0m \u001b[0;34m\u001b[0m\u001b[0m\n\u001b[0;32m---> 15\u001b[0;31m \u001b[0mmodel\u001b[0m\u001b[0;34m.\u001b[0m\u001b[0mfit\u001b[0m\u001b[0;34m(\u001b[0m\u001b[0mtraining_images\u001b[0m\u001b[0;34m,\u001b[0m \u001b[0mtraining_labels\u001b[0m\u001b[0;34m,\u001b[0m \u001b[0mepochs\u001b[0m\u001b[0;34m=\u001b[0m\u001b[0;36m5\u001b[0m\u001b[0;34m)\u001b[0m\u001b[0;34m\u001b[0m\u001b[0;34m\u001b[0m\u001b[0m\n\u001b[0m\u001b[1;32m     16\u001b[0m \u001b[0;34m\u001b[0m\u001b[0m\n\u001b[1;32m     17\u001b[0m \u001b[0mmodel\u001b[0m\u001b[0;34m.\u001b[0m\u001b[0mevaluate\u001b[0m\u001b[0;34m(\u001b[0m\u001b[0mtest_images\u001b[0m\u001b[0;34m,\u001b[0m \u001b[0mtest_labels\u001b[0m\u001b[0;34m)\u001b[0m\u001b[0;34m\u001b[0m\u001b[0;34m\u001b[0m\u001b[0m\n",
            "\u001b[0;32m/usr/local/lib/python3.6/dist-packages/tensorflow/python/keras/engine/training.py\u001b[0m in \u001b[0;36mfit\u001b[0;34m(self, x, y, batch_size, epochs, verbose, callbacks, validation_split, validation_data, shuffle, class_weight, sample_weight, initial_epoch, steps_per_epoch, validation_steps, validation_batch_size, validation_freq, max_queue_size, workers, use_multiprocessing)\u001b[0m\n\u001b[1;32m   1098\u001b[0m                 _r=1):\n\u001b[1;32m   1099\u001b[0m               \u001b[0mcallbacks\u001b[0m\u001b[0;34m.\u001b[0m\u001b[0mon_train_batch_begin\u001b[0m\u001b[0;34m(\u001b[0m\u001b[0mstep\u001b[0m\u001b[0;34m)\u001b[0m\u001b[0;34m\u001b[0m\u001b[0;34m\u001b[0m\u001b[0m\n\u001b[0;32m-> 1100\u001b[0;31m               \u001b[0mtmp_logs\u001b[0m \u001b[0;34m=\u001b[0m \u001b[0mself\u001b[0m\u001b[0;34m.\u001b[0m\u001b[0mtrain_function\u001b[0m\u001b[0;34m(\u001b[0m\u001b[0miterator\u001b[0m\u001b[0;34m)\u001b[0m\u001b[0;34m\u001b[0m\u001b[0;34m\u001b[0m\u001b[0m\n\u001b[0m\u001b[1;32m   1101\u001b[0m               \u001b[0;32mif\u001b[0m \u001b[0mdata_handler\u001b[0m\u001b[0;34m.\u001b[0m\u001b[0mshould_sync\u001b[0m\u001b[0;34m:\u001b[0m\u001b[0;34m\u001b[0m\u001b[0;34m\u001b[0m\u001b[0m\n\u001b[1;32m   1102\u001b[0m                 \u001b[0mcontext\u001b[0m\u001b[0;34m.\u001b[0m\u001b[0masync_wait\u001b[0m\u001b[0;34m(\u001b[0m\u001b[0;34m)\u001b[0m\u001b[0;34m\u001b[0m\u001b[0;34m\u001b[0m\u001b[0m\n",
            "\u001b[0;32m/usr/local/lib/python3.6/dist-packages/tensorflow/python/eager/def_function.py\u001b[0m in \u001b[0;36m__call__\u001b[0;34m(self, *args, **kwds)\u001b[0m\n\u001b[1;32m    826\u001b[0m     \u001b[0mtracing_count\u001b[0m \u001b[0;34m=\u001b[0m \u001b[0mself\u001b[0m\u001b[0;34m.\u001b[0m\u001b[0mexperimental_get_tracing_count\u001b[0m\u001b[0;34m(\u001b[0m\u001b[0;34m)\u001b[0m\u001b[0;34m\u001b[0m\u001b[0;34m\u001b[0m\u001b[0m\n\u001b[1;32m    827\u001b[0m     \u001b[0;32mwith\u001b[0m \u001b[0mtrace\u001b[0m\u001b[0;34m.\u001b[0m\u001b[0mTrace\u001b[0m\u001b[0;34m(\u001b[0m\u001b[0mself\u001b[0m\u001b[0;34m.\u001b[0m\u001b[0m_name\u001b[0m\u001b[0;34m)\u001b[0m \u001b[0;32mas\u001b[0m \u001b[0mtm\u001b[0m\u001b[0;34m:\u001b[0m\u001b[0;34m\u001b[0m\u001b[0;34m\u001b[0m\u001b[0m\n\u001b[0;32m--> 828\u001b[0;31m       \u001b[0mresult\u001b[0m \u001b[0;34m=\u001b[0m \u001b[0mself\u001b[0m\u001b[0;34m.\u001b[0m\u001b[0m_call\u001b[0m\u001b[0;34m(\u001b[0m\u001b[0;34m*\u001b[0m\u001b[0margs\u001b[0m\u001b[0;34m,\u001b[0m \u001b[0;34m**\u001b[0m\u001b[0mkwds\u001b[0m\u001b[0;34m)\u001b[0m\u001b[0;34m\u001b[0m\u001b[0;34m\u001b[0m\u001b[0m\n\u001b[0m\u001b[1;32m    829\u001b[0m       \u001b[0mcompiler\u001b[0m \u001b[0;34m=\u001b[0m \u001b[0;34m\"xla\"\u001b[0m \u001b[0;32mif\u001b[0m \u001b[0mself\u001b[0m\u001b[0;34m.\u001b[0m\u001b[0m_experimental_compile\u001b[0m \u001b[0;32melse\u001b[0m \u001b[0;34m\"nonXla\"\u001b[0m\u001b[0;34m\u001b[0m\u001b[0;34m\u001b[0m\u001b[0m\n\u001b[1;32m    830\u001b[0m       \u001b[0mnew_tracing_count\u001b[0m \u001b[0;34m=\u001b[0m \u001b[0mself\u001b[0m\u001b[0;34m.\u001b[0m\u001b[0mexperimental_get_tracing_count\u001b[0m\u001b[0;34m(\u001b[0m\u001b[0;34m)\u001b[0m\u001b[0;34m\u001b[0m\u001b[0;34m\u001b[0m\u001b[0m\n",
            "\u001b[0;32m/usr/local/lib/python3.6/dist-packages/tensorflow/python/eager/def_function.py\u001b[0m in \u001b[0;36m_call\u001b[0;34m(self, *args, **kwds)\u001b[0m\n\u001b[1;32m    869\u001b[0m       \u001b[0;31m# This is the first call of __call__, so we have to initialize.\u001b[0m\u001b[0;34m\u001b[0m\u001b[0;34m\u001b[0m\u001b[0;34m\u001b[0m\u001b[0m\n\u001b[1;32m    870\u001b[0m       \u001b[0minitializers\u001b[0m \u001b[0;34m=\u001b[0m \u001b[0;34m[\u001b[0m\u001b[0;34m]\u001b[0m\u001b[0;34m\u001b[0m\u001b[0;34m\u001b[0m\u001b[0m\n\u001b[0;32m--> 871\u001b[0;31m       \u001b[0mself\u001b[0m\u001b[0;34m.\u001b[0m\u001b[0m_initialize\u001b[0m\u001b[0;34m(\u001b[0m\u001b[0margs\u001b[0m\u001b[0;34m,\u001b[0m \u001b[0mkwds\u001b[0m\u001b[0;34m,\u001b[0m \u001b[0madd_initializers_to\u001b[0m\u001b[0;34m=\u001b[0m\u001b[0minitializers\u001b[0m\u001b[0;34m)\u001b[0m\u001b[0;34m\u001b[0m\u001b[0;34m\u001b[0m\u001b[0m\n\u001b[0m\u001b[1;32m    872\u001b[0m     \u001b[0;32mfinally\u001b[0m\u001b[0;34m:\u001b[0m\u001b[0;34m\u001b[0m\u001b[0;34m\u001b[0m\u001b[0m\n\u001b[1;32m    873\u001b[0m       \u001b[0;31m# At this point we know that the initialization is complete (or less\u001b[0m\u001b[0;34m\u001b[0m\u001b[0;34m\u001b[0m\u001b[0;34m\u001b[0m\u001b[0m\n",
            "\u001b[0;32m/usr/local/lib/python3.6/dist-packages/tensorflow/python/eager/def_function.py\u001b[0m in \u001b[0;36m_initialize\u001b[0;34m(self, args, kwds, add_initializers_to)\u001b[0m\n\u001b[1;32m    724\u001b[0m     self._concrete_stateful_fn = (\n\u001b[1;32m    725\u001b[0m         self._stateful_fn._get_concrete_function_internal_garbage_collected(  # pylint: disable=protected-access\n\u001b[0;32m--> 726\u001b[0;31m             *args, **kwds))\n\u001b[0m\u001b[1;32m    727\u001b[0m \u001b[0;34m\u001b[0m\u001b[0m\n\u001b[1;32m    728\u001b[0m     \u001b[0;32mdef\u001b[0m \u001b[0minvalid_creator_scope\u001b[0m\u001b[0;34m(\u001b[0m\u001b[0;34m*\u001b[0m\u001b[0munused_args\u001b[0m\u001b[0;34m,\u001b[0m \u001b[0;34m**\u001b[0m\u001b[0munused_kwds\u001b[0m\u001b[0;34m)\u001b[0m\u001b[0;34m:\u001b[0m\u001b[0;34m\u001b[0m\u001b[0;34m\u001b[0m\u001b[0m\n",
            "\u001b[0;32m/usr/local/lib/python3.6/dist-packages/tensorflow/python/eager/function.py\u001b[0m in \u001b[0;36m_get_concrete_function_internal_garbage_collected\u001b[0;34m(self, *args, **kwargs)\u001b[0m\n\u001b[1;32m   2967\u001b[0m       \u001b[0margs\u001b[0m\u001b[0;34m,\u001b[0m \u001b[0mkwargs\u001b[0m \u001b[0;34m=\u001b[0m \u001b[0;32mNone\u001b[0m\u001b[0;34m,\u001b[0m \u001b[0;32mNone\u001b[0m\u001b[0;34m\u001b[0m\u001b[0;34m\u001b[0m\u001b[0m\n\u001b[1;32m   2968\u001b[0m     \u001b[0;32mwith\u001b[0m \u001b[0mself\u001b[0m\u001b[0;34m.\u001b[0m\u001b[0m_lock\u001b[0m\u001b[0;34m:\u001b[0m\u001b[0;34m\u001b[0m\u001b[0;34m\u001b[0m\u001b[0m\n\u001b[0;32m-> 2969\u001b[0;31m       \u001b[0mgraph_function\u001b[0m\u001b[0;34m,\u001b[0m \u001b[0m_\u001b[0m \u001b[0;34m=\u001b[0m \u001b[0mself\u001b[0m\u001b[0;34m.\u001b[0m\u001b[0m_maybe_define_function\u001b[0m\u001b[0;34m(\u001b[0m\u001b[0margs\u001b[0m\u001b[0;34m,\u001b[0m \u001b[0mkwargs\u001b[0m\u001b[0;34m)\u001b[0m\u001b[0;34m\u001b[0m\u001b[0;34m\u001b[0m\u001b[0m\n\u001b[0m\u001b[1;32m   2970\u001b[0m     \u001b[0;32mreturn\u001b[0m \u001b[0mgraph_function\u001b[0m\u001b[0;34m\u001b[0m\u001b[0;34m\u001b[0m\u001b[0m\n\u001b[1;32m   2971\u001b[0m \u001b[0;34m\u001b[0m\u001b[0m\n",
            "\u001b[0;32m/usr/local/lib/python3.6/dist-packages/tensorflow/python/eager/function.py\u001b[0m in \u001b[0;36m_maybe_define_function\u001b[0;34m(self, args, kwargs)\u001b[0m\n\u001b[1;32m   3359\u001b[0m \u001b[0;34m\u001b[0m\u001b[0m\n\u001b[1;32m   3360\u001b[0m           \u001b[0mself\u001b[0m\u001b[0;34m.\u001b[0m\u001b[0m_function_cache\u001b[0m\u001b[0;34m.\u001b[0m\u001b[0mmissed\u001b[0m\u001b[0;34m.\u001b[0m\u001b[0madd\u001b[0m\u001b[0;34m(\u001b[0m\u001b[0mcall_context_key\u001b[0m\u001b[0;34m)\u001b[0m\u001b[0;34m\u001b[0m\u001b[0;34m\u001b[0m\u001b[0m\n\u001b[0;32m-> 3361\u001b[0;31m           \u001b[0mgraph_function\u001b[0m \u001b[0;34m=\u001b[0m \u001b[0mself\u001b[0m\u001b[0;34m.\u001b[0m\u001b[0m_create_graph_function\u001b[0m\u001b[0;34m(\u001b[0m\u001b[0margs\u001b[0m\u001b[0;34m,\u001b[0m \u001b[0mkwargs\u001b[0m\u001b[0;34m)\u001b[0m\u001b[0;34m\u001b[0m\u001b[0;34m\u001b[0m\u001b[0m\n\u001b[0m\u001b[1;32m   3362\u001b[0m           \u001b[0mself\u001b[0m\u001b[0;34m.\u001b[0m\u001b[0m_function_cache\u001b[0m\u001b[0;34m.\u001b[0m\u001b[0mprimary\u001b[0m\u001b[0;34m[\u001b[0m\u001b[0mcache_key\u001b[0m\u001b[0;34m]\u001b[0m \u001b[0;34m=\u001b[0m \u001b[0mgraph_function\u001b[0m\u001b[0;34m\u001b[0m\u001b[0;34m\u001b[0m\u001b[0m\n\u001b[1;32m   3363\u001b[0m \u001b[0;34m\u001b[0m\u001b[0m\n",
            "\u001b[0;32m/usr/local/lib/python3.6/dist-packages/tensorflow/python/eager/function.py\u001b[0m in \u001b[0;36m_create_graph_function\u001b[0;34m(self, args, kwargs, override_flat_arg_shapes)\u001b[0m\n\u001b[1;32m   3204\u001b[0m             \u001b[0marg_names\u001b[0m\u001b[0;34m=\u001b[0m\u001b[0marg_names\u001b[0m\u001b[0;34m,\u001b[0m\u001b[0;34m\u001b[0m\u001b[0;34m\u001b[0m\u001b[0m\n\u001b[1;32m   3205\u001b[0m             \u001b[0moverride_flat_arg_shapes\u001b[0m\u001b[0;34m=\u001b[0m\u001b[0moverride_flat_arg_shapes\u001b[0m\u001b[0;34m,\u001b[0m\u001b[0;34m\u001b[0m\u001b[0;34m\u001b[0m\u001b[0m\n\u001b[0;32m-> 3206\u001b[0;31m             capture_by_value=self._capture_by_value),\n\u001b[0m\u001b[1;32m   3207\u001b[0m         \u001b[0mself\u001b[0m\u001b[0;34m.\u001b[0m\u001b[0m_function_attributes\u001b[0m\u001b[0;34m,\u001b[0m\u001b[0;34m\u001b[0m\u001b[0;34m\u001b[0m\u001b[0m\n\u001b[1;32m   3208\u001b[0m         \u001b[0mfunction_spec\u001b[0m\u001b[0;34m=\u001b[0m\u001b[0mself\u001b[0m\u001b[0;34m.\u001b[0m\u001b[0mfunction_spec\u001b[0m\u001b[0;34m,\u001b[0m\u001b[0;34m\u001b[0m\u001b[0;34m\u001b[0m\u001b[0m\n",
            "\u001b[0;32m/usr/local/lib/python3.6/dist-packages/tensorflow/python/framework/func_graph.py\u001b[0m in \u001b[0;36mfunc_graph_from_py_func\u001b[0;34m(name, python_func, args, kwargs, signature, func_graph, autograph, autograph_options, add_control_dependencies, arg_names, op_return_value, collections, capture_by_value, override_flat_arg_shapes)\u001b[0m\n\u001b[1;32m    988\u001b[0m         \u001b[0m_\u001b[0m\u001b[0;34m,\u001b[0m \u001b[0moriginal_func\u001b[0m \u001b[0;34m=\u001b[0m \u001b[0mtf_decorator\u001b[0m\u001b[0;34m.\u001b[0m\u001b[0munwrap\u001b[0m\u001b[0;34m(\u001b[0m\u001b[0mpython_func\u001b[0m\u001b[0;34m)\u001b[0m\u001b[0;34m\u001b[0m\u001b[0;34m\u001b[0m\u001b[0m\n\u001b[1;32m    989\u001b[0m \u001b[0;34m\u001b[0m\u001b[0m\n\u001b[0;32m--> 990\u001b[0;31m       \u001b[0mfunc_outputs\u001b[0m \u001b[0;34m=\u001b[0m \u001b[0mpython_func\u001b[0m\u001b[0;34m(\u001b[0m\u001b[0;34m*\u001b[0m\u001b[0mfunc_args\u001b[0m\u001b[0;34m,\u001b[0m \u001b[0;34m**\u001b[0m\u001b[0mfunc_kwargs\u001b[0m\u001b[0;34m)\u001b[0m\u001b[0;34m\u001b[0m\u001b[0;34m\u001b[0m\u001b[0m\n\u001b[0m\u001b[1;32m    991\u001b[0m \u001b[0;34m\u001b[0m\u001b[0m\n\u001b[1;32m    992\u001b[0m       \u001b[0;31m# invariant: `func_outputs` contains only Tensors, CompositeTensors,\u001b[0m\u001b[0;34m\u001b[0m\u001b[0;34m\u001b[0m\u001b[0;34m\u001b[0m\u001b[0m\n",
            "\u001b[0;32m/usr/local/lib/python3.6/dist-packages/tensorflow/python/eager/def_function.py\u001b[0m in \u001b[0;36mwrapped_fn\u001b[0;34m(*args, **kwds)\u001b[0m\n\u001b[1;32m    632\u001b[0m             \u001b[0mxla_context\u001b[0m\u001b[0;34m.\u001b[0m\u001b[0mExit\u001b[0m\u001b[0;34m(\u001b[0m\u001b[0;34m)\u001b[0m\u001b[0;34m\u001b[0m\u001b[0;34m\u001b[0m\u001b[0m\n\u001b[1;32m    633\u001b[0m         \u001b[0;32melse\u001b[0m\u001b[0;34m:\u001b[0m\u001b[0;34m\u001b[0m\u001b[0;34m\u001b[0m\u001b[0m\n\u001b[0;32m--> 634\u001b[0;31m           \u001b[0mout\u001b[0m \u001b[0;34m=\u001b[0m \u001b[0mweak_wrapped_fn\u001b[0m\u001b[0;34m(\u001b[0m\u001b[0;34m)\u001b[0m\u001b[0;34m.\u001b[0m\u001b[0m__wrapped__\u001b[0m\u001b[0;34m(\u001b[0m\u001b[0;34m*\u001b[0m\u001b[0margs\u001b[0m\u001b[0;34m,\u001b[0m \u001b[0;34m**\u001b[0m\u001b[0mkwds\u001b[0m\u001b[0;34m)\u001b[0m\u001b[0;34m\u001b[0m\u001b[0;34m\u001b[0m\u001b[0m\n\u001b[0m\u001b[1;32m    635\u001b[0m         \u001b[0;32mreturn\u001b[0m \u001b[0mout\u001b[0m\u001b[0;34m\u001b[0m\u001b[0;34m\u001b[0m\u001b[0m\n\u001b[1;32m    636\u001b[0m \u001b[0;34m\u001b[0m\u001b[0m\n",
            "\u001b[0;32m/usr/local/lib/python3.6/dist-packages/tensorflow/python/framework/func_graph.py\u001b[0m in \u001b[0;36mwrapper\u001b[0;34m(*args, **kwargs)\u001b[0m\n\u001b[1;32m    975\u001b[0m           \u001b[0;32mexcept\u001b[0m \u001b[0mException\u001b[0m \u001b[0;32mas\u001b[0m \u001b[0me\u001b[0m\u001b[0;34m:\u001b[0m  \u001b[0;31m# pylint:disable=broad-except\u001b[0m\u001b[0;34m\u001b[0m\u001b[0;34m\u001b[0m\u001b[0m\n\u001b[1;32m    976\u001b[0m             \u001b[0;32mif\u001b[0m \u001b[0mhasattr\u001b[0m\u001b[0;34m(\u001b[0m\u001b[0me\u001b[0m\u001b[0;34m,\u001b[0m \u001b[0;34m\"ag_error_metadata\"\u001b[0m\u001b[0;34m)\u001b[0m\u001b[0;34m:\u001b[0m\u001b[0;34m\u001b[0m\u001b[0;34m\u001b[0m\u001b[0m\n\u001b[0;32m--> 977\u001b[0;31m               \u001b[0;32mraise\u001b[0m \u001b[0me\u001b[0m\u001b[0;34m.\u001b[0m\u001b[0mag_error_metadata\u001b[0m\u001b[0;34m.\u001b[0m\u001b[0mto_exception\u001b[0m\u001b[0;34m(\u001b[0m\u001b[0me\u001b[0m\u001b[0;34m)\u001b[0m\u001b[0;34m\u001b[0m\u001b[0;34m\u001b[0m\u001b[0m\n\u001b[0m\u001b[1;32m    978\u001b[0m             \u001b[0;32melse\u001b[0m\u001b[0;34m:\u001b[0m\u001b[0;34m\u001b[0m\u001b[0;34m\u001b[0m\u001b[0m\n\u001b[1;32m    979\u001b[0m               \u001b[0;32mraise\u001b[0m\u001b[0;34m\u001b[0m\u001b[0;34m\u001b[0m\u001b[0m\n",
            "\u001b[0;31mValueError\u001b[0m: in user code:\n\n    /usr/local/lib/python3.6/dist-packages/tensorflow/python/keras/engine/training.py:805 train_function  *\n        return step_function(self, iterator)\n    /usr/local/lib/python3.6/dist-packages/tensorflow/python/keras/engine/training.py:795 step_function  **\n        outputs = model.distribute_strategy.run(run_step, args=(data,))\n    /usr/local/lib/python3.6/dist-packages/tensorflow/python/distribute/distribute_lib.py:1259 run\n        return self._extended.call_for_each_replica(fn, args=args, kwargs=kwargs)\n    /usr/local/lib/python3.6/dist-packages/tensorflow/python/distribute/distribute_lib.py:2730 call_for_each_replica\n        return self._call_for_each_replica(fn, args, kwargs)\n    /usr/local/lib/python3.6/dist-packages/tensorflow/python/distribute/distribute_lib.py:3417 _call_for_each_replica\n        return fn(*args, **kwargs)\n    /usr/local/lib/python3.6/dist-packages/tensorflow/python/keras/engine/training.py:788 run_step  **\n        outputs = model.train_step(data)\n    /usr/local/lib/python3.6/dist-packages/tensorflow/python/keras/engine/training.py:756 train_step\n        y, y_pred, sample_weight, regularization_losses=self.losses)\n    /usr/local/lib/python3.6/dist-packages/tensorflow/python/keras/engine/compile_utils.py:203 __call__\n        loss_value = loss_obj(y_t, y_p, sample_weight=sw)\n    /usr/local/lib/python3.6/dist-packages/tensorflow/python/keras/losses.py:152 __call__\n        losses = call_fn(y_true, y_pred)\n    /usr/local/lib/python3.6/dist-packages/tensorflow/python/keras/losses.py:256 call  **\n        return ag_fn(y_true, y_pred, **self._fn_kwargs)\n    /usr/local/lib/python3.6/dist-packages/tensorflow/python/util/dispatch.py:201 wrapper\n        return target(*args, **kwargs)\n    /usr/local/lib/python3.6/dist-packages/tensorflow/python/keras/losses.py:1569 sparse_categorical_crossentropy\n        y_true, y_pred, from_logits=from_logits, axis=axis)\n    /usr/local/lib/python3.6/dist-packages/tensorflow/python/util/dispatch.py:201 wrapper\n        return target(*args, **kwargs)\n    /usr/local/lib/python3.6/dist-packages/tensorflow/python/keras/backend.py:4941 sparse_categorical_crossentropy\n        labels=target, logits=output)\n    /usr/local/lib/python3.6/dist-packages/tensorflow/python/util/dispatch.py:201 wrapper\n        return target(*args, **kwargs)\n    /usr/local/lib/python3.6/dist-packages/tensorflow/python/ops/nn_ops.py:4241 sparse_softmax_cross_entropy_with_logits_v2\n        labels=labels, logits=logits, name=name)\n    /usr/local/lib/python3.6/dist-packages/tensorflow/python/util/dispatch.py:201 wrapper\n        return target(*args, **kwargs)\n    /usr/local/lib/python3.6/dist-packages/tensorflow/python/ops/nn_ops.py:4156 sparse_softmax_cross_entropy_with_logits\n        logits.get_shape()))\n\n    ValueError: Shape mismatch: The shape of labels (received (32, 1)) should equal the shape of logits except for the last dimension (received (32, 28, 10)).\n"
          ]
        }
      ]
    },
    {
      "cell_type": "markdown",
      "metadata": {
        "id": "9qq0ymmtYXS_"
      },
      "source": [
        "Anda mendapatkan error mengenai \"shape of the data\", artinya dimensi data tidak sama dengan dimensi input yang diterima oleh input layer pada model. Ingat kembali bahwa dataset yang kita gunakan adalah gambar dengan resolusi 28x28 pixel, maka kita harus membuat input layer yang bisa memfasilitasi hal tersebut (_membuat kode program untuk memfasilitasi input gambar 28x28 sangat kompleks_).\n",
        "\n",
        "Oleh karena itu, layer `Flatten()` berguna dalam hal mempermudah implementasi hal tersebut. Layer ini secara otomatis akan mengubah input 28x28 pixel menjadi array 1 dimensi sepanjang 748 (28 x 28 = 748)."
      ]
    },
    {
      "cell_type": "markdown",
      "metadata": {
        "id": "C7t8b8xxYXS_"
      },
      "source": [
        "**Latihan 4**:\n",
        "\n",
        "Bagaimana kalau kita ubah jumlah neurons pada output layer menjadi 5, apakah yang akan terjadi? Mengapa hal itu terjadi?"
      ]
    },
    {
      "cell_type": "code",
      "metadata": {
        "id": "OaHkG5v9YXS_",
        "outputId": "e8569cee-2c11-4827-c5e6-9caf727450ef",
        "colab": {
          "base_uri": "https://localhost:8080/"
        }
      },
      "source": [
        "mnist = tf.keras.datasets.mnist\n",
        "\n",
        "(training_images, training_labels) ,  (test_images, test_labels) = mnist.load_data()\n",
        "\n",
        "training_images = training_images/255.0\n",
        "test_images = test_images/255.0\n",
        "\n",
        "tf.keras.backend.clear_session()\n",
        "model = tf.keras.models.Sequential([tf.keras.layers.Flatten(),\n",
        "                                    tf.keras.layers.Dense(512, activation='relu'),\n",
        "                                    tf.keras.layers.Dense(5, activation='softmax')])\n",
        "\n",
        "model.compile(optimizer='adam', loss='sparse_categorical_crossentropy')\n",
        "\n",
        "model.fit(training_images, training_labels, epochs=5)\n",
        "\n",
        "model.evaluate(test_images, test_labels)\n",
        "\n",
        "classifications = model.predict(test_images)\n",
        "\n",
        "print(classifications[0])\n",
        "print(test_labels[0])"
      ],
      "execution_count": 24,
      "outputs": [
        {
          "output_type": "stream",
          "text": [
            "Epoch 1/5\n",
            "1875/1875 [==============================] - 3s 2ms/step - loss: nan\n",
            "Epoch 2/5\n",
            "1875/1875 [==============================] - 3s 1ms/step - loss: nan\n",
            "Epoch 3/5\n",
            "1875/1875 [==============================] - 3s 1ms/step - loss: nan\n",
            "Epoch 4/5\n",
            "1875/1875 [==============================] - 3s 2ms/step - loss: nan\n",
            "Epoch 5/5\n",
            "1875/1875 [==============================] - 3s 1ms/step - loss: nan\n",
            "313/313 [==============================] - 1s 2ms/step - loss: nan\n",
            "[nan nan nan nan nan]\n",
            "7\n"
          ],
          "name": "stdout"
        }
      ]
    },
    {
      "cell_type": "markdown",
      "metadata": {
        "id": "aDfa5lhfYXS_"
      },
      "source": [
        "**Latihan 5**: \n",
        "\n",
        "Kita akan menambahkan hidden layer baru dengan jumlah neurons sebanyak 256. Apakah yang akan terjadi? Mengapa hal itu terjadi?"
      ]
    },
    {
      "cell_type": "code",
      "metadata": {
        "id": "jOUIl6xDYXTA",
        "outputId": "390e3cc7-6118-4685-b6f8-042fdff184c3",
        "colab": {
          "base_uri": "https://localhost:8080/"
        }
      },
      "source": [
        "mnist = tf.keras.datasets.mnist\n",
        "\n",
        "(training_images, training_labels) ,  (test_images, test_labels) = mnist.load_data()\n",
        "\n",
        "training_images = training_images/255.0\n",
        "test_images = test_images/255.0\n",
        "\n",
        "tf.keras.backend.clear_session()\n",
        "model = tf.keras.models.Sequential([tf.keras.layers.Flatten(),\n",
        "                                    tf.keras.layers.Dense(512, activation='relu'),\n",
        "                                    tf.keras.layers.Dense(256, activation='relu'),\n",
        "                                    tf.keras.layers.Dense(10, activation='softmax')])\n",
        "\n",
        "model.compile(optimizer='adam', loss='sparse_categorical_crossentropy')\n",
        "\n",
        "model.fit(training_images, training_labels, epochs=5)\n",
        "\n",
        "model.evaluate(test_images, test_labels)\n",
        "\n",
        "classifications = model.predict(test_images)\n",
        "\n",
        "print(classifications[0])\n",
        "print(test_labels[0])"
      ],
      "execution_count": 27,
      "outputs": [
        {
          "output_type": "stream",
          "text": [
            "Epoch 1/5\n",
            "1875/1875 [==============================] - 3s 2ms/step - loss: 0.3204\n",
            "Epoch 2/5\n",
            "1875/1875 [==============================] - 3s 2ms/step - loss: 0.0848\n",
            "Epoch 3/5\n",
            "1875/1875 [==============================] - 3s 2ms/step - loss: 0.0509\n",
            "Epoch 4/5\n",
            "1875/1875 [==============================] - 3s 2ms/step - loss: 0.0389\n",
            "Epoch 5/5\n",
            "1875/1875 [==============================] - 3s 2ms/step - loss: 0.0286\n",
            "313/313 [==============================] - 1s 2ms/step - loss: 0.0752\n",
            "[6.5174859e-11 1.1577314e-07 3.9136594e-08 1.1099228e-06 3.3990497e-10 2.2279878e-09 9.6004332e-15 9.9998641e-01 2.4425451e-09 1.2294991e-05]\n",
            "7\n"
          ],
          "name": "stdout"
        }
      ]
    },
    {
      "cell_type": "markdown",
      "metadata": {
        "id": "mW4QGGNzYXTA"
      },
      "source": [
        "**Latihan 6**: \n",
        "\n",
        "Cobalah untuk menambahkan jumlah epoch secara bertahap menjadi 15, 30, 50, kemudian 100. Apakah yang akan terjadi? Dan mengapa hal itu terjadi?"
      ]
    },
    {
      "cell_type": "code",
      "metadata": {
        "id": "xCIRa8CxYXTA",
        "outputId": "84ce6580-cec1-4dfc-c7c3-a1113634dce2",
        "colab": {
          "base_uri": "https://localhost:8080/"
        }
      },
      "source": [
        "mnist = tf.keras.datasets.mnist\n",
        "\n",
        "(training_images, training_labels) ,  (test_images, test_labels) = mnist.load_data()\n",
        "\n",
        "training_images = training_images/255.0\n",
        "test_images = test_images/255.0\n",
        "\n",
        "tf.keras.backend.clear_session()\n",
        "model = tf.keras.models.Sequential([tf.keras.layers.Flatten(),\n",
        "                                    tf.keras.layers.Dense(512, activation='relu'),\n",
        "                                    tf.keras.layers.Dense(10, activation='softmax')])\n",
        "\n",
        "model.compile(optimizer='adam', loss='sparse_categorical_crossentropy')\n",
        "\n",
        "model.fit(training_images, training_labels, epochs=30)\n",
        "\n",
        "model.evaluate(test_images, test_labels)\n",
        "\n",
        "classifications = model.predict(test_images)\n",
        "\n",
        "print(classifications[34])\n",
        "print(test_labels[34])"
      ],
      "execution_count": 28,
      "outputs": [
        {
          "output_type": "stream",
          "text": [
            "Epoch 1/30\n",
            "1875/1875 [==============================] - 3s 1ms/step - loss: 0.3338\n",
            "Epoch 2/30\n",
            "1875/1875 [==============================] - 3s 2ms/step - loss: 0.0837\n",
            "Epoch 3/30\n",
            "1875/1875 [==============================] - 3s 1ms/step - loss: 0.0513\n",
            "Epoch 4/30\n",
            "1875/1875 [==============================] - 3s 2ms/step - loss: 0.0362\n",
            "Epoch 5/30\n",
            "1875/1875 [==============================] - 3s 1ms/step - loss: 0.0243\n",
            "Epoch 6/30\n",
            "1875/1875 [==============================] - 3s 1ms/step - loss: 0.0190\n",
            "Epoch 7/30\n",
            "1875/1875 [==============================] - 3s 1ms/step - loss: 0.0157\n",
            "Epoch 8/30\n",
            "1875/1875 [==============================] - 3s 1ms/step - loss: 0.0131\n",
            "Epoch 9/30\n",
            "1875/1875 [==============================] - 3s 1ms/step - loss: 0.0097\n",
            "Epoch 10/30\n",
            "1875/1875 [==============================] - 3s 1ms/step - loss: 0.0095\n",
            "Epoch 11/30\n",
            "1875/1875 [==============================] - 3s 1ms/step - loss: 0.0078\n",
            "Epoch 12/30\n",
            "1875/1875 [==============================] - 3s 2ms/step - loss: 0.0068\n",
            "Epoch 13/30\n",
            "1875/1875 [==============================] - 3s 2ms/step - loss: 0.0065\n",
            "Epoch 14/30\n",
            "1875/1875 [==============================] - 3s 1ms/step - loss: 0.0086\n",
            "Epoch 15/30\n",
            "1875/1875 [==============================] - 3s 1ms/step - loss: 0.0050\n",
            "Epoch 16/30\n",
            "1875/1875 [==============================] - 3s 1ms/step - loss: 0.0063\n",
            "Epoch 17/30\n",
            "1875/1875 [==============================] - 3s 2ms/step - loss: 0.0063\n",
            "Epoch 18/30\n",
            "1875/1875 [==============================] - 3s 1ms/step - loss: 0.0059\n",
            "Epoch 19/30\n",
            "1875/1875 [==============================] - 3s 1ms/step - loss: 0.0039\n",
            "Epoch 20/30\n",
            "1875/1875 [==============================] - 3s 1ms/step - loss: 0.0054\n",
            "Epoch 21/30\n",
            "1875/1875 [==============================] - 3s 2ms/step - loss: 0.0063\n",
            "Epoch 22/30\n",
            "1875/1875 [==============================] - 3s 2ms/step - loss: 0.0029\n",
            "Epoch 23/30\n",
            "1875/1875 [==============================] - 3s 2ms/step - loss: 0.0075\n",
            "Epoch 24/30\n",
            "1875/1875 [==============================] - 3s 2ms/step - loss: 0.0051\n",
            "Epoch 25/30\n",
            "1875/1875 [==============================] - 3s 2ms/step - loss: 0.0060\n",
            "Epoch 26/30\n",
            "1875/1875 [==============================] - 3s 2ms/step - loss: 0.0037\n",
            "Epoch 27/30\n",
            "1875/1875 [==============================] - 3s 1ms/step - loss: 0.0068\n",
            "Epoch 28/30\n",
            "1875/1875 [==============================] - 3s 2ms/step - loss: 0.0031\n",
            "Epoch 29/30\n",
            "1875/1875 [==============================] - 3s 1ms/step - loss: 0.0040\n",
            "Epoch 30/30\n",
            "1875/1875 [==============================] - 3s 2ms/step - loss: 0.0058\n",
            "313/313 [==============================] - 1s 2ms/step - loss: 0.1346\n",
            "[1.04499826e-35 3.45618517e-23 1.86951305e-17 7.50699323e-22 2.47479471e-32 2.18390363e-35 1.12357332e-34 1.00000000e+00 1.13461271e-26 7.84600070e-25]\n",
            "7\n"
          ],
          "name": "stdout"
        }
      ]
    },
    {
      "cell_type": "markdown",
      "metadata": {
        "id": "8QTXBRm2YXTA"
      },
      "source": [
        "**Latihan 7**: \n",
        "\n",
        "Jika kita menghilangkan proses preprocessing, apa yang akan terjadi? Apakah anda akan mendapatkan hasil yang berbeda? "
      ]
    },
    {
      "cell_type": "code",
      "metadata": {
        "id": "I7uonqoxYXTA",
        "outputId": "db04cbea-f3a5-4513-db61-d8836d2c2821",
        "colab": {
          "base_uri": "https://localhost:8080/"
        }
      },
      "source": [
        "mnist = tf.keras.datasets.mnist\n",
        "\n",
        "(training_images, training_labels) ,  (test_images, test_labels) = mnist.load_data()\n",
        "\n",
        "# Preprocessing\n",
        "# Berikan tag komentar pada baris kode program 6 dan 7\n",
        "training_images = training_images/255.0\n",
        "test_images = test_images/255.0\n",
        "\n",
        "tf.keras.backend.clear_session()\n",
        "model = tf.keras.models.Sequential([tf.keras.layers.Flatten(),\n",
        "                                    tf.keras.layers.Dense(512, activation='relu'),\n",
        "                                    tf.keras.layers.Dense(10, activation='softmax')])\n",
        "\n",
        "model.compile(optimizer='adam', loss='sparse_categorical_crossentropy')\n",
        "\n",
        "model.fit(training_images, training_labels, epochs=10)\n",
        "\n",
        "model.evaluate(test_images, test_labels)\n",
        "\n",
        "classifications = model.predict(test_images)\n",
        "\n",
        "print(classifications[34])\n",
        "print(test_labels[34])"
      ],
      "execution_count": 29,
      "outputs": [
        {
          "output_type": "stream",
          "text": [
            "Epoch 1/10\n",
            "1875/1875 [==============================] - 3s 1ms/step - loss: 0.3419\n",
            "Epoch 2/10\n",
            "1875/1875 [==============================] - 3s 1ms/step - loss: 0.0856\n",
            "Epoch 3/10\n",
            "1875/1875 [==============================] - 3s 2ms/step - loss: 0.0539\n",
            "Epoch 4/10\n",
            "1875/1875 [==============================] - 3s 2ms/step - loss: 0.0314\n",
            "Epoch 5/10\n",
            "1875/1875 [==============================] - 3s 1ms/step - loss: 0.0250\n",
            "Epoch 6/10\n",
            "1875/1875 [==============================] - 3s 1ms/step - loss: 0.0191\n",
            "Epoch 7/10\n",
            "1875/1875 [==============================] - 3s 1ms/step - loss: 0.0173\n",
            "Epoch 8/10\n",
            "1875/1875 [==============================] - 3s 1ms/step - loss: 0.0123\n",
            "Epoch 9/10\n",
            "1875/1875 [==============================] - 3s 1ms/step - loss: 0.0098\n",
            "Epoch 10/10\n",
            "1875/1875 [==============================] - 3s 2ms/step - loss: 0.0086\n",
            "313/313 [==============================] - 1s 2ms/step - loss: 0.0848\n",
            "[1.3703081e-17 7.2350692e-13 8.4751104e-09 7.7046792e-08 2.8730355e-17 3.6912063e-16 3.9372001e-19 9.9999988e-01 1.1356654e-10 6.0406981e-14]\n",
            "7\n"
          ],
          "name": "stdout"
        }
      ]
    }
  ]
}