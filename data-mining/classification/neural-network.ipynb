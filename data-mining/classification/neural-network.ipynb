{
  "nbformat": 4,
  "nbformat_minor": 0,
  "metadata": {
    "kernelspec": {
      "display_name": "Python 3.8.3 64-bit",
      "language": "python",
      "name": "python38364bitf33250e8650946d19caa144309e3c9fe"
    },
    "language_info": {
      "codemirror_mode": {
        "name": "ipython",
        "version": 3
      },
      "file_extension": ".py",
      "mimetype": "text/x-python",
      "name": "python",
      "nbconvert_exporter": "python",
      "pygments_lexer": "ipython3",
      "version": "3.8.3"
    },
    "colab": {
      "name": "neural-network.ipynb",
      "provenance": [],
      "toc_visible": true,
      "include_colab_link": true
    },
    "accelerator": "GPU"
  },
  "cells": [
    {
      "cell_type": "markdown",
      "metadata": {
        "id": "view-in-github",
        "colab_type": "text"
      },
      "source": [
        "<a href=\"https://colab.research.google.com/github/cornflake15/data-course/blob/main/data-mining/classification/neural-network.ipynb\" target=\"_parent\"><img src=\"https://colab.research.google.com/assets/colab-badge.svg\" alt=\"Open In Colab\"/></a>"
      ]
    },
    {
      "cell_type": "markdown",
      "metadata": {
        "id": "5u77ZhCtYXSw"
      },
      "source": [
        "# Artificial Neural Network"
      ]
    },
    {
      "cell_type": "markdown",
      "metadata": {
        "id": "vAY55JzmYXSy"
      },
      "source": [
        "Implementasi algoritma Artificial Neural Network menggunakan Keras dan Tensorflow."
      ]
    },
    {
      "cell_type": "markdown",
      "metadata": {
        "id": "ORoUlU8wYXSz"
      },
      "source": [
        "## 1. Pendahuluan\n",
        "\n",
        "**Tensorflow** adalah platform/framework untuk membangun sebuah model machine learning yang bersifat open source. Tensorflow menyediakan fitur end-to-end / full stack development, dari prototyping hingga deployment model machine learning ke dalam aplikasi.\n",
        "\n",
        "**Keras** adalah high-level API untuk mengimplementasikan Deep Learning pada platform Tensorflow. Sehingga developer/engineer bisa fokus terhadap pemodelan machine learningnya daripada cara memprogram model machine learning.\n",
        "\n",
        "Install terlebih dahulu modul Tensorflow: \n",
        "\n",
        "`pip install tensorflow`"
      ]
    },
    {
      "cell_type": "code",
      "metadata": {
        "id": "l04B-QbdYXSz"
      },
      "source": [
        "import tensorflow as tf\n",
        "from tensorflow import keras\n",
        "import numpy as np"
      ],
      "execution_count": null,
      "outputs": []
    },
    {
      "cell_type": "markdown",
      "metadata": {
        "id": "v7dmp-wMYXS0"
      },
      "source": [
        "### 1.1 Inisialisasi model\n",
        "\n",
        "Di bagian ini kita akan membangun model neural network yang paling sederhana, terdiri 1 input layer, 1 neuron, dan 1 layer output. Untuk mengimplementasikan ini kita bisa memanfaatkan kelas **`keras`** dari modul **`tensorflow`**. Kemudian memanggil method **`Sequential`** untuk mendefinisikan arsitektur neural networknya."
      ]
    },
    {
      "cell_type": "code",
      "metadata": {
        "id": "b1ivWjTiYXS0"
      },
      "source": [
        "model = keras.Sequential([keras.layers.Dense(units=1, input_shape=[1])])"
      ],
      "execution_count": null,
      "outputs": []
    },
    {
      "cell_type": "markdown",
      "metadata": {
        "id": "nyfOC2yOYXS1"
      },
      "source": [
        "Di dalam method Sequential kita bisa mendefinisikan tumpukan layer-layer penyusun model dengan mengimplementasikan kelas **`keras.layers.Dense()`**. Untuk lebih lengkap mengenai method `Sequential` bisa dilihat pada [dokumentasinya](https://www.tensorflow.org/api_docs/python/tf/keras/Sequential?version=nightly)."
      ]
    },
    {
      "cell_type": "code",
      "metadata": {
        "id": "ExWikhzNYXS1"
      },
      "source": [
        "tf.keras.backend.clear_session()\n",
        "model.compile(optimizer='sgd', loss='mean_squared_error')"
      ],
      "execution_count": null,
      "outputs": []
    },
    {
      "cell_type": "markdown",
      "metadata": {
        "id": "9eJbh6f7YXS1"
      },
      "source": [
        "Selanjutnya adalah mengimplementasikan fungsi optimasi dengan memanggil method **`compile`** melalui objek **`model`**. Di dalamnya kita definisikan atribut **`optimizer`** dan juga **`loss`** function yang digunakan. Jenis-jenis [fungsi optimasi](https://www.tensorflow.org/api_docs/python/tf/keras/optimizers?version=nightly) dan [loss function](https://www.tensorflow.org/api_docs/python/tf/keras/losses) bisa langsung dibaca di dokumentasi resminya."
      ]
    },
    {
      "cell_type": "markdown",
      "metadata": {
        "id": "0PVBAdmhYXS1"
      },
      "source": [
        "### 1.2 Dataset\n",
        "\n",
        "Di bagian ini kita akan membuat dataset sederhana dalam bentuk array 1 dimensi menggunakan **`numpy`**. Data disimpan pada objek **`X`** dan label pada objek **`y`**."
      ]
    },
    {
      "cell_type": "code",
      "metadata": {
        "id": "Ypn05d2RYXS2"
      },
      "source": [
        "X = np.array([-1.0,  0.0, 1.0, 2.0, 3.0, 4.0], dtype=float)\n",
        "y = np.array([-3.0, -1.0, 1.0, 3.0, 5.0, 7.0], dtype=float)"
      ],
      "execution_count": null,
      "outputs": []
    },
    {
      "cell_type": "markdown",
      "metadata": {
        "id": "oavt6mhwYXS2"
      },
      "source": [
        "### 1.3 Fitting\n",
        "\n",
        "Setelah mempersiapkan dataset (*biasanya proses pre-processing dataset adalah proses yang panjang, bahkan lebih panjang dari proses pemodelan neural networknya. Namun sebagai permulaan di bagian ini belum membahas pre-processing*) hal selanjutnya dilakukan adalah fitting dataset ke dalam model.\n",
        "\n",
        "Proses fitting diimplementasikan dengan memanggil method **`fit()`** melalui objek **`model`**. Method `fit()` menerima parameter input data, label data, dan epoch. Epoch mengacu pada satu kali putaran (_cycle_) untuk mendistribusikan seluruh dataset ke dalam model."
      ]
    },
    {
      "cell_type": "code",
      "metadata": {
        "id": "T4GNyTd1YXS2"
      },
      "source": [
        "model.fit(X, y, epochs=10) # input data (X), label data (y), dan epoch (epochs)"
      ],
      "execution_count": null,
      "outputs": []
    },
    {
      "cell_type": "markdown",
      "metadata": {
        "id": "Dty3qTUKYXS2"
      },
      "source": [
        "### 1.4 Prediksi\n",
        "\n",
        "Setelah model di-training hal selanjutnya adalah melakukan prediksi. Implementasinya dapat dilakukan dengan memanggil method **`predict`** berdasarkan objek `model`, kemudian memasukkan nilai yang akan diprediksi ke dalam method tersebut. Seperti terlihat pada output di bawah, berapakah hasil prediksi untuk nilai input 10.0?. Anda bisa mencoba nilai lainnya untuk diprediksi."
      ]
    },
    {
      "cell_type": "code",
      "metadata": {
        "id": "L3yPl-lCYXS3"
      },
      "source": [
        "print(model.predict([10.0]))"
      ],
      "execution_count": null,
      "outputs": []
    },
    {
      "cell_type": "markdown",
      "metadata": {
        "id": "bTokBNt4YXS3"
      },
      "source": [
        "## Contoh\n",
        "\n",
        "Pada bagian ini adalah implementasi neural network berdasarkan studi kasus materi [Neural Network Demystified](https://www.youtube.com/playlist?list=PLiaHhY2iBX9hdHaRr6b7XevZtgZRa1PoU) dengan Tensorflow. Pada contoh tersebut terdapat dua atribut yaitu \"Hour of Study\" dan \"Hour of Sleep\", dan satu output yaitu \"Test Score\". Contoh data dapat dilihat pada tabel di bawah.\n",
        "\n",
        "|Hour of Study|Hour of Sleep|Test Score|\n",
        "|-------------|-------------|----------|\n",
        "|3|5|75|\n",
        "|5|1|82|\n",
        "|10|2|93|\n",
        "|3|2|60|\n",
        "|4|3|63|\n",
        "|6|7|94|\n",
        "|8|10|97|\n",
        "\n",
        "Data tersebut disimpan ke dalam struktur data numpy array dua dimensi (untuk atribut/fitur) dan numpy array satu dimensi untuk output."
      ]
    },
    {
      "cell_type": "code",
      "metadata": {
        "id": "h9H6DQdDYXS3"
      },
      "source": [
        "X = np.array([[3, 5], [5, 1], [10, 2], [3, 2], [4, 3], [6, 7], [8, 10]]) # Input\n",
        "y = np.array([75, 82, 93, 60, 63, 94, 97]) # Output"
      ],
      "execution_count": null,
      "outputs": []
    },
    {
      "cell_type": "code",
      "metadata": {
        "scrolled": true,
        "id": "ceOHA6_LYXS3"
      },
      "source": [
        "print(X.shape) # Dimensi array Input\n",
        "print(y.shape) # Dimensi array Output"
      ],
      "execution_count": null,
      "outputs": []
    },
    {
      "cell_type": "markdown",
      "metadata": {
        "id": "mqOgtX2TYXS3"
      },
      "source": [
        "### Data Preprocessing\n",
        "\n",
        "Di bagian ini kita cukup melakukan pre-processing dengan teknik `scaling` saja, karena datasetnya hanya bertipe numerikal. Scaling diimplementasikan dengan kelas **`StandardScaler`** pada modul **`sklearn.preprocessing`**."
      ]
    },
    {
      "cell_type": "code",
      "metadata": {
        "id": "ZZSOAx8vYXS4"
      },
      "source": [
        "from sklearn.preprocessing import StandardScaler\n",
        "\n",
        "scaler = StandardScaler()\n",
        "X_scale = scaler.fit_transform(X)\n",
        "y_scale = scaler.fit_transform(y.reshape(-1, 1))"
      ],
      "execution_count": null,
      "outputs": []
    },
    {
      "cell_type": "markdown",
      "metadata": {
        "id": "8T7Gbr7LYXS4"
      },
      "source": [
        "### Modeling\n",
        "\n",
        "Model neural network yang akan diimplementasikan berdasarkan gambar berikut ini:\n",
        "![model](https://github.com/cornflake15/data-course/blob/main/data-mining/classification/img/model-1.png?raw=1)\n",
        "\n",
        "Kemudian kita bisa me-review model yang kita buat dengan memanggil method **`summary()`** pada objek **`model`**."
      ]
    },
    {
      "cell_type": "code",
      "metadata": {
        "scrolled": true,
        "id": "phdUJyWdYXS5"
      },
      "source": [
        "tf.keras.backend.clear_session()\n",
        "model = keras.Sequential([\n",
        "    keras.layers.Dense(2, input_shape=(2,)),\n",
        "    keras.layers.Dense(3, activation='sigmoid'),\n",
        "    keras.layers.Dense(1)\n",
        "])\n",
        "model.compile(optimizer='sgd', loss='mean_squared_error')\n",
        "model.summary()"
      ],
      "execution_count": null,
      "outputs": []
    },
    {
      "cell_type": "markdown",
      "metadata": {
        "id": "3gp5KDFVYXS5"
      },
      "source": [
        "### Model Fitting"
      ]
    },
    {
      "cell_type": "code",
      "metadata": {
        "scrolled": true,
        "id": "Hgy1JyONYXS5"
      },
      "source": [
        "model.fit(X, y, epochs=200)"
      ],
      "execution_count": null,
      "outputs": []
    },
    {
      "cell_type": "markdown",
      "metadata": {
        "id": "GjGkeASCYXS5"
      },
      "source": [
        "### Prediksi"
      ]
    },
    {
      "cell_type": "code",
      "metadata": {
        "scrolled": true,
        "id": "qw1W3_Y_YXS5"
      },
      "source": [
        "print(model.predict([[5, 5]]))"
      ],
      "execution_count": null,
      "outputs": []
    },
    {
      "cell_type": "markdown",
      "metadata": {
        "id": "tAwuQ19xYXS6"
      },
      "source": [
        "##  Studi Kasus\n",
        "\n",
        "\n",
        "**Fashion MNIST**\n",
        "\n",
        "\n",
        "<img src=\"https://github.com/cornflake15/data-course/blob/main/data-mining/classification/img/fashion-mnist-sprite.png?raw=1\" alt=\"Drawing\" style=\"width: 500px;\"/>\n",
        "\n",
        "Fashion MNIST adalah dataset gambar pakaian sebanyak 70,0000 gambar dengan resolusi 28x28 pixel dengan rentang nilai 0 sampai dengan 255. Dataset ini terdiri dari 10 kategori (label) seperti tertera di tabel bawah ini.\n",
        "\n",
        "<table>\n",
        "  <tr>\n",
        "    <th>Label</th>\n",
        "    <th>Class</th>\n",
        "  </tr>\n",
        "  <tr>\n",
        "    <td>0</td>\n",
        "    <td>T-shirt/top</td>\n",
        "  </tr>\n",
        "  <tr>\n",
        "    <td>1</td>\n",
        "    <td>Trouser</td>\n",
        "  </tr>\n",
        "    <tr>\n",
        "    <td>2</td>\n",
        "    <td>Pullover</td>\n",
        "  </tr>\n",
        "    <tr>\n",
        "    <td>3</td>\n",
        "    <td>Dress</td>\n",
        "  </tr>\n",
        "    <tr>\n",
        "    <td>4</td>\n",
        "    <td>Coat</td>\n",
        "  </tr>\n",
        "    <tr>\n",
        "    <td>5</td>\n",
        "    <td>Sandal</td>\n",
        "  </tr>\n",
        "    <tr>\n",
        "    <td>6</td>\n",
        "    <td>Shirt</td>\n",
        "  </tr>\n",
        "    <tr>\n",
        "    <td>7</td>\n",
        "    <td>Sneaker</td>\n",
        "  </tr>\n",
        "    <tr>\n",
        "    <td>8</td>\n",
        "    <td>Bag</td>\n",
        "  </tr>\n",
        "    <tr>\n",
        "    <td>9</td>\n",
        "    <td>Ankle boot</td>\n",
        "  </tr>\n",
        "</table>\n",
        "\n",
        "\n",
        "Dataset ini sudah disediakan oleh Tensorflow sehingga kita tidak harus men-downloadnya secara terpisah. Dataset Fashion MNIST dapat di-download dengan memanggil modul **`tensorflow.keras.datasets.fashion_minist`**. \n",
        "\n",
        "Domain permasalahan yang bisa dipecahkan oleh neural network pada dataset ini adalah klasifikasi, sehingga kita harus memisahkan antara dataset yang digunakan untuk training dan dataset yang digunakan untuk testing.\n",
        "\n",
        "Sumber: [Tensorflow Tutorial](https://www.tensorflow.org/tutorials/keras/classification)"
      ]
    },
    {
      "cell_type": "code",
      "metadata": {
        "id": "LEghKNgUYXS6"
      },
      "source": [
        "mnist = tf.keras.datasets.fashion_mnist # download dataset\n",
        "(training_images, training_labels), (test_images, test_labels) = mnist.load_data() # memisahkan dataset menjadi training dan testing"
      ],
      "execution_count": null,
      "outputs": []
    },
    {
      "cell_type": "markdown",
      "metadata": {
        "id": "aKDfIvVBYXS7"
      },
      "source": [
        "**Tampilkan Contoh Data**"
      ]
    },
    {
      "cell_type": "code",
      "metadata": {
        "id": "4KDkzV10YXS7"
      },
      "source": [
        "import matplotlib.pyplot as plt\n",
        "\n",
        "np.set_printoptions(linewidth=200)\n",
        "plt.imshow(training_images[0])\n",
        "print(training_images[0])"
      ],
      "execution_count": null,
      "outputs": []
    },
    {
      "cell_type": "markdown",
      "metadata": {
        "id": "_2sEEiSCYXS7"
      },
      "source": [
        "**Normalisasi Data**\n",
        "\n",
        "Ini adalah tahap pre-processing data dengan cara menormalisasi nilai setiap pixel dari gambar dengan cara membagi nilai tersebut dengan 255."
      ]
    },
    {
      "cell_type": "code",
      "metadata": {
        "id": "CWEZ6eYuYXS7"
      },
      "source": [
        "training_images  = training_images / 255.0\n",
        "test_images = test_images / 255.0"
      ],
      "execution_count": null,
      "outputs": []
    },
    {
      "cell_type": "code",
      "metadata": {
        "id": "l1UMrV0JYXS7"
      },
      "source": [
        "# Tampilkan data setelah dinormalisasi\n",
        "print(np.around(training_images[0], 2)) # Dibulatkan sebanyak 2 angka sebagai contoh saja"
      ],
      "execution_count": null,
      "outputs": []
    },
    {
      "cell_type": "markdown",
      "metadata": {
        "id": "EDUGq9V_YXS8"
      },
      "source": [
        "**Modeling**"
      ]
    },
    {
      "cell_type": "code",
      "metadata": {
        "id": "coxbKBX1YXS8"
      },
      "source": [
        "tf.keras.backend.clear_session()\n",
        "model = tf.keras.models.Sequential([tf.keras.layers.Flatten(), \n",
        "                                    tf.keras.layers.Dense(128, activation='relu'), \n",
        "                                    tf.keras.layers.Dense(10, activation='softmax')])\n",
        "model.compile(optimizer = tf.optimizers.Adam(), loss = 'sparse_categorical_crossentropy', metrics=['accuracy'])"
      ],
      "execution_count": null,
      "outputs": []
    },
    {
      "cell_type": "markdown",
      "metadata": {
        "id": "FWECVe-eYXS8"
      },
      "source": [
        "**Model Fitting**"
      ]
    },
    {
      "cell_type": "code",
      "metadata": {
        "id": "3mDz4ZcNYXS8"
      },
      "source": [
        "history = model.fit(training_images, training_labels, epochs=5)"
      ],
      "execution_count": null,
      "outputs": []
    },
    {
      "cell_type": "markdown",
      "metadata": {
        "id": "XfFCMBpjYXS8"
      },
      "source": [
        "**Evaluasi**\n",
        "\n",
        "Setelah proses model fitting, maka dilakukan evaluasi kinerja model terhadap datatest."
      ]
    },
    {
      "cell_type": "code",
      "metadata": {
        "id": "L7vBCVHcYXS9"
      },
      "source": [
        "model.evaluate(test_images, test_labels)"
      ],
      "execution_count": null,
      "outputs": []
    },
    {
      "cell_type": "markdown",
      "metadata": {
        "id": "HVJHKLQEYXS9"
      },
      "source": [
        "**Visualisasikan Hasil Training**"
      ]
    },
    {
      "cell_type": "code",
      "metadata": {
        "id": "BfDM42RMYXS9"
      },
      "source": [
        "import matplotlib.pyplot as plt\n",
        "\n",
        "acc = history.history['accuracy']\n",
        "loss = history.history['loss']\n",
        "\n",
        "epochs = range(len(acc))\n",
        "\n",
        "plt.plot(epochs, acc, label='Training accuracy')\n",
        "plt.title('Training accuracy')\n",
        "\n",
        "plt.figure()\n",
        "\n",
        "plt.plot(epochs, loss, label='Training Loss')\n",
        "plt.title('Training loss')\n",
        "plt.legend()\n",
        "\n",
        "plt.show()"
      ],
      "execution_count": null,
      "outputs": []
    },
    {
      "cell_type": "markdown",
      "metadata": {
        "id": "BCwbF2gMYXS9"
      },
      "source": [
        "Kedua grafik di atas menunjukkan performa model neural network terhadap hasil training. Semakin tinggi grafik Training Accuracy maka sepatutnya semakin baik performa modelnya saat training. Berbanding terbalik dengan Training Loss, jika grafiknya semakin menurun maka semakin baik performa trainingnya."
      ]
    },
    {
      "cell_type": "markdown",
      "metadata": {
        "id": "JwqFrGNrYXS9"
      },
      "source": [
        "**Latihan 1**\n",
        "\n",
        "Jalankan kode program di bawah ini:"
      ]
    },
    {
      "cell_type": "code",
      "metadata": {
        "scrolled": false,
        "id": "zboynA_mYXS-"
      },
      "source": [
        "classifications = model.predict(test_images)\n",
        "\n",
        "print(classifications[0])"
      ],
      "execution_count": null,
      "outputs": []
    },
    {
      "cell_type": "markdown",
      "metadata": {
        "id": "DGtgQtl7YXS-"
      },
      "source": [
        "**Apa arti angka dari output kode program di atas?**\n",
        "\n",
        "1.   10 nilai random yang tidak ada artinya\n",
        "2.   10 klasifikasi yang dihasilkan dari model\n",
        "3.   Nilai probabilitas dari setiap label\n",
        "\n",
        "\n",
        "Jawaban: (3)"
      ]
    },
    {
      "cell_type": "markdown",
      "metadata": {
        "id": "eUeAud2-YXS-"
      },
      "source": [
        "**Latihan 2**\n",
        "\n",
        "Review kode program pendefinisian model yang telah kita lakukan di atas, kemudian kita ubah jumlah neurons pada hidden layer menjadi 512. Apakah terjadi perubahan pada nilai traning loss? Bagaimana menurut pendapat anda?"
      ]
    },
    {
      "cell_type": "code",
      "metadata": {
        "id": "IZJ5Tke_YXS-"
      },
      "source": [
        "mnist = tf.keras.datasets.mnist\n",
        "\n",
        "(training_images, training_labels) ,  (test_images, test_labels) = mnist.load_data()\n",
        "\n",
        "training_images = training_images/255.0\n",
        "test_images = test_images/255.0\n",
        "\n",
        "tf.keras.backend.clear_session()\n",
        "model = tf.keras.models.Sequential([tf.keras.layers.Flatten(),\n",
        "                                    tf.keras.layers.Dense(512, activation='relu'),\n",
        "                                    tf.keras.layers.Dense(10, activation='softmax')])\n",
        "\n",
        "model.compile(optimizer='adam', loss='sparse_categorical_crossentropy')\n",
        "\n",
        "model.fit(training_images, training_labels, epochs=5)\n",
        "\n",
        "model.evaluate(test_images, test_labels)\n",
        "\n",
        "classifications = model.predict(test_images)\n",
        "\n",
        "print(classifications[0])\n",
        "print(test_labels[0])"
      ],
      "execution_count": null,
      "outputs": []
    },
    {
      "cell_type": "markdown",
      "metadata": {
        "id": "jDGwxdMhYXS-"
      },
      "source": [
        "## Latihan: \n",
        "\n",
        "Bagaimana kalau kita menghilangkan layer **`Flatten()`**? Apa yang akan terjadi?"
      ]
    },
    {
      "cell_type": "code",
      "metadata": {
        "id": "uObcLoVAYXS_"
      },
      "source": [
        "mnist = tf.keras.datasets.mnist\n",
        "\n",
        "(training_images, training_labels) ,  (test_images, test_labels) = mnist.load_data()\n",
        "\n",
        "training_images = training_images/255.0\n",
        "test_images = test_images/255.0\n",
        "\n",
        "tf.keras.backend.clear_session()\n",
        "model = tf.keras.models.Sequential([#tf.keras.layers.Flatten(),\n",
        "                                    tf.keras.layers.Dense(512, activation='relu'),\n",
        "                                    tf.keras.layers.Dense(10, activation='softmax')])\n",
        "\n",
        "model.compile(optimizer='adam', loss='sparse_categorical_crossentropy')\n",
        "\n",
        "model.fit(training_images, training_labels, epochs=5)\n",
        "\n",
        "model.evaluate(test_images, test_labels)\n",
        "\n",
        "classifications = model.predict(test_images)\n",
        "\n",
        "print(classifications[0])\n",
        "print(test_labels[0])"
      ],
      "execution_count": null,
      "outputs": []
    },
    {
      "cell_type": "markdown",
      "metadata": {
        "id": "9qq0ymmtYXS_"
      },
      "source": [
        "Anda mendapatkan error mengenai \"shape of the data\", artinya dimensi data tidak sama dengan dimensi input yang diterima oleh input layer pada model. Ingat kembali bahwa dataset yang kita gunakan adalah gambar dengan resolusi 28x28 pixel, maka kita harus membuat input layer yang bisa memfasilitasi hal tersebut (_membuat kode program untuk memfasilitasi input gambar 28x28 sangat kompleks_).\n",
        "\n",
        "Oleh karena itu, layer `Flatten()` berguna dalam hal mempermudah implementasi hal tersebut. Layer ini secara otomatis akan mengubah input 28x28 pixel menjadi array 1 dimensi sepanjang 748 (28 x 28 = 748)."
      ]
    },
    {
      "cell_type": "markdown",
      "metadata": {
        "id": "C7t8b8xxYXS_"
      },
      "source": [
        "**Latihan 4**:\n",
        "\n",
        "Bagaimana kalau kita ubah jumlah neurons pada output layer menjadi 5, apakah yang akan terjadi? Mengapa hal itu terjadi?"
      ]
    },
    {
      "cell_type": "code",
      "metadata": {
        "id": "OaHkG5v9YXS_"
      },
      "source": [
        "mnist = tf.keras.datasets.mnist\n",
        "\n",
        "(training_images, training_labels) ,  (test_images, test_labels) = mnist.load_data()\n",
        "\n",
        "training_images = training_images/255.0\n",
        "test_images = test_images/255.0\n",
        "\n",
        "tf.keras.backend.clear_session()\n",
        "model = tf.keras.models.Sequential([tf.keras.layers.Flatten(),\n",
        "                                    tf.keras.layers.Dense(512, activation='relu'),\n",
        "                                    tf.keras.layers.Dense(5, activation='softmax')])\n",
        "\n",
        "model.compile(optimizer='adam', loss='sparse_categorical_crossentropy')\n",
        "\n",
        "model.fit(training_images, training_labels, epochs=5)\n",
        "\n",
        "model.evaluate(test_images, test_labels)\n",
        "\n",
        "classifications = model.predict(test_images)\n",
        "\n",
        "print(classifications[0])\n",
        "print(test_labels[0])"
      ],
      "execution_count": null,
      "outputs": []
    },
    {
      "cell_type": "markdown",
      "metadata": {
        "id": "aDfa5lhfYXS_"
      },
      "source": [
        "**Latihan 5**: \n",
        "\n",
        "Kita akan menambahkan hidden layer baru dengan jumlah neurons sebanyak 256. Apakah yang akan terjadi? Mengapa hal itu terjadi?"
      ]
    },
    {
      "cell_type": "code",
      "metadata": {
        "id": "jOUIl6xDYXTA"
      },
      "source": [
        "mnist = tf.keras.datasets.mnist\n",
        "\n",
        "(training_images, training_labels) ,  (test_images, test_labels) = mnist.load_data()\n",
        "\n",
        "training_images = training_images/255.0\n",
        "test_images = test_images/255.0\n",
        "\n",
        "tf.keras.backend.clear_session()\n",
        "model = tf.keras.models.Sequential([tf.keras.layers.Flatten(),\n",
        "                                    tf.keras.layers.Dense(512, activation='relu'),\n",
        "                                    tf.keras.layers.Dense(256, activation='relu')\n",
        "                                    tf.keras.layers.Dense(5, activation='softmax')])\n",
        "\n",
        "model.compile(optimizer='adam', loss='sparse_categorical_crossentropy')\n",
        "\n",
        "model.fit(training_images, training_labels, epochs=5)\n",
        "\n",
        "model.evaluate(test_images, test_labels)\n",
        "\n",
        "classifications = model.predict(test_images)\n",
        "\n",
        "print(classifications[0])\n",
        "print(test_labels[0])"
      ],
      "execution_count": null,
      "outputs": []
    },
    {
      "cell_type": "markdown",
      "metadata": {
        "id": "mW4QGGNzYXTA"
      },
      "source": [
        "**Latihan 6**: \n",
        "\n",
        "Cobalah untuk menambahkan jumlah epoch secara bertahap menjadi 15, 30, 50, kemudian 100. Apakah yang akan terjadi? Dan mengapa hal itu terjadi?"
      ]
    },
    {
      "cell_type": "code",
      "metadata": {
        "id": "xCIRa8CxYXTA"
      },
      "source": [
        "mnist = tf.keras.datasets.mnist\n",
        "\n",
        "(training_images, training_labels) ,  (test_images, test_labels) = mnist.load_data()\n",
        "\n",
        "training_images = training_images/255.0\n",
        "test_images = test_images/255.0\n",
        "\n",
        "tf.keras.backend.clear_session()\n",
        "model = tf.keras.models.Sequential([tf.keras.layers.Flatten(),\n",
        "                                    tf.keras.layers.Dense(512, activation='relu'),\n",
        "                                    tf.keras.layers.Dense(5, activation='softmax')])\n",
        "\n",
        "model.compile(optimizer='adam', loss='sparse_categorical_crossentropy')\n",
        "\n",
        "model.fit(training_images, training_labels, epochs=30)\n",
        "\n",
        "model.evaluate(test_images, test_labels)\n",
        "\n",
        "classifications = model.predict(test_images)\n",
        "\n",
        "print(classifications[34])\n",
        "print(test_labels[34])"
      ],
      "execution_count": null,
      "outputs": []
    },
    {
      "cell_type": "markdown",
      "metadata": {
        "id": "8QTXBRm2YXTA"
      },
      "source": [
        "**Latihan 7**: \n",
        "\n",
        "Jika kita menghilangkan proses preprocessing, apa yang akan terjadi? Apakah anda akan mendapatkan hasil yang berbeda? "
      ]
    },
    {
      "cell_type": "code",
      "metadata": {
        "id": "I7uonqoxYXTA"
      },
      "source": [
        "mnist = tf.keras.datasets.mnist\n",
        "\n",
        "(training_images, training_labels) ,  (test_images, test_labels) = mnist.load_data()\n",
        "\n",
        "# Preprocessing\n",
        "# Berikan tag komentar pada baris kode program 6 dan 7\n",
        "training_images = training_images/255.0\n",
        "test_images = test_images/255.0\n",
        "\n",
        "tf.keras.backend.clear_session()\n",
        "model = tf.keras.models.Sequential([tf.keras.layers.Flatten(),\n",
        "                                    tf.keras.layers.Dense(512, activation='relu'),\n",
        "                                    tf.keras.layers.Dense(5, activation='softmax')])\n",
        "\n",
        "model.compile(optimizer='adam', loss='sparse_categorical_crossentropy')\n",
        "\n",
        "model.fit(training_images, training_labels, epochs=30)\n",
        "\n",
        "model.evaluate(test_images, test_labels)\n",
        "\n",
        "classifications = model.predict(test_images)\n",
        "\n",
        "print(classifications[34])\n",
        "print(test_labels[34])"
      ],
      "execution_count": null,
      "outputs": []
    }
  ]
}