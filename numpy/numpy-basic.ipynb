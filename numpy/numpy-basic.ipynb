{
 "metadata": {
  "language_info": {
   "codemirror_mode": {
    "name": "ipython",
    "version": 3
   },
   "file_extension": ".py",
   "mimetype": "text/x-python",
   "name": "python",
   "nbconvert_exporter": "python",
   "pygments_lexer": "ipython3",
   "version": "3.8.3-final"
  },
  "orig_nbformat": 2,
  "kernelspec": {
   "name": "python3",
   "display_name": "Python 3.8.3 64-bit",
   "metadata": {
    "interpreter": {
     "hash": "034d7b1aae867f388c2b69a206184a0d5d880735255240b8d9999c87c517cf0f"
    }
   }
  }
 },
 "nbformat": 4,
 "nbformat_minor": 2,
 "cells": [
  {
   "source": [
    "# Dasar Pemrograman Numpy\n",
    "\n",
    "**Pendahuluan**\n",
    "\n",
    "Numpy adalah modul pada bahasa pemrograman Python yang digunakan untuk tujuan _scientific computing_. Numpy adalah modul atau _package_ fundamental yang banyak dimaanfaatkan oleh modul-modul lainnya pada Python.\n",
    "\n",
    "Numpy juga bisa dianggap sebagai _library_ yang menyediakan operasi-operasi untuk penanganan _array_ multidimensi (matriks) misalnya seperti, operasi aritmatika, logika, _shape manipulation_, _sorting_, _selecting_, I/O, _discrete Fourier transforms_, aljabar linier, operasi statistik dasar, _random simulation_, dan masih banyak lagi.\n",
    "\n",
    "Inti dari Numpy adalah objek __ndarray__\n"
   ],
   "cell_type": "markdown",
   "metadata": {}
  },
  {
   "cell_type": "code",
   "execution_count": null,
   "metadata": {},
   "outputs": [],
   "source": []
  }
 ]
}