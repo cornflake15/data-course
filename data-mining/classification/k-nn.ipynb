{
  "nbformat": 4,
  "nbformat_minor": 0,
  "metadata": {
    "kernelspec": {
      "display_name": "Python 3",
      "language": "python",
      "name": "python3"
    },
    "language_info": {
      "codemirror_mode": {
        "name": "ipython",
        "version": 3
      },
      "file_extension": ".py",
      "mimetype": "text/x-python",
      "name": "python",
      "nbconvert_exporter": "python",
      "pygments_lexer": "ipython3",
      "version": "3.8.3-final"
    },
    "colab": {
      "name": "k-nn.ipynb",
      "provenance": [],
      "include_colab_link": true
    }
  },
  "cells": [
    {
      "cell_type": "markdown",
      "metadata": {
        "id": "view-in-github",
        "colab_type": "text"
      },
      "source": [
        "<a href=\"https://colab.research.google.com/github/cornflake15/data-course/blob/mining/data-mining/classification/k-nn.ipynb\" target=\"_parent\"><img src=\"https://colab.research.google.com/assets/colab-badge.svg\" alt=\"Open In Colab\"/></a>"
      ]
    },
    {
      "cell_type": "markdown",
      "metadata": {
        "id": "8kl3mfJ_Wmm4"
      },
      "source": [
        "# Classification"
      ]
    },
    {
      "cell_type": "markdown",
      "metadata": {
        "id": "dH_pPfJ9WmnA"
      },
      "source": [
        "## K-Nearest Neighbors\n",
        "\n",
        "Kode program berikut mengimplementasikan algoritma K-NN dengan library [scikit-learn](https://scikit-learn.org/stable/auto_examples/neighbors/plot_classification.html#sphx-glr-auto-examples-neighbors-plot-classification-py)."
      ]
    },
    {
      "cell_type": "markdown",
      "metadata": {
        "id": "i602xYeiWmnA"
      },
      "source": [
        "### 1. Import library yang diperlukan"
      ]
    },
    {
      "cell_type": "code",
      "metadata": {
        "id": "WMsPdlUjWmnB"
      },
      "source": [
        "import numpy as np\n",
        "import matplotlib.pyplot as plt\n",
        "from matplotlib.colors import ListedColormap\n",
        "from sklearn import neighbors, datasets\n",
        "from sklearn.neighbors import DistanceMetric"
      ],
      "execution_count": null,
      "outputs": []
    },
    {
      "cell_type": "markdown",
      "metadata": {
        "id": "lSwC1TnkWmnB"
      },
      "source": [
        "### 2. Load Dataset\n",
        "\n",
        "Di sini kita akan menggunakan dataset bunga Iris.\n",
        "\n",
        "![Iris](https://s3.amazonaws.com/assets.datacamp.com/blog_assets/Machine+Learning+R/iris-machinelearning.png). "
      ]
    },
    {
      "cell_type": "code",
      "metadata": {
        "id": "7vctsPo8WmnC"
      },
      "source": [
        "iris = datasets.load_iris()"
      ],
      "execution_count": null,
      "outputs": []
    },
    {
      "cell_type": "markdown",
      "metadata": {
        "id": "WCUQImQ0WmnC"
      },
      "source": [
        "Penjelasan mengenai dataset Iris"
      ]
    },
    {
      "cell_type": "code",
      "metadata": {
        "id": "RGWOuZbnWmnC"
      },
      "source": [
        "iris.DESCR"
      ],
      "execution_count": null,
      "outputs": []
    },
    {
      "cell_type": "markdown",
      "metadata": {
        "id": "kxjipmGtWmnD"
      },
      "source": [
        "### 3. Pisahkan data untuk training dan untuk testing.\n",
        "\n",
        "Pada bagian ini kita hanya menggunakan dua fitur dari bunga Iris saja."
      ]
    },
    {
      "cell_type": "code",
      "metadata": {
        "id": "Ob6vKuTKWmnE"
      },
      "source": [
        "X = iris.data[:, :2]\n",
        "y = iris.target"
      ],
      "execution_count": null,
      "outputs": []
    },
    {
      "cell_type": "markdown",
      "metadata": {
        "id": "N_4EMucjWmnE"
      },
      "source": [
        "#### 3.1 Fitur"
      ]
    },
    {
      "cell_type": "code",
      "metadata": {
        "id": "2hH8mRxmWmnE"
      },
      "source": [
        "print(X[:5])   # Tampilkan lima baris pertama"
      ],
      "execution_count": null,
      "outputs": []
    },
    {
      "cell_type": "markdown",
      "metadata": {
        "id": "Hbrou9-mWmnE"
      },
      "source": [
        "#### 3.2 Label"
      ]
    },
    {
      "cell_type": "code",
      "metadata": {
        "id": "_O1mdN7aWmnF"
      },
      "source": [
        "print(y[:5])    # Tampilkan lima baris pertama"
      ],
      "execution_count": null,
      "outputs": []
    },
    {
      "cell_type": "markdown",
      "metadata": {
        "id": "HH49OMDoWmnF"
      },
      "source": [
        "### 4. Inisialisasi hyper-parameter"
      ]
    },
    {
      "cell_type": "code",
      "metadata": {
        "id": "J8GcBHZaWmnF"
      },
      "source": [
        "jumlah_neighbors = 15\n",
        "weights = ['uniform', 'distance']\n",
        "metrics = ['euclidean', 'manhattan', 'chebyshev', 'minkowski', \n",
        "          'wminkowski', 'seuclidean', 'mahalanobis']"
      ],
      "execution_count": null,
      "outputs": []
    },
    {
      "cell_type": "markdown",
      "metadata": {
        "id": "znDaHeUIWmnF"
      },
      "source": [
        "### 5. Modeling dengan K-NN\n",
        "\n",
        "K-NN diimplementasikan dengan kelas `neighbors.KNeighborsClassifier()` pada scikit-learn."
      ]
    },
    {
      "cell_type": "code",
      "metadata": {
        "scrolled": true,
        "id": "FWKCGd7OWmnF"
      },
      "source": [
        "knn_classifier = neighbors.KNeighborsClassifier(jumlah_neighbors, \n",
        "                                                weights=weights[0], # weights = 'uniform'\n",
        "                                                metric=metrics[0])  # metrics = 'euclidian'\n",
        "knn_classifier.fit(X, y)    # Fit data training dan testing ke classifier"
      ],
      "execution_count": null,
      "outputs": []
    },
    {
      "cell_type": "code",
      "metadata": {
        "id": "cCYSCdnKWmnG"
      },
      "source": [
        "x_min, x_max = X[:, 0].min() - 1, X[:, 0].max() + 1\n",
        "y_min, y_max = X[:, 1].min() - 1, X[:, 1].max() + 1\n",
        "h = .02\n",
        "xx, yy = np.meshgrid(np.arange(x_min, x_max, h), np.arange(y_min, y_max, h))\n",
        "\n",
        "# Lakukan prediksi\n",
        "Z = knn_classifier.predict(np.c_[xx.ravel(), yy.ravel()])"
      ],
      "execution_count": null,
      "outputs": []
    },
    {
      "cell_type": "markdown",
      "metadata": {
        "id": "thXk-cWPWmnG"
      },
      "source": [
        "Visualisasi"
      ]
    },
    {
      "cell_type": "code",
      "metadata": {
        "scrolled": true,
        "id": "J50ZHLy8WmnG"
      },
      "source": [
        "cmap_light = ListedColormap(['orange', 'cyan', 'cornflowerblue'])\n",
        "cmap_bold = ListedColormap(['darkorange', 'c', 'darkblue'])\n",
        "Z = Z.reshape(xx.shape)\n",
        "plt.figure()\n",
        "plt.pcolormesh(xx, yy, Z, shading='auto', cmap=cmap_light)\n",
        "\n",
        "# Plot also the training points\n",
        "plt.scatter(X[:, 0], X[:, 1], c=y, cmap=cmap_bold, edgecolor='k', s=20)\n",
        "plt.xlim(xx.min(), xx.max())\n",
        "plt.ylim(yy.min(), yy.max())\n",
        "plt.title('3-Class classification')\n",
        "\n",
        "plt.show()"
      ],
      "execution_count": null,
      "outputs": []
    },
    {
      "cell_type": "markdown",
      "metadata": {
        "id": "f-e39j1OWmnG"
      },
      "source": [
        "Bagaimana jika menggunakan `weight='distance'` pada saat pendefinisian `neighbors.KNeighborsClassifier()`."
      ]
    },
    {
      "cell_type": "code",
      "metadata": {
        "id": "pAHHyzvVWmnH"
      },
      "source": [
        "X = iris.data[:, :2]\n",
        "y = iris.target\n",
        "\n",
        "knn_classifier = neighbors.KNeighborsClassifier(jumlah_neighbors, \n",
        "                                                weights=weights[1], # weights = 'distance'\n",
        "                                                metric=metrics[0])  # metrics = 'euclidian'\n",
        "knn_classifier.fit(X, y)\n",
        "\n",
        "x_min, x_max = X[:, 0].min() - 1, X[:, 0].max() + 1\n",
        "y_min, y_max = X[:, 1].min() - 1, X[:, 1].max() + 1\n",
        "xx, yy = np.meshgrid(np.arange(x_min, x_max, h), np.arange(y_min, y_max, h))\n",
        "Z = knn_classifier.predict(np.c_[xx.ravel(), yy.ravel()])"
      ],
      "execution_count": null,
      "outputs": []
    },
    {
      "cell_type": "markdown",
      "metadata": {
        "id": "VhkKhk2oWmnH"
      },
      "source": [
        "Visualisasi"
      ]
    },
    {
      "cell_type": "code",
      "metadata": {
        "id": "szYwzS2nWmnH"
      },
      "source": [
        "cmap_light = ListedColormap(['orange', 'cyan', 'cornflowerblue'])\n",
        "cmap_bold = ListedColormap(['darkorange', 'c', 'darkblue'])\n",
        "Z = Z.reshape(xx.shape)\n",
        "plt.figure()\n",
        "plt.pcolormesh(xx, yy, Z, shading='auto', cmap=cmap_light)\n",
        "\n",
        "# Plot also the training points\n",
        "plt.scatter(X[:, 0], X[:, 1], c=y, cmap=cmap_bold, edgecolor='k', s=20)\n",
        "plt.xlim(xx.min(), xx.max())\n",
        "plt.ylim(yy.min(), yy.max())\n",
        "plt.title('3-Class classification')\n",
        "\n",
        "plt.show()"
      ],
      "execution_count": null,
      "outputs": []
    },
    {
      "cell_type": "markdown",
      "metadata": {
        "id": "cC-OQhbLWmnH"
      },
      "source": [
        "Penjelasan mengenai visualisasi.\n",
        "\n",
        "![viz](img/knn-1.png)"
      ]
    },
    {
      "cell_type": "markdown",
      "metadata": {
        "id": "PYHudiMfWmnH"
      },
      "source": [
        "### 6. Menggunakan seluruh fitur dalam dataset Iris.\n",
        "\n",
        "Jika sebelumnya kita hanya menggunakan dua fitur, sedangkan di bagian ini kita akan menggunakan seluruh fitur yang ada."
      ]
    },
    {
      "cell_type": "code",
      "metadata": {
        "id": "z9VP-zEWWmnI"
      },
      "source": [
        "X = iris.data\n",
        "y = iris.target\n",
        "h = .02"
      ],
      "execution_count": null,
      "outputs": []
    },
    {
      "cell_type": "markdown",
      "metadata": {
        "id": "Ajhce6W1WmnI"
      },
      "source": [
        "#### 6.1 DataFrame Format\n",
        "\n",
        "Kita masukkan dataset dari scikit-learn ke dalam format struktur data DataFrame dari library **pandas**."
      ]
    },
    {
      "cell_type": "code",
      "metadata": {
        "id": "ZmGU-6JjWmnI"
      },
      "source": [
        "import pandas as pd\n",
        "\n",
        "X = pd.DataFrame(iris.data, columns=['sepal length (cm)', 'sepal width (cm)', 'petal length (cm)', 'petal width (cm)'])\n",
        "y = pd.DataFrame(iris.target, columns=['Class'])"
      ],
      "execution_count": null,
      "outputs": []
    },
    {
      "cell_type": "code",
      "metadata": {
        "id": "bYHq6pLjWmnI"
      },
      "source": [
        "X.head()    # Tampilkan sebagian data"
      ],
      "execution_count": null,
      "outputs": []
    },
    {
      "cell_type": "code",
      "metadata": {
        "id": "3E51tTqcWmnI"
      },
      "source": [
        "y.head()"
      ],
      "execution_count": null,
      "outputs": []
    },
    {
      "cell_type": "markdown",
      "metadata": {
        "id": "B3ZCzS93WmnJ"
      },
      "source": [
        "Seperti terlihat pada tabel di atas, dataset disajikan dalam bentuk tabel daripada bentuk array/list sehingga lebih mudah dibaca dan diinterpretasikan."
      ]
    },
    {
      "cell_type": "markdown",
      "metadata": {
        "id": "c2Cvvt-qWmnJ"
      },
      "source": [
        "#### 6.2 Bagi dataset menjadi data train dan data test\n",
        "\n",
        "Proses pembagian dataset menggunakan method `train_test_split()` dari library scikit-learn."
      ]
    },
    {
      "cell_type": "code",
      "metadata": {
        "id": "xQPCqIYbWmnJ"
      },
      "source": [
        "from sklearn.model_selection import train_test_split\n",
        "\n",
        "X_train, X_test, y_train, y_test = train_test_split(X[['sepal length (cm)', 'sepal width (cm)', \n",
        "                                                       'petal length (cm)', 'petal width (cm)']],\n",
        "                                                    y['Class'], random_state=111)\n",
        "print('X_train shape: {} \\n y_train shape: {}'.format(X_train.shape, y_train.shape))\n",
        "print('X_test shape: {} \\n y_test shape: {}'.format(X_test.shape, y_test.shape))"
      ],
      "execution_count": null,
      "outputs": []
    },
    {
      "cell_type": "markdown",
      "metadata": {
        "id": "fNmUU5pPWmnJ"
      },
      "source": [
        "#### 6.3 Training Data"
      ]
    },
    {
      "cell_type": "code",
      "metadata": {
        "id": "-CLIKJONWmnK"
      },
      "source": [
        "knn_classifier = neighbors.KNeighborsClassifier(n_neighbors=jumlah_neighbors)\n",
        "knn_classifier.fit(X_train, y_train)"
      ],
      "execution_count": null,
      "outputs": []
    },
    {
      "cell_type": "markdown",
      "metadata": {
        "id": "8-p81sb0WmnK"
      },
      "source": [
        "#### 6.4 Prediksi pada data test"
      ]
    },
    {
      "cell_type": "code",
      "metadata": {
        "id": "JbieAwLGWmnK"
      },
      "source": [
        "y_pred = knn_classifier.predict(X_test)"
      ],
      "execution_count": null,
      "outputs": []
    },
    {
      "cell_type": "markdown",
      "metadata": {
        "id": "wrYGbIUhWmnK"
      },
      "source": [
        "#### 6.5 Tampilkan hasil prediksi dalam tabel"
      ]
    },
    {
      "cell_type": "code",
      "metadata": {
        "id": "WmuzIgPkWmnK"
      },
      "source": [
        "pd.concat([X_test, y_test, pd.Series(y_pred, name='Predicted', index=X_test.index)],\n",
        "          ignore_index=False, axis=1).head()"
      ],
      "execution_count": null,
      "outputs": []
    },
    {
      "cell_type": "markdown",
      "metadata": {
        "id": "kX9PFrsMWmnL"
      },
      "source": [
        "#### 6.6 Nilai Prediksi"
      ]
    },
    {
      "cell_type": "code",
      "metadata": {
        "id": "VnuhJe1rWmnL"
      },
      "source": [
        "print('Nilai prediksi: {}'.format(knn_classifier.score(X_test, y_test)))"
      ],
      "execution_count": null,
      "outputs": []
    },
    {
      "cell_type": "code",
      "metadata": {
        "id": "V-cjXjNGWmnL"
      },
      "source": [
        ""
      ],
      "execution_count": null,
      "outputs": []
    }
  ]
}